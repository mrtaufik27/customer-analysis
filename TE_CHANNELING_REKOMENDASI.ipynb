{
 "cells": [
  {
   "cell_type": "code",
   "execution_count": 2,
   "metadata": {
    "ExecuteTime": {
     "end_time": "2021-11-18T04:05:37.584143Z",
     "start_time": "2021-11-18T04:05:37.576746Z"
    }
   },
   "outputs": [],
   "source": [
    "from pyspark import SparkConf\n",
    "from pyspark.sql import SparkSession\n",
    "from datetime import datetime\n",
    "from pyspark.sql.functions import broadcast\n",
    "# startTime = datetime.now()"
   ]
  },
  {
   "cell_type": "code",
   "execution_count": 3,
   "metadata": {
    "ExecuteTime": {
     "end_time": "2021-11-18T04:05:41.683660Z",
     "start_time": "2021-11-18T04:05:39.756388Z"
    }
   },
   "outputs": [
    {
     "name": "stderr",
     "output_type": "stream",
     "text": [
      "\n",
      "Bad key \"backend.qt4\" on line 43 in\n",
      "/etc/matplotlib/matplotlibrc.\n",
      "You probably need to get an updated matplotlibrc file from\n",
      "https://github.com/matplotlib/matplotlib/blob/v3.2.2/matplotlibrc.template\n",
      "or from the matplotlib source distribution\n"
     ]
    }
   ],
   "source": [
    "import pandas as pd\n",
    "import numpy as np\n",
    "import statsmodels.api as sm\n",
    "import scipy \n",
    "import scipy.stats as st\n",
    "import matplotlib.pyplot as plt\n",
    "import seaborn as sns\n",
    "\n",
    "from sklearn.metrics import confusion_matrix\n",
    "import matplotlib.mlab as mlab\n",
    "%matplotlib inline\n",
    "\n"
   ]
  },
  {
   "cell_type": "code",
   "execution_count": 4,
   "metadata": {
    "ExecuteTime": {
     "end_time": "2021-11-18T04:05:42.800911Z",
     "start_time": "2021-11-18T04:05:42.654380Z"
    }
   },
   "outputs": [],
   "source": [
    "import pandas as pd\n",
    "from pandas import DataFrame\n",
    "import numpy as np \n",
    "import scipy \n",
    "import scipy.stats as ss\n",
    "from scipy.stats import chi2_contingency\n",
    "import seaborn as sns\n",
    "import matplotlib.pyplot as plt\n",
    "import matplotlib.colors as mcolors\n",
    "from sklearn import preprocessing\n",
    "from sklearn.cluster import KMeans\n",
    "from sklearn.preprocessing import MinMaxScaler"
   ]
  },
  {
   "cell_type": "code",
   "execution_count": 5,
   "metadata": {
    "ExecuteTime": {
     "end_time": "2021-11-18T04:06:23.796654Z",
     "start_time": "2021-11-18T04:05:49.927049Z"
    }
   },
   "outputs": [],
   "source": [
    "conf = SparkConf()\n",
    "\n",
    "conf = conf.set(\"spark.executor.instances\", '8')\n",
    "conf = conf.set(\"spark.executor.cores\", '4')\n",
    "conf = conf.set(\"spark.executor.memory\", \"60G\")\n",
    "# conf = conf.set(\"spark.jars\", \"db2jcc4.jar\")\n",
    "conf = conf.set(\"spark.sql.legacy.allowCreatingManagedTableUsingNonemptyLocation\",\"true\")\n",
    "conf = conf.set(\"spark.sql.broadcastTimeout\",  \"900\")\n",
    "conf = conf.set(\"spark.driver.maxResultSize\", \"8g\")\n",
    "\n",
    "spark = SparkSession.builder \\\n",
    "    .config(conf=conf) \\\n",
    "    .config('spark.dynamicAllocation.enabled', 'false') \\\n",
    "    .config('spark.kryoserializer.buffer.max', '2047') \\\n",
    "    .config('spark.io.compression.codec', 'snappy') \\\n",
    "    .config('spark.blacklist.enabled', 'false') \\\n",
    "    .config('spark.dynamicAllocation.enabled', 'false') \\\n",
    "    .master(\"yarn\") \\\n",
    "    .appName(\"---\") \\\n",
    "    .config('spark.yarn.executor.memoryOverhead', '10g') \\\n",
    "    .enableHiveSupport() \\\n",
    "    .getOrCreate()"
   ]
  },
  {
   "cell_type": "markdown",
   "metadata": {},
   "source": [
    "# PREPROCESSING DATA"
   ]
  },
  {
   "cell_type": "code",
   "execution_count": 15,
   "metadata": {
    "ExecuteTime": {
     "end_time": "2021-11-18T04:34:15.270011Z",
     "start_time": "2021-11-18T04:34:15.204117Z"
    }
   },
   "outputs": [],
   "source": [
    "# INPUT DATA\n",
    "df=spark.sql(\"\"\"\n",
    "\n",
    "\n",
    "select *  \n",
    "from dev_staging.dm_profilling_te_channel_detail\n",
    "\n",
    "\"\"\")\n",
    "\n",
    "# type(df)"
   ]
  },
  {
   "cell_type": "code",
   "execution_count": 16,
   "metadata": {
    "ExecuteTime": {
     "end_time": "2021-11-18T04:34:19.254028Z",
     "start_time": "2021-11-18T04:34:19.247068Z"
    }
   },
   "outputs": [
    {
     "data": {
      "text/plain": [
       "pyspark.sql.dataframe.DataFrame"
      ]
     },
     "execution_count": 16,
     "metadata": {},
     "output_type": "execute_result"
    }
   ],
   "source": [
    "type(df)"
   ]
  },
  {
   "cell_type": "code",
   "execution_count": 17,
   "metadata": {
    "ExecuteTime": {
     "end_time": "2021-11-18T04:34:20.632620Z",
     "start_time": "2021-11-18T04:34:20.282705Z"
    }
   },
   "outputs": [
    {
     "name": "stdout",
     "output_type": "stream",
     "text": [
      "+---------------+----+---------+----------------+---------+----------+-------------------+-----------+---------------+----------+----------+----+-----+-------+----------+----------+------------+-----------+--------------+-----+-------+-----------------+----------+----------+-------------+----------+-----------------+---------+----------+-----------+-----------+\n",
      "|status_customer| cif|create_by|           norek|CLIENT_ID|CHANNEL_ID|           tgl_buka|TARGET_CUST|total_transaksi|status_kyc|source_kyc|nama|no_id|user_id|branch_kyc|status_rek|total_amount|total_berat|       channel|agama|profesi|jumlah_tanggungan|pendidikan|range_gaji|jenis_kelamin|range_usia|dukcapil_verified|region_nm|segmentasi|rekomendasi|churn_proba|\n",
      "+---------------+----+---------+----------------+---------+----------+-------------------+-----------+---------------+----------+----------+----+-----+-------+----------+----------+------------+-----------+--------------+-----+-------+-----------------+----------+----------+-------------+----------+-----------------+---------+----------+-----------+-----------+\n",
      "|   NOT_CUSTOMER|null|     null|1232119657220519|     5101|      6017|2019-10-10 00:00:00|     450000|             17|      null|      null|null| null|   null|      null|         1|        null|       null|TOKOPEDIA EMAS| null|   null|             null|      null|      null|         null|      null|             null|     null|      null|  Not_Churn|       null|\n",
      "|   NOT_CUSTOMER|null|     null|1232121650004585|     5101|      6017|2021-01-01 00:00:00|     450000|              2|      null|      null|null| null|   null|      null|         1|        null|       null|TOKOPEDIA EMAS| null|   null|             null|      null|      null|         null|      null|             null|     null|      null|  Not_Churn|       null|\n",
      "|   NOT_CUSTOMER|null|     null|1232121651783963|     5101|      6017|2021-07-11 00:00:00|     450000|              1|      null|      null|null| null|   null|      null|         1|        null|       null|TOKOPEDIA EMAS| null|   null|             null|      null|      null|         null|      null|             null|     null|      null|  Not_Churn|       null|\n",
      "|   NOT_CUSTOMER|null|     null|1232119652831070|     5101|      6017|2019-05-21 00:00:00|     450000|              1|      null|      null|null| null|   null|      null|         1|        null|       null|TOKOPEDIA EMAS| null|   null|             null|      null|      null|         null|      null|             null|     null|      null|  Not_Churn|       null|\n",
      "|   NOT_CUSTOMER|null|     null|1232120654029374|     5101|      6017|2020-07-07 00:00:00|     450000|              6|      null|      null|null| null|   null|      null|         1|        null|       null|TOKOPEDIA EMAS| null|   null|             null|      null|      null|         null|      null|             null|     null|      null|  Not_Churn|       null|\n",
      "|   NOT_CUSTOMER|null|     null|1232120653530919|     5101|      6017|2020-06-04 00:00:00|     450000|              6|      null|      null|null| null|   null|      null|         1|        null|       null|TOKOPEDIA EMAS| null|   null|             null|      null|      null|         null|      null|             null|     null|      null|  Not_Churn|       null|\n",
      "|   NOT_CUSTOMER|null|     null|1232119651760221|     5101|      6017|2019-04-30 00:00:00|     450000|              2|      null|      null|null| null|   null|      null|         1|        null|       null|TOKOPEDIA EMAS| null|   null|             null|      null|      null|         null|      null|             null|     null|      null|  Not_Churn|       null|\n",
      "|   NOT_CUSTOMER|null|     null|1232119651206274|     5101|      6017|2019-04-17 00:00:00|     450000|             30|      null|      null|null| null|   null|      null|         1|        null|       null|TOKOPEDIA EMAS| null|   null|             null|      null|      null|         null|      null|             null|     null|      null|  Not_Churn|       null|\n",
      "|   NOT_CUSTOMER|null|     null|1232119655855878|     5101|      6017|2019-08-19 00:00:00|     450000|             69|      null|      null|null| null|   null|      null|         1|        null|       null|TOKOPEDIA EMAS| null|   null|             null|      null|      null|         null|      null|             null|     null|      null|  Not_Churn|       null|\n",
      "|   NOT_CUSTOMER|null|     null|1232119656920002|     5101|      6017|2019-09-28 00:00:00|     450000|              1|      null|      null|null| null|   null|      null|         1|        null|       null|TOKOPEDIA EMAS| null|   null|             null|      null|      null|         null|      null|             null|     null|      null|  Not_Churn|       null|\n",
      "|   NOT_CUSTOMER|null|     null|1232121650881701|     5101|      6017|2021-04-04 00:00:00|     450000|              4|      null|      null|null| null|   null|      null|         1|        null|       null|TOKOPEDIA EMAS| null|   null|             null|      null|      null|         null|      null|             null|     null|      null|  Not_Churn|       null|\n",
      "|   NOT_CUSTOMER|null|     null|1232120653735021|     5101|      6017|2020-06-16 00:00:00|     450000|              1|      null|      null|null| null|   null|      null|         1|        null|       null|TOKOPEDIA EMAS| null|   null|             null|      null|      null|         null|      null|             null|     null|      null|  Not_Churn|       null|\n",
      "|   NOT_CUSTOMER|null|     null|1232119654793302|     5101|      6017|2019-07-12 00:00:00|     450000|              1|      null|      null|null| null|   null|      null|         1|        null|       null|TOKOPEDIA EMAS| null|   null|             null|      null|      null|         null|      null|             null|     null|      null|  Not_Churn|       null|\n",
      "|   NOT_CUSTOMER|null|     null|1232119652801404|     5101|      6017|2019-05-20 00:00:00|     450000|              2|      null|      null|null| null|   null|      null|         1|        null|       null|TOKOPEDIA EMAS| null|   null|             null|      null|      null|         null|      null|             null|     null|      null|  Not_Churn|       null|\n",
      "|   NOT_CUSTOMER|null|     null|1232120651962148|     5101|      6017|2020-04-03 00:00:00|     450000|             30|      null|      null|null| null|   null|      null|         1|        null|       null|TOKOPEDIA EMAS| null|   null|             null|      null|      null|         null|      null|             null|     null|      null|  Not_Churn|       null|\n",
      "|   NOT_CUSTOMER|null|     null|1232121650089594|     5101|      6017|2021-01-10 00:00:00|     450000|              3|      null|      null|null| null|   null|      null|         1|        null|       null|TOKOPEDIA EMAS| null|   null|             null|      null|      null|         null|      null|             null|     null|      null|  Not_Churn|       null|\n",
      "|   NOT_CUSTOMER|null|     null|1232119652388766|     5101|      6017|2019-05-13 00:00:00|     450000|              1|      null|      null|null| null|   null|      null|         1|        null|       null|TOKOPEDIA EMAS| null|   null|             null|      null|      null|         null|      null|             null|     null|      null|  Not_Churn|       null|\n",
      "|   NOT_CUSTOMER|null|     null|1232121650597265|     5101|      6017|2021-03-02 00:00:00|     450000|            109|      null|      null|null| null|   null|      null|         1|        null|       null|TOKOPEDIA EMAS| null|   null|             null|      null|      null|         null|      null|             null|     null|      null|  Not_Churn|       null|\n",
      "|   NOT_CUSTOMER|null|     null|1232119653641106|     5101|      6017|2019-06-12 00:00:00|     450000|              2|      null|      null|null| null|   null|      null|         1|        null|       null|TOKOPEDIA EMAS| null|   null|             null|      null|      null|         null|      null|             null|     null|      null|  Not_Churn|       null|\n",
      "|   NOT_CUSTOMER|null|     null|1232119652466125|     5101|      6017|2019-05-15 00:00:00|     450000|              1|      null|      null|null| null|   null|      null|         1|        null|       null|TOKOPEDIA EMAS| null|   null|             null|      null|      null|         null|      null|             null|     null|      null|  Not_Churn|       null|\n",
      "+---------------+----+---------+----------------+---------+----------+-------------------+-----------+---------------+----------+----------+----+-----+-------+----------+----------+------------+-----------+--------------+-----+-------+-----------------+----------+----------+-------------+----------+-----------------+---------+----------+-----------+-----------+\n",
      "only showing top 20 rows\n",
      "\n"
     ]
    }
   ],
   "source": [
    "df.show()"
   ]
  },
  {
   "cell_type": "code",
   "execution_count": null,
   "metadata": {},
   "outputs": [],
   "source": []
  },
  {
   "cell_type": "code",
   "execution_count": 18,
   "metadata": {
    "ExecuteTime": {
     "end_time": "2021-11-18T04:34:23.748633Z",
     "start_time": "2021-11-18T04:34:23.743897Z"
    }
   },
   "outputs": [],
   "source": [
    "import databricks.koalas as ks"
   ]
  },
  {
   "cell_type": "code",
   "execution_count": 19,
   "metadata": {
    "ExecuteTime": {
     "end_time": "2021-11-18T04:34:33.688307Z",
     "start_time": "2021-11-18T04:34:24.950185Z"
    }
   },
   "outputs": [
    {
     "data": {
      "text/plain": [
       "(2383461, 31)"
      ]
     },
     "execution_count": 19,
     "metadata": {},
     "output_type": "execute_result"
    }
   ],
   "source": [
    "kdf= df.to_koalas()\n",
    "kdf.shape"
   ]
  },
  {
   "cell_type": "code",
   "execution_count": 20,
   "metadata": {
    "ExecuteTime": {
     "end_time": "2021-11-18T04:34:52.956037Z",
     "start_time": "2021-11-18T04:34:33.692674Z"
    }
   },
   "outputs": [
    {
     "data": {
      "text/html": [
       "<div>\n",
       "<style scoped>\n",
       "    .dataframe tbody tr th:only-of-type {\n",
       "        vertical-align: middle;\n",
       "    }\n",
       "\n",
       "    .dataframe tbody tr th {\n",
       "        vertical-align: top;\n",
       "    }\n",
       "\n",
       "    .dataframe thead th {\n",
       "        text-align: right;\n",
       "    }\n",
       "</style>\n",
       "<table border=\"1\" class=\"dataframe\">\n",
       "  <thead>\n",
       "    <tr style=\"text-align: right;\">\n",
       "      <th></th>\n",
       "      <th>var</th>\n",
       "      <th>sum_na</th>\n",
       "      <th>%</th>\n",
       "    </tr>\n",
       "  </thead>\n",
       "  <tbody>\n",
       "    <tr>\n",
       "      <th>0</th>\n",
       "      <td>status_customer</td>\n",
       "      <td>0</td>\n",
       "      <td>0.000000</td>\n",
       "    </tr>\n",
       "    <tr>\n",
       "      <th>1</th>\n",
       "      <td>cif</td>\n",
       "      <td>1652758</td>\n",
       "      <td>69.342775</td>\n",
       "    </tr>\n",
       "    <tr>\n",
       "      <th>2</th>\n",
       "      <td>create_by</td>\n",
       "      <td>1652758</td>\n",
       "      <td>69.342775</td>\n",
       "    </tr>\n",
       "    <tr>\n",
       "      <th>3</th>\n",
       "      <td>norek</td>\n",
       "      <td>0</td>\n",
       "      <td>0.000000</td>\n",
       "    </tr>\n",
       "    <tr>\n",
       "      <th>4</th>\n",
       "      <td>CLIENT_ID</td>\n",
       "      <td>0</td>\n",
       "      <td>0.000000</td>\n",
       "    </tr>\n",
       "    <tr>\n",
       "      <th>5</th>\n",
       "      <td>CHANNEL_ID</td>\n",
       "      <td>0</td>\n",
       "      <td>0.000000</td>\n",
       "    </tr>\n",
       "    <tr>\n",
       "      <th>6</th>\n",
       "      <td>tgl_buka</td>\n",
       "      <td>217</td>\n",
       "      <td>0.009104</td>\n",
       "    </tr>\n",
       "    <tr>\n",
       "      <th>7</th>\n",
       "      <td>TARGET_CUST</td>\n",
       "      <td>286</td>\n",
       "      <td>0.011999</td>\n",
       "    </tr>\n",
       "    <tr>\n",
       "      <th>8</th>\n",
       "      <td>total_transaksi</td>\n",
       "      <td>0</td>\n",
       "      <td>0.000000</td>\n",
       "    </tr>\n",
       "    <tr>\n",
       "      <th>9</th>\n",
       "      <td>status_kyc</td>\n",
       "      <td>1677567</td>\n",
       "      <td>70.383656</td>\n",
       "    </tr>\n",
       "    <tr>\n",
       "      <th>10</th>\n",
       "      <td>source_kyc</td>\n",
       "      <td>2160478</td>\n",
       "      <td>90.644571</td>\n",
       "    </tr>\n",
       "    <tr>\n",
       "      <th>11</th>\n",
       "      <td>nama</td>\n",
       "      <td>1672448</td>\n",
       "      <td>70.168885</td>\n",
       "    </tr>\n",
       "    <tr>\n",
       "      <th>12</th>\n",
       "      <td>no_id</td>\n",
       "      <td>1672448</td>\n",
       "      <td>70.168885</td>\n",
       "    </tr>\n",
       "    <tr>\n",
       "      <th>13</th>\n",
       "      <td>user_id</td>\n",
       "      <td>2267935</td>\n",
       "      <td>95.153015</td>\n",
       "    </tr>\n",
       "    <tr>\n",
       "      <th>14</th>\n",
       "      <td>branch_kyc</td>\n",
       "      <td>2367619</td>\n",
       "      <td>99.335336</td>\n",
       "    </tr>\n",
       "    <tr>\n",
       "      <th>15</th>\n",
       "      <td>status_rek</td>\n",
       "      <td>217</td>\n",
       "      <td>0.009104</td>\n",
       "    </tr>\n",
       "    <tr>\n",
       "      <th>16</th>\n",
       "      <td>total_amount</td>\n",
       "      <td>1668856</td>\n",
       "      <td>70.018179</td>\n",
       "    </tr>\n",
       "    <tr>\n",
       "      <th>17</th>\n",
       "      <td>total_berat</td>\n",
       "      <td>1668856</td>\n",
       "      <td>70.018179</td>\n",
       "    </tr>\n",
       "    <tr>\n",
       "      <th>18</th>\n",
       "      <td>channel</td>\n",
       "      <td>0</td>\n",
       "      <td>0.000000</td>\n",
       "    </tr>\n",
       "    <tr>\n",
       "      <th>19</th>\n",
       "      <td>agama</td>\n",
       "      <td>1773264</td>\n",
       "      <td>74.398700</td>\n",
       "    </tr>\n",
       "    <tr>\n",
       "      <th>20</th>\n",
       "      <td>profesi</td>\n",
       "      <td>2080061</td>\n",
       "      <td>87.270612</td>\n",
       "    </tr>\n",
       "    <tr>\n",
       "      <th>21</th>\n",
       "      <td>jumlah_tanggungan</td>\n",
       "      <td>2380129</td>\n",
       "      <td>99.860203</td>\n",
       "    </tr>\n",
       "    <tr>\n",
       "      <th>22</th>\n",
       "      <td>pendidikan</td>\n",
       "      <td>2183150</td>\n",
       "      <td>91.595793</td>\n",
       "    </tr>\n",
       "    <tr>\n",
       "      <th>23</th>\n",
       "      <td>range_gaji</td>\n",
       "      <td>2261498</td>\n",
       "      <td>94.882945</td>\n",
       "    </tr>\n",
       "    <tr>\n",
       "      <th>24</th>\n",
       "      <td>jenis_kelamin</td>\n",
       "      <td>1673222</td>\n",
       "      <td>70.201358</td>\n",
       "    </tr>\n",
       "    <tr>\n",
       "      <th>25</th>\n",
       "      <td>range_usia</td>\n",
       "      <td>1673232</td>\n",
       "      <td>70.201778</td>\n",
       "    </tr>\n",
       "    <tr>\n",
       "      <th>26</th>\n",
       "      <td>dukcapil_verified</td>\n",
       "      <td>1763434</td>\n",
       "      <td>73.986275</td>\n",
       "    </tr>\n",
       "    <tr>\n",
       "      <th>27</th>\n",
       "      <td>region_nm</td>\n",
       "      <td>1673215</td>\n",
       "      <td>70.201065</td>\n",
       "    </tr>\n",
       "    <tr>\n",
       "      <th>28</th>\n",
       "      <td>segmentasi</td>\n",
       "      <td>1739128</td>\n",
       "      <td>72.966497</td>\n",
       "    </tr>\n",
       "    <tr>\n",
       "      <th>29</th>\n",
       "      <td>rekomendasi</td>\n",
       "      <td>0</td>\n",
       "      <td>0.000000</td>\n",
       "    </tr>\n",
       "    <tr>\n",
       "      <th>30</th>\n",
       "      <td>churn_proba</td>\n",
       "      <td>2300406</td>\n",
       "      <td>96.515361</td>\n",
       "    </tr>\n",
       "  </tbody>\n",
       "</table>\n",
       "</div>"
      ],
      "text/plain": [
       "                  var   sum_na          %\n",
       "0     status_customer        0   0.000000\n",
       "1                 cif  1652758  69.342775\n",
       "2           create_by  1652758  69.342775\n",
       "3               norek        0   0.000000\n",
       "4           CLIENT_ID        0   0.000000\n",
       "5          CHANNEL_ID        0   0.000000\n",
       "6            tgl_buka      217   0.009104\n",
       "7         TARGET_CUST      286   0.011999\n",
       "8     total_transaksi        0   0.000000\n",
       "9          status_kyc  1677567  70.383656\n",
       "10         source_kyc  2160478  90.644571\n",
       "11               nama  1672448  70.168885\n",
       "12              no_id  1672448  70.168885\n",
       "13            user_id  2267935  95.153015\n",
       "14         branch_kyc  2367619  99.335336\n",
       "15         status_rek      217   0.009104\n",
       "16       total_amount  1668856  70.018179\n",
       "17        total_berat  1668856  70.018179\n",
       "18            channel        0   0.000000\n",
       "19              agama  1773264  74.398700\n",
       "20            profesi  2080061  87.270612\n",
       "21  jumlah_tanggungan  2380129  99.860203\n",
       "22         pendidikan  2183150  91.595793\n",
       "23         range_gaji  2261498  94.882945\n",
       "24      jenis_kelamin  1673222  70.201358\n",
       "25         range_usia  1673232  70.201778\n",
       "26  dukcapil_verified  1763434  73.986275\n",
       "27          region_nm  1673215  70.201065\n",
       "28         segmentasi  1739128  72.966497\n",
       "29        rekomendasi        0   0.000000\n",
       "30        churn_proba  2300406  96.515361"
      ]
     },
     "execution_count": 20,
     "metadata": {},
     "output_type": "execute_result"
    }
   ],
   "source": [
    "isna_rep = kdf.isna().sum().to_frame().reset_index()\n",
    "isna_rep.columns = ['var','sum_na']\n",
    "isna_rep['%']=isna_rep['sum_na']/len(kdf)*100\n",
    "isna_rep"
   ]
  },
  {
   "cell_type": "code",
   "execution_count": 21,
   "metadata": {
    "ExecuteTime": {
     "end_time": "2021-11-18T04:35:16.761866Z",
     "start_time": "2021-11-18T04:34:52.959270Z"
    }
   },
   "outputs": [
    {
     "name": "stdout",
     "output_type": "stream",
     "text": [
      "databricks.koalas.frame.DataFrame\n",
      "Index: 2383461 entries, 0 to 2383460\n",
      "Data columns (total 31 columns):\n",
      " #   Column             Non-Null Count    Dtype         \n",
      "---  ------             --------------    -----         \n",
      " 0   status_customer    2383461 non-null  object        \n",
      " 1   cif                730703 non-null   object        \n",
      " 2   create_by          730703 non-null   object        \n",
      " 3   norek              2383461 non-null  object        \n",
      " 4   CLIENT_ID          2383461 non-null  object        \n",
      " 5   CHANNEL_ID         2383461 non-null  object        \n",
      " 6   tgl_buka           2383244 non-null  datetime64[ns]\n",
      " 7   TARGET_CUST        2383175 non-null  int32         \n",
      " 8   total_transaksi    2383461 non-null  int64         \n",
      " 9   status_kyc         705894 non-null   object        \n",
      " 10  source_kyc         222983 non-null   object        \n",
      " 11  nama               711013 non-null   object        \n",
      " 12  no_id              711013 non-null   object        \n",
      " 13  user_id            115526 non-null   object        \n",
      " 14  branch_kyc         15842 non-null    object        \n",
      " 15  status_rek         2383244 non-null  object        \n",
      " 16  total_amount       714605 non-null   float64       \n",
      " 17  total_berat        714605 non-null   float64       \n",
      " 18  channel            2383461 non-null  object        \n",
      " 19  agama              610197 non-null   object        \n",
      " 20  profesi            303400 non-null   object        \n",
      " 21  jumlah_tanggungan  3332 non-null     object        \n",
      " 22  pendidikan         200311 non-null   object        \n",
      " 23  range_gaji         121963 non-null   object        \n",
      " 24  jenis_kelamin      710239 non-null   object        \n",
      " 25  range_usia         710229 non-null   object        \n",
      " 26  dukcapil_verified  620027 non-null   object        \n",
      " 27  region_nm          710246 non-null   object        \n",
      " 28  segmentasi         644333 non-null   object        \n",
      " 29  rekomendasi        2383461 non-null  object        \n",
      " 30  churn_proba        83055 non-null    object        \n",
      "dtypes: datetime64[ns](1), float64(2), int32(1), int64(1), object(26)"
     ]
    }
   ],
   "source": [
    "kdf.info()"
   ]
  },
  {
   "cell_type": "code",
   "execution_count": 22,
   "metadata": {
    "ExecuteTime": {
     "end_time": "2021-11-18T04:35:26.297139Z",
     "start_time": "2021-11-18T04:35:16.765556Z"
    }
   },
   "outputs": [
    {
     "data": {
      "text/html": [
       "<div>\n",
       "<style scoped>\n",
       "    .dataframe tbody tr th:only-of-type {\n",
       "        vertical-align: middle;\n",
       "    }\n",
       "\n",
       "    .dataframe tbody tr th {\n",
       "        vertical-align: top;\n",
       "    }\n",
       "\n",
       "    .dataframe thead th {\n",
       "        text-align: right;\n",
       "    }\n",
       "</style>\n",
       "<table border=\"1\" class=\"dataframe\">\n",
       "  <thead>\n",
       "    <tr style=\"text-align: right;\">\n",
       "      <th></th>\n",
       "      <th>TARGET_CUST</th>\n",
       "      <th>total_transaksi</th>\n",
       "      <th>total_amount</th>\n",
       "      <th>total_berat</th>\n",
       "      <th>jumlah_tanggungan</th>\n",
       "      <th>churn_proba</th>\n",
       "    </tr>\n",
       "  </thead>\n",
       "  <tbody>\n",
       "    <tr>\n",
       "      <th>count</th>\n",
       "      <td>2.383175e+06</td>\n",
       "      <td>2.383461e+06</td>\n",
       "      <td>7.146050e+05</td>\n",
       "      <td>714605.000000</td>\n",
       "      <td>3332.000000</td>\n",
       "      <td>83055.000000</td>\n",
       "    </tr>\n",
       "    <tr>\n",
       "      <th>mean</th>\n",
       "      <td>4.049020e+05</td>\n",
       "      <td>1.554984e+01</td>\n",
       "      <td>1.036044e+06</td>\n",
       "      <td>1.597544</td>\n",
       "      <td>1.867300</td>\n",
       "      <td>0.650725</td>\n",
       "    </tr>\n",
       "    <tr>\n",
       "      <th>std</th>\n",
       "      <td>7.696148e+04</td>\n",
       "      <td>6.127804e+02</td>\n",
       "      <td>4.783508e+07</td>\n",
       "      <td>64.431256</td>\n",
       "      <td>1.354731</td>\n",
       "      <td>0.105145</td>\n",
       "    </tr>\n",
       "    <tr>\n",
       "      <th>min</th>\n",
       "      <td>5.000000e+03</td>\n",
       "      <td>1.000000e+00</td>\n",
       "      <td>0.000000e+00</td>\n",
       "      <td>0.000100</td>\n",
       "      <td>1.000000</td>\n",
       "      <td>0.500000</td>\n",
       "    </tr>\n",
       "    <tr>\n",
       "      <th>25%</th>\n",
       "      <td>2.800000e+05</td>\n",
       "      <td>1.000000e+00</td>\n",
       "      <td>5.027000e+03</td>\n",
       "      <td>0.005700</td>\n",
       "      <td>1.000000</td>\n",
       "      <td>0.584100</td>\n",
       "    </tr>\n",
       "    <tr>\n",
       "      <th>50%</th>\n",
       "      <td>4.500000e+05</td>\n",
       "      <td>2.000000e+00</td>\n",
       "      <td>1.614550e+04</td>\n",
       "      <td>0.025100</td>\n",
       "      <td>2.000000</td>\n",
       "      <td>0.618000</td>\n",
       "    </tr>\n",
       "    <tr>\n",
       "      <th>75%</th>\n",
       "      <td>4.500000e+05</td>\n",
       "      <td>6.000000e+00</td>\n",
       "      <td>1.229382e+05</td>\n",
       "      <td>0.170600</td>\n",
       "      <td>2.000000</td>\n",
       "      <td>0.709100</td>\n",
       "    </tr>\n",
       "    <tr>\n",
       "      <th>max</th>\n",
       "      <td>4.500000e+05</td>\n",
       "      <td>3.211580e+05</td>\n",
       "      <td>3.857528e+10</td>\n",
       "      <td>52605.027400</td>\n",
       "      <td>35.000000</td>\n",
       "      <td>0.966200</td>\n",
       "    </tr>\n",
       "  </tbody>\n",
       "</table>\n",
       "</div>"
      ],
      "text/plain": [
       "        TARGET_CUST  total_transaksi  total_amount    total_berat  jumlah_tanggungan   churn_proba\n",
       "count  2.383175e+06     2.383461e+06  7.146050e+05  714605.000000        3332.000000  83055.000000\n",
       "mean   4.049020e+05     1.554984e+01  1.036044e+06       1.597544           1.867300      0.650725\n",
       "std    7.696148e+04     6.127804e+02  4.783508e+07      64.431256           1.354731      0.105145\n",
       "min    5.000000e+03     1.000000e+00  0.000000e+00       0.000100           1.000000      0.500000\n",
       "25%    2.800000e+05     1.000000e+00  5.027000e+03       0.005700           1.000000      0.584100\n",
       "50%    4.500000e+05     2.000000e+00  1.614550e+04       0.025100           2.000000      0.618000\n",
       "75%    4.500000e+05     6.000000e+00  1.229382e+05       0.170600           2.000000      0.709100\n",
       "max    4.500000e+05     3.211580e+05  3.857528e+10   52605.027400          35.000000      0.966200"
      ]
     },
     "execution_count": 22,
     "metadata": {},
     "output_type": "execute_result"
    }
   ],
   "source": [
    "kdf.describe()"
   ]
  },
  {
   "cell_type": "code",
   "execution_count": 23,
   "metadata": {
    "ExecuteTime": {
     "end_time": "2021-11-18T04:35:32.545381Z",
     "start_time": "2021-11-18T04:35:26.299363Z"
    }
   },
   "outputs": [
    {
     "data": {
      "text/plain": [
       "Uncertain       217658\n",
       "FirstTime       211884\n",
       "Shopper         151540\n",
       "Frequent         46126\n",
       "Best             13854\n",
       "AboutToSleep      1938\n",
       "Valuable           829\n",
       "Spenders           504\n",
       "Name: segmentasi, dtype: int64"
      ]
     },
     "execution_count": 23,
     "metadata": {},
     "output_type": "execute_result"
    }
   ],
   "source": [
    "kdf.segmentasi.value_counts() "
   ]
  },
  {
   "cell_type": "code",
   "execution_count": 24,
   "metadata": {
    "ExecuteTime": {
     "end_time": "2021-11-18T04:35:32.554494Z",
     "start_time": "2021-11-18T04:35:32.549236Z"
    }
   },
   "outputs": [],
   "source": [
    "# delet jumlah tanggungan\n",
    "kdf = kdf.drop(columns=\"jumlah_tanggungan\")\n"
   ]
  },
  {
   "cell_type": "code",
   "execution_count": 25,
   "metadata": {
    "ExecuteTime": {
     "end_time": "2021-11-18T04:35:37.460291Z",
     "start_time": "2021-11-18T04:35:32.557947Z"
    }
   },
   "outputs": [
    {
     "data": {
      "text/plain": [
       "(2383461, 30)"
      ]
     },
     "execution_count": 25,
     "metadata": {},
     "output_type": "execute_result"
    }
   ],
   "source": [
    "kdf.shape"
   ]
  },
  {
   "cell_type": "code",
   "execution_count": 16,
   "metadata": {
    "ExecuteTime": {
     "end_time": "2021-11-18T02:49:30.960533Z",
     "start_time": "2021-11-18T02:49:30.957022Z"
    }
   },
   "outputs": [],
   "source": [
    "# drop na\n",
    "# kdf = kdf.dropna()\n",
    "# kdf.shape"
   ]
  },
  {
   "cell_type": "code",
   "execution_count": 26,
   "metadata": {
    "ExecuteTime": {
     "end_time": "2021-11-18T04:35:57.634955Z",
     "start_time": "2021-11-18T04:35:37.465536Z"
    }
   },
   "outputs": [
    {
     "name": "stdout",
     "output_type": "stream",
     "text": [
      "databricks.koalas.frame.DataFrame\n",
      "Index: 2383461 entries, 0 to 2383460\n",
      "Data columns (total 30 columns):\n",
      " #   Column             Non-Null Count    Dtype         \n",
      "---  ------             --------------    -----         \n",
      " 0   status_customer    2383461 non-null  object        \n",
      " 1   cif                730703 non-null   object        \n",
      " 2   create_by          730703 non-null   object        \n",
      " 3   norek              2383461 non-null  object        \n",
      " 4   CLIENT_ID          2383461 non-null  object        \n",
      " 5   CHANNEL_ID         2383461 non-null  object        \n",
      " 6   tgl_buka           2383244 non-null  datetime64[ns]\n",
      " 7   TARGET_CUST        2383175 non-null  int32         \n",
      " 8   total_transaksi    2383461 non-null  int64         \n",
      " 9   status_kyc         705894 non-null   object        \n",
      " 10  source_kyc         222983 non-null   object        \n",
      " 11  nama               711013 non-null   object        \n",
      " 12  no_id              711013 non-null   object        \n",
      " 13  user_id            115526 non-null   object        \n",
      " 14  branch_kyc         15842 non-null    object        \n",
      " 15  status_rek         2383244 non-null  object        \n",
      " 16  total_amount       714605 non-null   float64       \n",
      " 17  total_berat        714605 non-null   float64       \n",
      " 18  channel            2383461 non-null  object        \n",
      " 19  agama              610197 non-null   object        \n",
      " 20  profesi            303400 non-null   object        \n",
      " 21  pendidikan         200311 non-null   object        \n",
      " 22  range_gaji         121963 non-null   object        \n",
      " 23  jenis_kelamin      710239 non-null   object        \n",
      " 24  range_usia         710229 non-null   object        \n",
      " 25  dukcapil_verified  620027 non-null   object        \n",
      " 26  region_nm          710246 non-null   object        \n",
      " 27  segmentasi         644333 non-null   object        \n",
      " 28  rekomendasi        2383461 non-null  object        \n",
      " 29  churn_proba        83055 non-null    object        \n",
      "dtypes: datetime64[ns](1), float64(2), int32(1), int64(1), object(25)"
     ]
    }
   ],
   "source": [
    "kdf.info()"
   ]
  },
  {
   "cell_type": "code",
   "execution_count": 27,
   "metadata": {
    "ExecuteTime": {
     "end_time": "2021-11-18T04:37:31.135485Z",
     "start_time": "2021-11-18T04:35:57.639144Z"
    }
   },
   "outputs": [],
   "source": [
    "pdf=kdf.to_pandas()"
   ]
  },
  {
   "cell_type": "code",
   "execution_count": 28,
   "metadata": {
    "ExecuteTime": {
     "end_time": "2021-11-18T04:37:31.143661Z",
     "start_time": "2021-11-18T04:37:31.139089Z"
    }
   },
   "outputs": [
    {
     "data": {
      "text/plain": [
       "pandas.core.frame.DataFrame"
      ]
     },
     "execution_count": 28,
     "metadata": {},
     "output_type": "execute_result"
    }
   ],
   "source": [
    "type(pdf)"
   ]
  },
  {
   "cell_type": "code",
   "execution_count": 29,
   "metadata": {
    "ExecuteTime": {
     "end_time": "2021-11-18T04:37:31.401769Z",
     "start_time": "2021-11-18T04:37:31.145362Z"
    }
   },
   "outputs": [
    {
     "data": {
      "text/plain": [
       "(3062.4, 10050.3]             143219\n",
       "(-0.001, 3062.4]              142966\n",
       "(197105.66, 38575280959.2]    142921\n",
       "(32820.76, 197105.66]         142921\n",
       "(10050.3, 32820.76]           142578\n",
       "Name: total_amount, dtype: int64"
      ]
     },
     "execution_count": 29,
     "metadata": {},
     "output_type": "execute_result"
    }
   ],
   "source": [
    "pd.qcut(pdf['total_amount'],5, duplicates = 'drop').value_counts()"
   ]
  },
  {
   "cell_type": "code",
   "execution_count": 30,
   "metadata": {
    "ExecuteTime": {
     "end_time": "2021-11-18T04:46:16.793466Z",
     "start_time": "2021-11-18T04:46:16.647150Z"
    }
   },
   "outputs": [],
   "source": [
    "pdf['total_amount']=pd.qcut(pdf['total_amount'],5, duplicates = 'drop')"
   ]
  },
  {
   "cell_type": "code",
   "execution_count": 31,
   "metadata": {
    "ExecuteTime": {
     "end_time": "2021-11-18T04:46:18.270457Z",
     "start_time": "2021-11-18T04:46:18.244893Z"
    }
   },
   "outputs": [
    {
     "name": "stdout",
     "output_type": "stream",
     "text": [
      "<class 'pandas.core.frame.DataFrame'>\n",
      "Int64Index: 2383461 entries, 0 to 2383460\n",
      "Data columns (total 30 columns):\n",
      " #   Column             Dtype         \n",
      "---  ------             -----         \n",
      " 0   status_customer    object        \n",
      " 1   cif                object        \n",
      " 2   create_by          object        \n",
      " 3   norek              object        \n",
      " 4   CLIENT_ID          object        \n",
      " 5   CHANNEL_ID         object        \n",
      " 6   tgl_buka           datetime64[ns]\n",
      " 7   TARGET_CUST        float64       \n",
      " 8   total_transaksi    int64         \n",
      " 9   status_kyc         object        \n",
      " 10  source_kyc         object        \n",
      " 11  nama               object        \n",
      " 12  no_id              object        \n",
      " 13  user_id            object        \n",
      " 14  branch_kyc         object        \n",
      " 15  status_rek         object        \n",
      " 16  total_amount       category      \n",
      " 17  total_berat        float64       \n",
      " 18  channel            object        \n",
      " 19  agama              object        \n",
      " 20  profesi            object        \n",
      " 21  pendidikan         object        \n",
      " 22  range_gaji         object        \n",
      " 23  jenis_kelamin      object        \n",
      " 24  range_usia         object        \n",
      " 25  dukcapil_verified  object        \n",
      " 26  region_nm          object        \n",
      " 27  segmentasi         object        \n",
      " 28  rekomendasi        object        \n",
      " 29  churn_proba        object        \n",
      "dtypes: category(1), datetime64[ns](1), float64(2), int64(1), object(25)\n",
      "memory usage: 547.8+ MB\n"
     ]
    }
   ],
   "source": [
    "pdf.info()"
   ]
  },
  {
   "cell_type": "code",
   "execution_count": 61,
   "metadata": {
    "ExecuteTime": {
     "end_time": "2021-11-18T06:41:51.920523Z",
     "start_time": "2021-11-18T06:41:50.443605Z"
    }
   },
   "outputs": [],
   "source": [
    "x1=pdf[['agama',\n",
    "'segmentasi',\n",
    "'rekomendasi',\n",
    "'channel',\n",
    "'range_usia',\n",
    "'jenis_kelamin',\n",
    "'total_amount',\n",
    "'status_rek',\n",
    "'profesi',\n",
    "'pendidikan',\n",
    "'range_gaji',\n",
    "'region_nm',\n",
    "'status_kyc','total_transaksi']]"
   ]
  },
  {
   "cell_type": "code",
   "execution_count": 62,
   "metadata": {
    "ExecuteTime": {
     "end_time": "2021-11-18T06:41:54.637534Z",
     "start_time": "2021-11-18T06:41:52.950517Z"
    }
   },
   "outputs": [],
   "source": [
    "x2=x1.dropna()"
   ]
  },
  {
   "cell_type": "code",
   "execution_count": 63,
   "metadata": {
    "ExecuteTime": {
     "end_time": "2021-11-18T06:41:55.082379Z",
     "start_time": "2021-11-18T06:41:54.876590Z"
    }
   },
   "outputs": [
    {
     "name": "stdout",
     "output_type": "stream",
     "text": [
      "<class 'pandas.core.frame.DataFrame'>\n",
      "Int64Index: 107716 entries, 1672450 to 2383459\n",
      "Data columns (total 14 columns):\n",
      " #   Column           Non-Null Count   Dtype   \n",
      "---  ------           --------------   -----   \n",
      " 0   agama            107716 non-null  object  \n",
      " 1   segmentasi       107716 non-null  object  \n",
      " 2   rekomendasi      107716 non-null  object  \n",
      " 3   channel          107716 non-null  object  \n",
      " 4   range_usia       107716 non-null  object  \n",
      " 5   jenis_kelamin    107716 non-null  object  \n",
      " 6   total_amount     107716 non-null  category\n",
      " 7   status_rek       107716 non-null  object  \n",
      " 8   profesi          107716 non-null  object  \n",
      " 9   pendidikan       107716 non-null  object  \n",
      " 10  range_gaji       107716 non-null  object  \n",
      " 11  region_nm        107716 non-null  object  \n",
      " 12  status_kyc       107716 non-null  object  \n",
      " 13  total_transaksi  107716 non-null  int64   \n",
      "dtypes: category(1), int64(1), object(12)\n",
      "memory usage: 11.6+ MB\n"
     ]
    }
   ],
   "source": [
    "x2.info()"
   ]
  },
  {
   "cell_type": "code",
   "execution_count": 64,
   "metadata": {
    "ExecuteTime": {
     "end_time": "2021-11-18T06:42:01.068469Z",
     "start_time": "2021-11-18T06:41:59.848779Z"
    }
   },
   "outputs": [
    {
     "name": "stderr",
     "output_type": "stream",
     "text": [
      "/usr/local/lib/python3.6/dist-packages/ipykernel_launcher.py:7: SettingWithCopyWarning: \n",
      "A value is trying to be set on a copy of a slice from a DataFrame.\n",
      "Try using .loc[row_indexer,col_indexer] = value instead\n",
      "\n",
      "See the caveats in the documentation: https://pandas.pydata.org/pandas-docs/stable/user_guide/indexing.html#returning-a-view-versus-a-copy\n",
      "  import sys\n",
      "/usr/local/lib/python3.6/dist-packages/ipykernel_launcher.py:10: SettingWithCopyWarning: \n",
      "A value is trying to be set on a copy of a slice from a DataFrame.\n",
      "Try using .loc[row_indexer,col_indexer] = value instead\n",
      "\n",
      "See the caveats in the documentation: https://pandas.pydata.org/pandas-docs/stable/user_guide/indexing.html#returning-a-view-versus-a-copy\n",
      "  # Remove the CWD from sys.path while we load stuff.\n",
      "/usr/local/lib/python3.6/dist-packages/ipykernel_launcher.py:13: SettingWithCopyWarning: \n",
      "A value is trying to be set on a copy of a slice from a DataFrame.\n",
      "Try using .loc[row_indexer,col_indexer] = value instead\n",
      "\n",
      "See the caveats in the documentation: https://pandas.pydata.org/pandas-docs/stable/user_guide/indexing.html#returning-a-view-versus-a-copy\n",
      "  del sys.path[0]\n",
      "/usr/local/lib/python3.6/dist-packages/ipykernel_launcher.py:16: SettingWithCopyWarning: \n",
      "A value is trying to be set on a copy of a slice from a DataFrame.\n",
      "Try using .loc[row_indexer,col_indexer] = value instead\n",
      "\n",
      "See the caveats in the documentation: https://pandas.pydata.org/pandas-docs/stable/user_guide/indexing.html#returning-a-view-versus-a-copy\n",
      "  app.launch_new_instance()\n",
      "/usr/local/lib/python3.6/dist-packages/ipykernel_launcher.py:19: SettingWithCopyWarning: \n",
      "A value is trying to be set on a copy of a slice from a DataFrame.\n",
      "Try using .loc[row_indexer,col_indexer] = value instead\n",
      "\n",
      "See the caveats in the documentation: https://pandas.pydata.org/pandas-docs/stable/user_guide/indexing.html#returning-a-view-versus-a-copy\n",
      "/usr/local/lib/python3.6/dist-packages/ipykernel_launcher.py:22: SettingWithCopyWarning: \n",
      "A value is trying to be set on a copy of a slice from a DataFrame.\n",
      "Try using .loc[row_indexer,col_indexer] = value instead\n",
      "\n",
      "See the caveats in the documentation: https://pandas.pydata.org/pandas-docs/stable/user_guide/indexing.html#returning-a-view-versus-a-copy\n",
      "/usr/local/lib/python3.6/dist-packages/ipykernel_launcher.py:25: SettingWithCopyWarning: \n",
      "A value is trying to be set on a copy of a slice from a DataFrame.\n",
      "Try using .loc[row_indexer,col_indexer] = value instead\n",
      "\n",
      "See the caveats in the documentation: https://pandas.pydata.org/pandas-docs/stable/user_guide/indexing.html#returning-a-view-versus-a-copy\n",
      "/usr/local/lib/python3.6/dist-packages/ipykernel_launcher.py:28: SettingWithCopyWarning: \n",
      "A value is trying to be set on a copy of a slice from a DataFrame.\n",
      "Try using .loc[row_indexer,col_indexer] = value instead\n",
      "\n",
      "See the caveats in the documentation: https://pandas.pydata.org/pandas-docs/stable/user_guide/indexing.html#returning-a-view-versus-a-copy\n",
      "/usr/local/lib/python3.6/dist-packages/ipykernel_launcher.py:31: SettingWithCopyWarning: \n",
      "A value is trying to be set on a copy of a slice from a DataFrame.\n",
      "Try using .loc[row_indexer,col_indexer] = value instead\n",
      "\n",
      "See the caveats in the documentation: https://pandas.pydata.org/pandas-docs/stable/user_guide/indexing.html#returning-a-view-versus-a-copy\n",
      "/usr/local/lib/python3.6/dist-packages/ipykernel_launcher.py:35: SettingWithCopyWarning: \n",
      "A value is trying to be set on a copy of a slice from a DataFrame.\n",
      "Try using .loc[row_indexer,col_indexer] = value instead\n",
      "\n",
      "See the caveats in the documentation: https://pandas.pydata.org/pandas-docs/stable/user_guide/indexing.html#returning-a-view-versus-a-copy\n",
      "/usr/local/lib/python3.6/dist-packages/ipykernel_launcher.py:38: SettingWithCopyWarning: \n",
      "A value is trying to be set on a copy of a slice from a DataFrame.\n",
      "Try using .loc[row_indexer,col_indexer] = value instead\n",
      "\n",
      "See the caveats in the documentation: https://pandas.pydata.org/pandas-docs/stable/user_guide/indexing.html#returning-a-view-versus-a-copy\n"
     ]
    },
    {
     "name": "stdout",
     "output_type": "stream",
     "text": [
      "           agama    segmentasi             rekomendasi channel range_usia  \\\n",
      "1672450    ISLAM     Uncertain               Not_Churn  SHOPEE      35-45   \n",
      "1672460    ISLAM       Shopper               Not_Churn  SHOPEE      25-35   \n",
      "1672463    ISLAM     Uncertain               Not_Churn  SHOPEE      45-55   \n",
      "1672464    ISLAM     Uncertain               Not_Churn  SHOPEE      25-35   \n",
      "1672465  KRISTEN     Uncertain               Not_Churn  SHOPEE      25-35   \n",
      "...          ...           ...                     ...     ...        ...   \n",
      "2383448  KRISTEN     Uncertain    Low Cost Maintenance  SHOPEE      45-55   \n",
      "2383449  KATOLIK     Uncertain               Not_Churn  SHOPEE      25-35   \n",
      "2383455    ISLAM  AboutToSleep  Sustained Relationship  SHOPEE      35-45   \n",
      "2383457    ISLAM     FirstTime               Not_Churn  SHOPEE      25-35   \n",
      "2383459    ISLAM     FirstTime               Not_Churn  SHOPEE      16-25   \n",
      "\n",
      "        jenis_kelamin                total_amount status_rek  \\\n",
      "1672450     Laki-laki            (-0.001, 3062.4]          1   \n",
      "1672460     Perempuan  (197105.66, 38575280959.2]          1   \n",
      "1672463     Perempuan            (-0.001, 3062.4]          0   \n",
      "1672464     Perempuan            (-0.001, 3062.4]          1   \n",
      "1672465     Perempuan            (-0.001, 3062.4]          1   \n",
      "...               ...                         ...        ...   \n",
      "2383448     Laki-laki            (-0.001, 3062.4]          0   \n",
      "2383449     Laki-laki            (-0.001, 3062.4]          1   \n",
      "2383455     Perempuan  (197105.66, 38575280959.2]          1   \n",
      "2383457     Perempuan       (32820.76, 197105.66]          1   \n",
      "2383459     Laki-laki       (32820.76, 197105.66]          1   \n",
      "\n",
      "                     profesi pendidikan  ... channel_encoded  \\\n",
      "1672450          Profesional        SMA  ...               4   \n",
      "1672460     Ibu Rumah Tangga        SMA  ...               4   \n",
      "1672463     Ibu Rumah Tangga        SMA  ...               4   \n",
      "1672464              Lainnya        SMA  ...               4   \n",
      "1672465              Lainnya         D3  ...               4   \n",
      "...                      ...        ...  ...             ...   \n",
      "2383448              Lainnya        SMA  ...               4   \n",
      "2383449      Karyawan Swasta        SMA  ...               4   \n",
      "2383455  Pegawai BUMN / BUMD         S1  ...               4   \n",
      "2383457                  PNS         S1  ...               4   \n",
      "2383459  Pegawai BUMN / BUMD        SMA  ...               4   \n",
      "\n",
      "        range_usia_encoded jenis_kelamin_encoded  total_amount_encoded  \\\n",
      "1672450                  2                     0                     0   \n",
      "1672460                  1                     1                     4   \n",
      "1672463                  3                     1                     0   \n",
      "1672464                  1                     1                     0   \n",
      "1672465                  1                     1                     0   \n",
      "...                    ...                   ...                   ...   \n",
      "2383448                  3                     0                     0   \n",
      "2383449                  1                     0                     0   \n",
      "2383455                  2                     1                     4   \n",
      "2383457                  1                     1                     3   \n",
      "2383459                  0                     0                     3   \n",
      "\n",
      "         status_rek_encoded  profesi_encoded  pendidikan_encoded  \\\n",
      "1672450                   1                9                   8   \n",
      "1672460                   1                0                   8   \n",
      "1672463                   0                0                   8   \n",
      "1672464                   1                2                   8   \n",
      "1672465                   1                2                   3   \n",
      "...                     ...              ...                 ...   \n",
      "2383448                   0                2                   8   \n",
      "2383449                   1                1                   8   \n",
      "2383455                   1                5                   4   \n",
      "2383457                   1                4                   4   \n",
      "2383459                   1                5                   8   \n",
      "\n",
      "         range_gaji_encoded  region_nm_encoded  status_kyc_encoded  \n",
      "1672450                   0                  8                   1  \n",
      "1672460                   0                  4                   1  \n",
      "1672463                   0                  8                   1  \n",
      "1672464                   0                 10                   1  \n",
      "1672465                   3                  8                   1  \n",
      "...                     ...                ...                 ...  \n",
      "2383448                   3                  7                   1  \n",
      "2383449                   0                  7                   1  \n",
      "2383455                   3                  7                   1  \n",
      "2383457                   3                  7                   1  \n",
      "2383459                   3                  7                   1  \n",
      "\n",
      "[107716 rows x 27 columns]\n"
     ]
    },
    {
     "name": "stderr",
     "output_type": "stream",
     "text": [
      "/usr/local/lib/python3.6/dist-packages/ipykernel_launcher.py:41: SettingWithCopyWarning: \n",
      "A value is trying to be set on a copy of a slice from a DataFrame.\n",
      "Try using .loc[row_indexer,col_indexer] = value instead\n",
      "\n",
      "See the caveats in the documentation: https://pandas.pydata.org/pandas-docs/stable/user_guide/indexing.html#returning-a-view-versus-a-copy\n",
      "/usr/local/lib/python3.6/dist-packages/ipykernel_launcher.py:44: SettingWithCopyWarning: \n",
      "A value is trying to be set on a copy of a slice from a DataFrame.\n",
      "Try using .loc[row_indexer,col_indexer] = value instead\n",
      "\n",
      "See the caveats in the documentation: https://pandas.pydata.org/pandas-docs/stable/user_guide/indexing.html#returning-a-view-versus-a-copy\n"
     ]
    }
   ],
   "source": [
    "#make label\n",
    "from sklearn.preprocessing import LabelEncoder\n",
    "\n",
    "le = LabelEncoder()\n",
    "\n",
    "segmentasi_encoded = le.fit_transform(x2['segmentasi'])\n",
    "x2['segmentasi_encoded'] = segmentasi_encoded\n",
    "\n",
    "agama_encoded = le.fit_transform(x2['agama'])\n",
    "x2['agama_encoded'] = agama_encoded\n",
    "\n",
    "rekomendasi_encoded = le.fit_transform(x2['rekomendasi'])\n",
    "x2['rekomendasi_encoded'] = rekomendasi_encoded\n",
    "\n",
    "channel_encoded = le.fit_transform(x2['channel'])\n",
    "x2['channel_encoded'] = channel_encoded\n",
    "\n",
    "range_usia_encoded = le.fit_transform(x2['range_usia'])\n",
    "x2['range_usia_encoded'] = range_usia_encoded\n",
    "\n",
    "jenis_kelamin_encoded = le.fit_transform(x2['jenis_kelamin'])\n",
    "x2['jenis_kelamin_encoded'] = jenis_kelamin_encoded\n",
    "\n",
    "total_amount_encoded = le.fit_transform(x2['total_amount'])\n",
    "x2['total_amount_encoded'] = total_amount_encoded\n",
    "\n",
    "status_rek_encoded = le.fit_transform(x2['status_rek'])\n",
    "x2['status_rek_encoded'] = status_rek_encoded\n",
    "\n",
    "profesi_encoded = le.fit_transform(x2['profesi'])\n",
    "x2['profesi_encoded'] = profesi_encoded\n",
    "\n",
    "\n",
    "pendidikan_encoded = le.fit_transform(x2['pendidikan'])\n",
    "x2['pendidikan_encoded'] = pendidikan_encoded\n",
    "\n",
    "range_gaji_encoded = le.fit_transform(x2['range_gaji'])\n",
    "x2['range_gaji_encoded'] = range_gaji_encoded\n",
    "\n",
    "region_nm_encoded = le.fit_transform(x2['region_nm'])\n",
    "x2['region_nm_encoded'] = region_nm_encoded\n",
    "\n",
    "status_kyc_encoded = le.fit_transform(x2['status_kyc'])\n",
    "x2['status_kyc_encoded'] = status_kyc_encoded\n",
    "\n",
    "\n",
    "\n",
    "\n",
    "print(x2)\n",
    "# pdf_label = le.fit_transform(pdf[['jenis_kelamin']])\n",
    "# pdf.head_label(100)"
   ]
  },
  {
   "cell_type": "code",
   "execution_count": 65,
   "metadata": {
    "ExecuteTime": {
     "end_time": "2021-11-18T06:42:02.860112Z",
     "start_time": "2021-11-18T06:42:02.625814Z"
    }
   },
   "outputs": [
    {
     "name": "stdout",
     "output_type": "stream",
     "text": [
      "<class 'pandas.core.frame.DataFrame'>\n",
      "Int64Index: 107716 entries, 1672450 to 2383459\n",
      "Data columns (total 27 columns):\n",
      " #   Column                 Non-Null Count   Dtype   \n",
      "---  ------                 --------------   -----   \n",
      " 0   agama                  107716 non-null  object  \n",
      " 1   segmentasi             107716 non-null  object  \n",
      " 2   rekomendasi            107716 non-null  object  \n",
      " 3   channel                107716 non-null  object  \n",
      " 4   range_usia             107716 non-null  object  \n",
      " 5   jenis_kelamin          107716 non-null  object  \n",
      " 6   total_amount           107716 non-null  category\n",
      " 7   status_rek             107716 non-null  object  \n",
      " 8   profesi                107716 non-null  object  \n",
      " 9   pendidikan             107716 non-null  object  \n",
      " 10  range_gaji             107716 non-null  object  \n",
      " 11  region_nm              107716 non-null  object  \n",
      " 12  status_kyc             107716 non-null  object  \n",
      " 13  total_transaksi        107716 non-null  int64   \n",
      " 14  segmentasi_encoded     107716 non-null  int64   \n",
      " 15  agama_encoded          107716 non-null  int64   \n",
      " 16  rekomendasi_encoded    107716 non-null  int64   \n",
      " 17  channel_encoded        107716 non-null  int64   \n",
      " 18  range_usia_encoded     107716 non-null  int64   \n",
      " 19  jenis_kelamin_encoded  107716 non-null  int64   \n",
      " 20  total_amount_encoded   107716 non-null  int64   \n",
      " 21  status_rek_encoded     107716 non-null  int64   \n",
      " 22  profesi_encoded        107716 non-null  int64   \n",
      " 23  pendidikan_encoded     107716 non-null  int64   \n",
      " 24  range_gaji_encoded     107716 non-null  int64   \n",
      " 25  region_nm_encoded      107716 non-null  int64   \n",
      " 26  status_kyc_encoded     107716 non-null  int64   \n",
      "dtypes: category(1), int64(14), object(12)\n",
      "memory usage: 22.3+ MB\n"
     ]
    }
   ],
   "source": [
    "x2.info()"
   ]
  },
  {
   "cell_type": "code",
   "execution_count": 66,
   "metadata": {
    "ExecuteTime": {
     "end_time": "2021-11-18T06:42:15.828038Z",
     "start_time": "2021-11-18T06:42:15.814798Z"
    }
   },
   "outputs": [],
   "source": [
    "x3=x2[['segmentasi_encoded',\n",
    "'agama_encoded',\n",
    "'rekomendasi_encoded',\n",
    "'channel_encoded',\n",
    "'range_usia_encoded',\n",
    "'jenis_kelamin_encoded',\n",
    "'total_amount_encoded',\n",
    "'status_rek_encoded',\n",
    "'profesi_encoded',\n",
    "'pendidikan_encoded',\n",
    "'range_gaji_encoded',\n",
    "'region_nm_encoded',\n",
    "'status_kyc_encoded',\n",
    "'total_transaksi']]"
   ]
  },
  {
   "cell_type": "code",
   "execution_count": 67,
   "metadata": {
    "ExecuteTime": {
     "end_time": "2021-11-18T06:42:17.678313Z",
     "start_time": "2021-11-18T06:42:17.656732Z"
    }
   },
   "outputs": [
    {
     "name": "stdout",
     "output_type": "stream",
     "text": [
      "<class 'pandas.core.frame.DataFrame'>\n",
      "Int64Index: 107716 entries, 1672450 to 2383459\n",
      "Data columns (total 14 columns):\n",
      " #   Column                 Non-Null Count   Dtype\n",
      "---  ------                 --------------   -----\n",
      " 0   segmentasi_encoded     107716 non-null  int64\n",
      " 1   agama_encoded          107716 non-null  int64\n",
      " 2   rekomendasi_encoded    107716 non-null  int64\n",
      " 3   channel_encoded        107716 non-null  int64\n",
      " 4   range_usia_encoded     107716 non-null  int64\n",
      " 5   jenis_kelamin_encoded  107716 non-null  int64\n",
      " 6   total_amount_encoded   107716 non-null  int64\n",
      " 7   status_rek_encoded     107716 non-null  int64\n",
      " 8   profesi_encoded        107716 non-null  int64\n",
      " 9   pendidikan_encoded     107716 non-null  int64\n",
      " 10  range_gaji_encoded     107716 non-null  int64\n",
      " 11  region_nm_encoded      107716 non-null  int64\n",
      " 12  status_kyc_encoded     107716 non-null  int64\n",
      " 13  total_transaksi        107716 non-null  int64\n",
      "dtypes: int64(14)\n",
      "memory usage: 12.3 MB\n"
     ]
    }
   ],
   "source": [
    "x3.info()"
   ]
  },
  {
   "cell_type": "code",
   "execution_count": 68,
   "metadata": {
    "ExecuteTime": {
     "end_time": "2021-11-18T06:42:20.855791Z",
     "start_time": "2021-11-18T06:42:20.842874Z"
    }
   },
   "outputs": [],
   "source": [
    "def cramers_v(x, y):\n",
    "    confusion_matrix = pd.crosstab(x,y)\n",
    "    chi2 = scipy.stats.chi2_contingency(confusion_matrix)[0]\n",
    "    n = confusion_matrix.sum().sum()\n",
    "    phi2 = chi2/n\n",
    "    r,k = confusion_matrix.shape\n",
    "    phi2corr = max(0, phi2-((k-1)*(r-1))/(n-1))\n",
    "    rcorr = r-((r-1)**2)/(n-1)\n",
    "    kcorr = k-((k-1)**2)/(n-1)\n",
    "    return np.sqrt(phi2corr/min((kcorr-1),(rcorr-1)))"
   ]
  },
  {
   "cell_type": "code",
   "execution_count": 69,
   "metadata": {
    "ExecuteTime": {
     "end_time": "2021-11-18T06:42:28.517169Z",
     "start_time": "2021-11-18T06:42:22.251300Z"
    }
   },
   "outputs": [],
   "source": [
    "a=[]\n",
    "index=[]\n",
    "for i in range(0,len(x3.columns)):\n",
    "  b=[]\n",
    "  for j in range(0,len(x3.columns)):\n",
    "    c = cramers_v (x3[x3.columns[i]],x3[x3.columns[j]])\n",
    "    b.append(c)\n",
    "  a.append(b)\n",
    "  index.append(x3.columns[i])"
   ]
  },
  {
   "cell_type": "code",
   "execution_count": 70,
   "metadata": {
    "ExecuteTime": {
     "end_time": "2021-11-18T06:42:29.469390Z",
     "start_time": "2021-11-18T06:42:28.520302Z"
    }
   },
   "outputs": [
    {
     "data": {
      "image/png": "[encoded data removed]",
      "text/plain": [
       "<Figure size 1440x864 with 2 Axes>"
      ]
     },
     "metadata": {
      "needs_background": "light"
     },
     "output_type": "display_data"
    }
   ],
   "source": [
    "df2 = DataFrame(np.array(a), index=index, columns=index)\n",
    "\n",
    "plt.figure(figsize = (20,12))\n",
    "heatmap1=sns.heatmap(df2, annot=True, cmap=\"YlGnBu\")\n",
    "plt.rcParams.update({'font.size': 24})\n",
    "plt.show()"
   ]
  },
  {
   "cell_type": "code",
   "execution_count": 71,
   "metadata": {
    "ExecuteTime": {
     "end_time": "2021-11-18T06:42:37.764805Z",
     "start_time": "2021-11-18T06:42:36.901693Z"
    }
   },
   "outputs": [],
   "source": [
    "heatmap1.figure.savefig('CremerV.png')"
   ]
  },
  {
   "cell_type": "code",
   "execution_count": 98,
   "metadata": {
    "ExecuteTime": {
     "end_time": "2021-11-18T03:58:23.325813Z",
     "start_time": "2021-11-18T03:58:23.297589Z"
    }
   },
   "outputs": [
    {
     "data": {
      "text/html": [
       "<div>\n",
       "<style scoped>\n",
       "    .dataframe tbody tr th:only-of-type {\n",
       "        vertical-align: middle;\n",
       "    }\n",
       "\n",
       "    .dataframe tbody tr th {\n",
       "        vertical-align: top;\n",
       "    }\n",
       "\n",
       "    .dataframe thead th {\n",
       "        text-align: right;\n",
       "    }\n",
       "</style>\n",
       "<table border=\"1\" class=\"dataframe\">\n",
       "  <thead>\n",
       "    <tr style=\"text-align: right;\">\n",
       "      <th></th>\n",
       "      <th>segmentasi_encoded</th>\n",
       "      <th>agama_encoded</th>\n",
       "      <th>rekomendasi_encoded</th>\n",
       "      <th>channel_encoded</th>\n",
       "      <th>range_usia_encoded</th>\n",
       "      <th>jenis_kelamin_encoded</th>\n",
       "    </tr>\n",
       "  </thead>\n",
       "  <tbody>\n",
       "    <tr>\n",
       "      <th>segmentasi_encoded</th>\n",
       "      <td>1.000000</td>\n",
       "      <td>0.039623</td>\n",
       "      <td>0.166276</td>\n",
       "      <td>0.166432</td>\n",
       "      <td>0.075843</td>\n",
       "      <td>0.087883</td>\n",
       "    </tr>\n",
       "    <tr>\n",
       "      <th>agama_encoded</th>\n",
       "      <td>0.039623</td>\n",
       "      <td>1.000000</td>\n",
       "      <td>0.005994</td>\n",
       "      <td>0.049491</td>\n",
       "      <td>0.041012</td>\n",
       "      <td>0.016486</td>\n",
       "    </tr>\n",
       "    <tr>\n",
       "      <th>rekomendasi_encoded</th>\n",
       "      <td>0.166276</td>\n",
       "      <td>0.005994</td>\n",
       "      <td>1.000000</td>\n",
       "      <td>0.066660</td>\n",
       "      <td>0.017145</td>\n",
       "      <td>0.061732</td>\n",
       "    </tr>\n",
       "    <tr>\n",
       "      <th>channel_encoded</th>\n",
       "      <td>0.166432</td>\n",
       "      <td>0.049491</td>\n",
       "      <td>0.066660</td>\n",
       "      <td>1.000000</td>\n",
       "      <td>0.077191</td>\n",
       "      <td>0.258203</td>\n",
       "    </tr>\n",
       "    <tr>\n",
       "      <th>range_usia_encoded</th>\n",
       "      <td>0.075843</td>\n",
       "      <td>0.041012</td>\n",
       "      <td>0.017145</td>\n",
       "      <td>0.077191</td>\n",
       "      <td>1.000000</td>\n",
       "      <td>0.121466</td>\n",
       "    </tr>\n",
       "    <tr>\n",
       "      <th>jenis_kelamin_encoded</th>\n",
       "      <td>0.087883</td>\n",
       "      <td>0.016486</td>\n",
       "      <td>0.061732</td>\n",
       "      <td>0.258203</td>\n",
       "      <td>0.121466</td>\n",
       "      <td>0.999996</td>\n",
       "    </tr>\n",
       "  </tbody>\n",
       "</table>\n",
       "</div>"
      ],
      "text/plain": [
       "                       segmentasi_encoded  agama_encoded  rekomendasi_encoded  \\\n",
       "segmentasi_encoded               1.000000       0.039623             0.166276   \n",
       "agama_encoded                    0.039623       1.000000             0.005994   \n",
       "rekomendasi_encoded              0.166276       0.005994             1.000000   \n",
       "channel_encoded                  0.166432       0.049491             0.066660   \n",
       "range_usia_encoded               0.075843       0.041012             0.017145   \n",
       "jenis_kelamin_encoded            0.087883       0.016486             0.061732   \n",
       "\n",
       "                       channel_encoded  range_usia_encoded  \\\n",
       "segmentasi_encoded            0.166432            0.075843   \n",
       "agama_encoded                 0.049491            0.041012   \n",
       "rekomendasi_encoded           0.066660            0.017145   \n",
       "channel_encoded               1.000000            0.077191   \n",
       "range_usia_encoded            0.077191            1.000000   \n",
       "jenis_kelamin_encoded         0.258203            0.121466   \n",
       "\n",
       "                       jenis_kelamin_encoded  \n",
       "segmentasi_encoded                  0.087883  \n",
       "agama_encoded                       0.016486  \n",
       "rekomendasi_encoded                 0.061732  \n",
       "channel_encoded                     0.258203  \n",
       "range_usia_encoded                  0.121466  \n",
       "jenis_kelamin_encoded               0.999996  "
      ]
     },
     "execution_count": 98,
     "metadata": {},
     "output_type": "execute_result"
    }
   ],
   "source": [
    "df2"
   ]
  },
  {
   "cell_type": "code",
   "execution_count": null,
   "metadata": {},
   "outputs": [],
   "source": []
  }
 ],
 "metadata": {
  "hide_input": false,
  "kernelspec": {
   "display_name": "Python 3",
   "language": "python",
   "name": "python3"
  },
  "language_info": {
   "codemirror_mode": {
    "name": "ipython",
    "version": 3
   },
   "file_extension": ".py",
   "mimetype": "text/x-python",
   "name": "python",
   "nbconvert_exporter": "python",
   "pygments_lexer": "ipython3",
   "version": "3.6.8"
  },
  "toc": {
   "base_numbering": 1,
   "nav_menu": {},
   "number_sections": true,
   "sideBar": true,
   "skip_h1_title": false,
   "title_cell": "Table of Contents",
   "title_sidebar": "Contents",
   "toc_cell": false,
   "toc_position": {
    "height": "calc(100% - 180px)",
    "left": "10px",
    "top": "150px",
    "width": "165px"
   },
   "toc_section_display": true,
   "toc_window_display": true
  }
 },
 "nbformat": 4,
 "nbformat_minor": 2
}
