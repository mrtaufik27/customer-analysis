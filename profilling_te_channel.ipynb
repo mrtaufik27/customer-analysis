{
 "cells": [
  {
   "cell_type": "code",
   "execution_count": 1,
   "metadata": {
    "ExecuteTime": {
     "end_time": "2021-11-17T08:24:32.668303Z",
     "start_time": "2021-11-17T08:24:32.383181Z"
    }
   },
   "outputs": [],
   "source": [
    "from pyspark import SparkConf\n",
    "from pyspark.sql import SparkSession\n",
    "from datetime import datetime\n",
    "from pyspark.sql.functions import broadcast\n",
    "# startTime = datetime.now()"
   ]
  },
  {
   "cell_type": "code",
   "execution_count": 2,
   "metadata": {
    "ExecuteTime": {
     "end_time": "2021-11-17T08:24:35.343680Z",
     "start_time": "2021-11-17T08:24:33.404523Z"
    }
   },
   "outputs": [
    {
     "name": "stderr",
     "output_type": "stream",
     "text": [
      "\n",
      "Bad key \"backend.qt4\" on line 43 in\n",
      "/etc/matplotlib/matplotlibrc.\n",
      "You probably need to get an updated matplotlibrc file from\n",
      "https://github.com/matplotlib/matplotlib/blob/v3.2.2/matplotlibrc.template\n",
      "or from the matplotlib source distribution\n"
     ]
    }
   ],
   "source": [
    "import pandas as pd\n",
    "import numpy as np\n",
    "import statsmodels.api as sm\n",
    "import scipy \n",
    "import scipy.stats as st\n",
    "import matplotlib.pyplot as plt\n",
    "import seaborn as sns\n",
    "\n",
    "from sklearn.metrics import confusion_matrix\n",
    "import matplotlib.mlab as mlab\n",
    "%matplotlib inline\n",
    "\n"
   ]
  },
  {
   "cell_type": "code",
   "execution_count": 3,
   "metadata": {
    "ExecuteTime": {
     "end_time": "2021-11-17T08:24:38.932953Z",
     "start_time": "2021-11-17T08:24:38.831056Z"
    }
   },
   "outputs": [],
   "source": [
    "import pandas as pd\n",
    "from pandas import DataFrame\n",
    "import numpy as np \n",
    "import scipy \n",
    "import scipy.stats as ss\n",
    "from scipy.stats import chi2_contingency\n",
    "import seaborn as sns\n",
    "import matplotlib.pyplot as plt\n",
    "import matplotlib.colors as mcolors\n",
    "from sklearn import preprocessing\n",
    "from sklearn.cluster import KMeans\n",
    "from sklearn.preprocessing import MinMaxScaler"
   ]
  },
  {
   "cell_type": "code",
   "execution_count": 4,
   "metadata": {
    "ExecuteTime": {
     "end_time": "2021-11-17T08:25:13.130054Z",
     "start_time": "2021-11-17T08:24:40.430535Z"
    }
   },
   "outputs": [],
   "source": [
    "conf = SparkConf()\n",
    "\n",
    "conf = conf.set(\"spark.executor.instances\", '8')\n",
    "conf = conf.set(\"spark.executor.cores\", '4')\n",
    "conf = conf.set(\"spark.executor.memory\", \"60G\")\n",
    "# conf = conf.set(\"spark.jars\", \"db2jcc4.jar\")\n",
    "conf = conf.set(\"spark.sql.legacy.allowCreatingManagedTableUsingNonemptyLocation\",\"true\")\n",
    "conf = conf.set(\"spark.sql.broadcastTimeout\",  \"900\")\n",
    "conf = conf.set(\"spark.driver.maxResultSize\", \"8g\")\n",
    "\n",
    "spark = SparkSession.builder \\\n",
    "    .config(conf=conf) \\\n",
    "    .config('spark.dynamicAllocation.enabled', 'false') \\\n",
    "    .config('spark.kryoserializer.buffer.max', '2047') \\\n",
    "    .config('spark.io.compression.codec', 'snappy') \\\n",
    "    .config('spark.blacklist.enabled', 'false') \\\n",
    "    .config('spark.dynamicAllocation.enabled', 'false') \\\n",
    "    .master(\"yarn\") \\\n",
    "    .appName(\"---\") \\\n",
    "    .config('spark.yarn.executor.memoryOverhead', '10g') \\\n",
    "    .enableHiveSupport() \\\n",
    "    .getOrCreate()"
   ]
  },
  {
   "cell_type": "code",
   "execution_count": 5,
   "metadata": {
    "ExecuteTime": {
     "end_time": "2021-11-17T08:25:13.181550Z",
     "start_time": "2021-11-17T08:25:13.132375Z"
    }
   },
   "outputs": [],
   "source": [
    "# LOG_REFRESSION\n",
    "import matplotlib.pyplot as plt\n",
    "import numpy as np\n",
    "from sklearn.linear_model import LogisticRegression\n",
    "from sklearn.metrics import classification_report, confusion_matrix\n",
    "from sklearn.datasets import load_iris\n",
    "from sklearn.model_selection import train_test_split"
   ]
  },
  {
   "cell_type": "code",
   "execution_count": null,
   "metadata": {
    "ExecuteTime": {
     "end_time": "2021-11-03T02:55:44.329403Z",
     "start_time": "2021-11-03T02:55:44.323191Z"
    }
   },
   "outputs": [],
   "source": [
    "#spark"
   ]
  },
  {
   "cell_type": "code",
   "execution_count": null,
   "metadata": {
    "ExecuteTime": {
     "end_time": "2021-11-03T02:55:45.562401Z",
     "start_time": "2021-11-03T02:55:44.330509Z"
    }
   },
   "outputs": [],
   "source": [
    "#spark.sql(\"\"\"REFRESH dev_datamart.dm_profilling_te_channelling_summary\"\"\")"
   ]
  },
  {
   "cell_type": "markdown",
   "metadata": {},
   "source": [
    "# PREPROCESSING DATA"
   ]
  },
  {
   "cell_type": "code",
   "execution_count": 6,
   "metadata": {
    "ExecuteTime": {
     "end_time": "2021-11-17T08:25:39.819837Z",
     "start_time": "2021-11-17T08:25:37.265714Z"
    }
   },
   "outputs": [],
   "source": [
    "# INPUT DATA\n",
    "df=spark.sql(\"\"\"\n",
    "\n",
    "\n",
    "select *  \n",
    "from dev_datamart.dm_profilling_te_channelling_summary\n",
    "\n",
    "\"\"\")\n",
    "\n",
    "# type(df)"
   ]
  },
  {
   "cell_type": "code",
   "execution_count": 7,
   "metadata": {
    "ExecuteTime": {
     "end_time": "2021-11-12T01:41:00.431195Z",
     "start_time": "2021-11-12T01:41:00.427462Z"
    }
   },
   "outputs": [
    {
     "data": {
      "text/plain": [
       "pyspark.sql.dataframe.DataFrame"
      ]
     },
     "execution_count": 7,
     "metadata": {},
     "output_type": "execute_result"
    }
   ],
   "source": [
    "type(df)"
   ]
  },
  {
   "cell_type": "code",
   "execution_count": 8,
   "metadata": {
    "ExecuteTime": {
     "end_time": "2021-11-17T08:25:55.002893Z",
     "start_time": "2021-11-17T08:25:54.726104Z"
    }
   },
   "outputs": [
    {
     "name": "stderr",
     "output_type": "stream",
     "text": [
      "WARNING:root:'ARROW_PRE_0_15_IPC_FORMAT' environment variable was not set. It is required to set this environment variable to '1' in both driver and executor sides if you use pyarrow>=0.15 and pyspark<3.0. Koalas will set it for you but it does not work if there is a Spark context already launched.\n",
      "WARNING:root:'PYARROW_IGNORE_TIMEZONE' environment variable was not set. It is required to set this environment variable to '1' in both driver and executor sides if you use pyarrow>=2.0.0. Koalas will set it for you but it does not work if there is a Spark context already launched.\n"
     ]
    }
   ],
   "source": [
    "import databricks.koalas as ks"
   ]
  },
  {
   "cell_type": "code",
   "execution_count": 9,
   "metadata": {
    "ExecuteTime": {
     "end_time": "2021-11-17T08:26:20.807898Z",
     "start_time": "2021-11-17T08:25:57.196250Z"
    }
   },
   "outputs": [
    {
     "data": {
      "text/plain": [
       "(636829, 22)"
      ]
     },
     "execution_count": 9,
     "metadata": {},
     "output_type": "execute_result"
    }
   ],
   "source": [
    "kdf= df.to_koalas()\n",
    "kdf.shape"
   ]
  },
  {
   "cell_type": "code",
   "execution_count": 10,
   "metadata": {
    "ExecuteTime": {
     "end_time": "2021-11-12T01:41:24.970289Z",
     "start_time": "2021-11-12T01:41:09.450846Z"
    }
   },
   "outputs": [
    {
     "data": {
      "text/html": [
       "<div>\n",
       "<style scoped>\n",
       "    .dataframe tbody tr th:only-of-type {\n",
       "        vertical-align: middle;\n",
       "    }\n",
       "\n",
       "    .dataframe tbody tr th {\n",
       "        vertical-align: top;\n",
       "    }\n",
       "\n",
       "    .dataframe thead th {\n",
       "        text-align: right;\n",
       "    }\n",
       "</style>\n",
       "<table border=\"1\" class=\"dataframe\">\n",
       "  <thead>\n",
       "    <tr style=\"text-align: right;\">\n",
       "      <th></th>\n",
       "      <th>var</th>\n",
       "      <th>sum_na</th>\n",
       "      <th>prs</th>\n",
       "    </tr>\n",
       "  </thead>\n",
       "  <tbody>\n",
       "    <tr>\n",
       "      <th>0</th>\n",
       "      <td>jumlah_transaksi</td>\n",
       "      <td>0</td>\n",
       "      <td>0.000000</td>\n",
       "    </tr>\n",
       "    <tr>\n",
       "      <th>1</th>\n",
       "      <td>total_berat</td>\n",
       "      <td>189622</td>\n",
       "      <td>10.733975</td>\n",
       "    </tr>\n",
       "    <tr>\n",
       "      <th>2</th>\n",
       "      <td>total_amount</td>\n",
       "      <td>228595</td>\n",
       "      <td>12.940128</td>\n",
       "    </tr>\n",
       "    <tr>\n",
       "      <th>3</th>\n",
       "      <td>segmentasi</td>\n",
       "      <td>16043</td>\n",
       "      <td>0.908150</td>\n",
       "    </tr>\n",
       "    <tr>\n",
       "      <th>4</th>\n",
       "      <td>agama</td>\n",
       "      <td>65700</td>\n",
       "      <td>3.719095</td>\n",
       "    </tr>\n",
       "    <tr>\n",
       "      <th>5</th>\n",
       "      <td>profesi</td>\n",
       "      <td>654713</td>\n",
       "      <td>37.061485</td>\n",
       "    </tr>\n",
       "    <tr>\n",
       "      <th>6</th>\n",
       "      <td>jumlah_tanggungan</td>\n",
       "      <td>1762343</td>\n",
       "      <td>99.761344</td>\n",
       "    </tr>\n",
       "    <tr>\n",
       "      <th>7</th>\n",
       "      <td>pendidikan</td>\n",
       "      <td>722622</td>\n",
       "      <td>40.905625</td>\n",
       "    </tr>\n",
       "    <tr>\n",
       "      <th>8</th>\n",
       "      <td>range_gaji</td>\n",
       "      <td>955191</td>\n",
       "      <td>54.070710</td>\n",
       "    </tr>\n",
       "    <tr>\n",
       "      <th>9</th>\n",
       "      <td>jenis_kelamin</td>\n",
       "      <td>6</td>\n",
       "      <td>0.000340</td>\n",
       "    </tr>\n",
       "    <tr>\n",
       "      <th>10</th>\n",
       "      <td>range_usia</td>\n",
       "      <td>2</td>\n",
       "      <td>0.000113</td>\n",
       "    </tr>\n",
       "    <tr>\n",
       "      <th>11</th>\n",
       "      <td>status_kyc</td>\n",
       "      <td>0</td>\n",
       "      <td>0.000000</td>\n",
       "    </tr>\n",
       "    <tr>\n",
       "      <th>12</th>\n",
       "      <td>source_kyc</td>\n",
       "      <td>590737</td>\n",
       "      <td>33.439981</td>\n",
       "    </tr>\n",
       "    <tr>\n",
       "      <th>13</th>\n",
       "      <td>flag</td>\n",
       "      <td>790</td>\n",
       "      <td>0.044720</td>\n",
       "    </tr>\n",
       "    <tr>\n",
       "      <th>14</th>\n",
       "      <td>tgl_transaksi</td>\n",
       "      <td>790</td>\n",
       "      <td>0.044720</td>\n",
       "    </tr>\n",
       "    <tr>\n",
       "      <th>15</th>\n",
       "      <td>jenis_transaksi</td>\n",
       "      <td>790</td>\n",
       "      <td>0.044720</td>\n",
       "    </tr>\n",
       "    <tr>\n",
       "      <th>16</th>\n",
       "      <td>client</td>\n",
       "      <td>0</td>\n",
       "      <td>0.000000</td>\n",
       "    </tr>\n",
       "    <tr>\n",
       "      <th>17</th>\n",
       "      <td>region_nm</td>\n",
       "      <td>0</td>\n",
       "      <td>0.000000</td>\n",
       "    </tr>\n",
       "  </tbody>\n",
       "</table>\n",
       "</div>"
      ],
      "text/plain": [
       "                  var   sum_na        prs\n",
       "0    jumlah_transaksi        0   0.000000\n",
       "1         total_berat   189622  10.733975\n",
       "2        total_amount   228595  12.940128\n",
       "3          segmentasi    16043   0.908150\n",
       "4               agama    65700   3.719095\n",
       "5             profesi   654713  37.061485\n",
       "6   jumlah_tanggungan  1762343  99.761344\n",
       "7          pendidikan   722622  40.905625\n",
       "8          range_gaji   955191  54.070710\n",
       "9       jenis_kelamin        6   0.000340\n",
       "10         range_usia        2   0.000113\n",
       "11         status_kyc        0   0.000000\n",
       "12         source_kyc   590737  33.439981\n",
       "13               flag      790   0.044720\n",
       "14      tgl_transaksi      790   0.044720\n",
       "15    jenis_transaksi      790   0.044720\n",
       "16             client        0   0.000000\n",
       "17          region_nm        0   0.000000"
      ]
     },
     "execution_count": 10,
     "metadata": {},
     "output_type": "execute_result"
    }
   ],
   "source": [
    "isna_rep = kdf.isna().sum().to_frame().reset_index()\n",
    "isna_rep.columns = ['var','sum_na']\n",
    "isna_rep['prs']=isna_rep['sum_na']/len(kdf)*100\n",
    "isna_rep"
   ]
  },
  {
   "cell_type": "code",
   "execution_count": 11,
   "metadata": {
    "ExecuteTime": {
     "end_time": "2021-11-12T01:41:24.974169Z",
     "start_time": "2021-11-12T01:41:24.971788Z"
    }
   },
   "outputs": [],
   "source": [
    "# delet jumlah tanggungan\n",
    "kdf = kdf.drop(columns=\"jumlah_tanggungan\")"
   ]
  },
  {
   "cell_type": "code",
   "execution_count": 12,
   "metadata": {
    "ExecuteTime": {
     "end_time": "2021-11-12T01:41:30.293904Z",
     "start_time": "2021-11-12T01:41:24.975541Z"
    }
   },
   "outputs": [
    {
     "data": {
      "text/plain": [
       "(682487, 17)"
      ]
     },
     "execution_count": 12,
     "metadata": {},
     "output_type": "execute_result"
    }
   ],
   "source": [
    "# delet na\n",
    "kdf = kdf.dropna()\n",
    "kdf.shape"
   ]
  },
  {
   "cell_type": "code",
   "execution_count": 13,
   "metadata": {
    "ExecuteTime": {
     "end_time": "2021-11-12T01:41:42.656922Z",
     "start_time": "2021-11-12T01:41:30.295626Z"
    }
   },
   "outputs": [
    {
     "data": {
      "text/html": [
       "<div>\n",
       "<style scoped>\n",
       "    .dataframe tbody tr th:only-of-type {\n",
       "        vertical-align: middle;\n",
       "    }\n",
       "\n",
       "    .dataframe tbody tr th {\n",
       "        vertical-align: top;\n",
       "    }\n",
       "\n",
       "    .dataframe thead th {\n",
       "        text-align: right;\n",
       "    }\n",
       "</style>\n",
       "<table border=\"1\" class=\"dataframe\">\n",
       "  <thead>\n",
       "    <tr style=\"text-align: right;\">\n",
       "      <th></th>\n",
       "      <th>var</th>\n",
       "      <th>sum_na</th>\n",
       "      <th>prs</th>\n",
       "    </tr>\n",
       "  </thead>\n",
       "  <tbody>\n",
       "    <tr>\n",
       "      <th>0</th>\n",
       "      <td>jumlah_transaksi</td>\n",
       "      <td>0</td>\n",
       "      <td>0.0</td>\n",
       "    </tr>\n",
       "    <tr>\n",
       "      <th>1</th>\n",
       "      <td>total_berat</td>\n",
       "      <td>0</td>\n",
       "      <td>0.0</td>\n",
       "    </tr>\n",
       "    <tr>\n",
       "      <th>2</th>\n",
       "      <td>total_amount</td>\n",
       "      <td>0</td>\n",
       "      <td>0.0</td>\n",
       "    </tr>\n",
       "    <tr>\n",
       "      <th>3</th>\n",
       "      <td>segmentasi</td>\n",
       "      <td>0</td>\n",
       "      <td>0.0</td>\n",
       "    </tr>\n",
       "    <tr>\n",
       "      <th>4</th>\n",
       "      <td>agama</td>\n",
       "      <td>0</td>\n",
       "      <td>0.0</td>\n",
       "    </tr>\n",
       "    <tr>\n",
       "      <th>5</th>\n",
       "      <td>profesi</td>\n",
       "      <td>0</td>\n",
       "      <td>0.0</td>\n",
       "    </tr>\n",
       "    <tr>\n",
       "      <th>6</th>\n",
       "      <td>pendidikan</td>\n",
       "      <td>0</td>\n",
       "      <td>0.0</td>\n",
       "    </tr>\n",
       "    <tr>\n",
       "      <th>7</th>\n",
       "      <td>range_gaji</td>\n",
       "      <td>0</td>\n",
       "      <td>0.0</td>\n",
       "    </tr>\n",
       "    <tr>\n",
       "      <th>8</th>\n",
       "      <td>jenis_kelamin</td>\n",
       "      <td>0</td>\n",
       "      <td>0.0</td>\n",
       "    </tr>\n",
       "    <tr>\n",
       "      <th>9</th>\n",
       "      <td>range_usia</td>\n",
       "      <td>0</td>\n",
       "      <td>0.0</td>\n",
       "    </tr>\n",
       "    <tr>\n",
       "      <th>10</th>\n",
       "      <td>status_kyc</td>\n",
       "      <td>0</td>\n",
       "      <td>0.0</td>\n",
       "    </tr>\n",
       "    <tr>\n",
       "      <th>11</th>\n",
       "      <td>source_kyc</td>\n",
       "      <td>0</td>\n",
       "      <td>0.0</td>\n",
       "    </tr>\n",
       "    <tr>\n",
       "      <th>12</th>\n",
       "      <td>flag</td>\n",
       "      <td>0</td>\n",
       "      <td>0.0</td>\n",
       "    </tr>\n",
       "    <tr>\n",
       "      <th>13</th>\n",
       "      <td>tgl_transaksi</td>\n",
       "      <td>0</td>\n",
       "      <td>0.0</td>\n",
       "    </tr>\n",
       "    <tr>\n",
       "      <th>14</th>\n",
       "      <td>jenis_transaksi</td>\n",
       "      <td>0</td>\n",
       "      <td>0.0</td>\n",
       "    </tr>\n",
       "    <tr>\n",
       "      <th>15</th>\n",
       "      <td>client</td>\n",
       "      <td>0</td>\n",
       "      <td>0.0</td>\n",
       "    </tr>\n",
       "    <tr>\n",
       "      <th>16</th>\n",
       "      <td>region_nm</td>\n",
       "      <td>0</td>\n",
       "      <td>0.0</td>\n",
       "    </tr>\n",
       "  </tbody>\n",
       "</table>\n",
       "</div>"
      ],
      "text/plain": [
       "                 var  sum_na  prs\n",
       "0   jumlah_transaksi       0  0.0\n",
       "1        total_berat       0  0.0\n",
       "2       total_amount       0  0.0\n",
       "3         segmentasi       0  0.0\n",
       "4              agama       0  0.0\n",
       "5            profesi       0  0.0\n",
       "6         pendidikan       0  0.0\n",
       "7         range_gaji       0  0.0\n",
       "8      jenis_kelamin       0  0.0\n",
       "9         range_usia       0  0.0\n",
       "10        status_kyc       0  0.0\n",
       "11        source_kyc       0  0.0\n",
       "12              flag       0  0.0\n",
       "13     tgl_transaksi       0  0.0\n",
       "14   jenis_transaksi       0  0.0\n",
       "15            client       0  0.0\n",
       "16         region_nm       0  0.0"
      ]
     },
     "execution_count": 13,
     "metadata": {},
     "output_type": "execute_result"
    }
   ],
   "source": [
    "isna_rep = kdf.isna().sum().to_frame().reset_index()\n",
    "isna_rep.columns = ['var','sum_na']\n",
    "isna_rep['prs']=isna_rep['sum_na']/len(kdf)*100\n",
    "isna_rep"
   ]
  },
  {
   "cell_type": "code",
   "execution_count": 14,
   "metadata": {
    "ExecuteTime": {
     "end_time": "2021-11-12T01:41:42.756302Z",
     "start_time": "2021-11-12T01:41:42.658333Z"
    }
   },
   "outputs": [],
   "source": [
    "#pilih jumlah transaksi yang >0 (tidak 0)\n",
    "kdf  = kdf[kdf['jumlah_transaksi'] > 0]\n",
    "kdf  = kdf[kdf['total_amount'] > 0]"
   ]
  },
  {
   "cell_type": "code",
   "execution_count": 15,
   "metadata": {
    "ExecuteTime": {
     "end_time": "2021-11-12T01:43:02.119881Z",
     "start_time": "2021-11-12T01:42:57.221607Z"
    }
   },
   "outputs": [
    {
     "data": {
      "text/plain": [
       "32.16"
      ]
     },
     "execution_count": 15,
     "metadata": {},
     "output_type": "execute_result"
    }
   ],
   "source": [
    "kdf['total_amount'].min()"
   ]
  },
  {
   "cell_type": "code",
   "execution_count": 16,
   "metadata": {
    "ExecuteTime": {
     "end_time": "2021-11-12T01:43:07.195034Z",
     "start_time": "2021-11-12T01:43:02.121479Z"
    }
   },
   "outputs": [
    {
     "data": {
      "text/plain": [
       "380000055.1"
      ]
     },
     "execution_count": 16,
     "metadata": {},
     "output_type": "execute_result"
    }
   ],
   "source": [
    "kdf['total_amount'].max()"
   ]
  },
  {
   "cell_type": "code",
   "execution_count": 17,
   "metadata": {
    "ExecuteTime": {
     "end_time": "2021-11-12T01:43:12.778225Z",
     "start_time": "2021-11-12T01:43:07.196704Z"
    }
   },
   "outputs": [
    {
     "data": {
      "text/plain": [
       "total_amount        160258.824279\n",
       "jumlah_transaksi         5.770879\n",
       "total_berat              0.194647\n",
       "dtype: float64"
      ]
     },
     "execution_count": 17,
     "metadata": {},
     "output_type": "execute_result"
    }
   ],
   "source": [
    "kdf.mean()"
   ]
  },
  {
   "cell_type": "code",
   "execution_count": 18,
   "metadata": {
    "ExecuteTime": {
     "end_time": "2021-11-12T01:43:18.207341Z",
     "start_time": "2021-11-12T01:43:12.780037Z"
    }
   },
   "outputs": [
    {
     "data": {
      "text/plain": [
       "32.16"
      ]
     },
     "execution_count": 18,
     "metadata": {},
     "output_type": "execute_result"
    }
   ],
   "source": [
    "kdf['total_amount'].min()"
   ]
  },
  {
   "cell_type": "code",
   "execution_count": 19,
   "metadata": {
    "ExecuteTime": {
     "end_time": "2021-11-12T01:43:23.247365Z",
     "start_time": "2021-11-12T01:43:18.208661Z"
    }
   },
   "outputs": [
    {
     "data": {
      "text/plain": [
       "380000055.1"
      ]
     },
     "execution_count": 19,
     "metadata": {},
     "output_type": "execute_result"
    }
   ],
   "source": [
    "kdf['total_amount'].max()"
   ]
  },
  {
   "cell_type": "code",
   "execution_count": 20,
   "metadata": {
    "ExecuteTime": {
     "end_time": "2021-11-12T01:43:28.303524Z",
     "start_time": "2021-11-12T01:43:23.248884Z"
    }
   },
   "outputs": [
    {
     "data": {
      "text/plain": [
       "0.0005"
      ]
     },
     "execution_count": 20,
     "metadata": {},
     "output_type": "execute_result"
    }
   ],
   "source": [
    "kdf['total_berat'].min() "
   ]
  },
  {
   "cell_type": "code",
   "execution_count": 21,
   "metadata": {
    "ExecuteTime": {
     "end_time": "2021-11-12T01:43:56.181479Z",
     "start_time": "2021-11-12T01:43:50.668098Z"
    }
   },
   "outputs": [
    {
     "data": {
      "text/plain": [
       "417.1241"
      ]
     },
     "execution_count": 21,
     "metadata": {},
     "output_type": "execute_result"
    }
   ],
   "source": [
    "kdf['total_berat'].max()"
   ]
  },
  {
   "cell_type": "code",
   "execution_count": null,
   "metadata": {},
   "outputs": [],
   "source": []
  },
  {
   "cell_type": "code",
   "execution_count": null,
   "metadata": {},
   "outputs": [],
   "source": []
  },
  {
   "cell_type": "code",
   "execution_count": null,
   "metadata": {},
   "outputs": [],
   "source": []
  },
  {
   "cell_type": "code",
   "execution_count": 22,
   "metadata": {
    "ExecuteTime": {
     "end_time": "2021-11-12T01:44:20.465061Z",
     "start_time": "2021-11-12T01:43:56.182852Z"
    }
   },
   "outputs": [
    {
     "name": "stdout",
     "output_type": "stream",
     "text": [
      "databricks.koalas.frame.DataFrame\n",
      "Index: 674547 entries, 24 to 1766557\n",
      "Data columns (total 17 columns):\n",
      " #   Column            Non-Null Count   Dtype         \n",
      "---  ------            --------------   -----         \n",
      " 0   jumlah_transaksi  674547 non-null  int64         \n",
      " 1   total_berat       674547 non-null  float64       \n",
      " 2   total_amount      674547 non-null  float64       \n",
      " 3   segmentasi        674547 non-null  object        \n",
      " 4   agama             674547 non-null  object        \n",
      " 5   profesi           674547 non-null  object        \n",
      " 6   pendidikan        674547 non-null  object        \n",
      " 7   range_gaji        674547 non-null  object        \n",
      " 8   jenis_kelamin     674547 non-null  object        \n",
      " 9   range_usia        674547 non-null  object        \n",
      " 10  status_kyc        674547 non-null  object        \n",
      " 11  source_kyc        674547 non-null  object        \n",
      " 12  flag              674547 non-null  object        \n",
      " 13  tgl_transaksi     674547 non-null  datetime64[ns]\n",
      " 14  jenis_transaksi   674547 non-null  object        \n",
      " 15  client            674547 non-null  object        \n",
      " 16  region_nm         674547 non-null  object        \n",
      "dtypes: datetime64[ns](1), float64(2), int64(1), object(13)"
     ]
    }
   ],
   "source": [
    "kdf.info()"
   ]
  },
  {
   "cell_type": "code",
   "execution_count": 13,
   "metadata": {
    "ExecuteTime": {
     "end_time": "2021-11-09T01:24:59.288212Z",
     "start_time": "2021-11-09T01:24:59.286452Z"
    }
   },
   "outputs": [],
   "source": [
    "# delete none\n",
    "# kdf.dropna(subset=['range_gaji'], inplace=True)\n",
    "# # kdf = kdf.dropna(how='any',axis=0) \n",
    "# len(kdf)\n",
    "# kdf.mask(kdf.eq('None')).dropna()"
   ]
  },
  {
   "cell_type": "code",
   "execution_count": 23,
   "metadata": {
    "ExecuteTime": {
     "end_time": "2021-11-12T01:44:27.545371Z",
     "start_time": "2021-11-12T01:44:20.467111Z"
    }
   },
   "outputs": [
    {
     "data": {
      "text/html": [
       "<div>\n",
       "<style scoped>\n",
       "    .dataframe tbody tr th:only-of-type {\n",
       "        vertical-align: middle;\n",
       "    }\n",
       "\n",
       "    .dataframe tbody tr th {\n",
       "        vertical-align: top;\n",
       "    }\n",
       "\n",
       "    .dataframe thead th {\n",
       "        text-align: right;\n",
       "    }\n",
       "</style>\n",
       "<table border=\"1\" class=\"dataframe\">\n",
       "  <thead>\n",
       "    <tr style=\"text-align: right;\">\n",
       "      <th></th>\n",
       "      <th>jumlah_transaksi</th>\n",
       "      <th>total_berat</th>\n",
       "      <th>total_amount</th>\n",
       "      <th>segmentasi</th>\n",
       "      <th>agama</th>\n",
       "      <th>profesi</th>\n",
       "      <th>pendidikan</th>\n",
       "      <th>range_gaji</th>\n",
       "      <th>jenis_kelamin</th>\n",
       "      <th>range_usia</th>\n",
       "      <th>status_kyc</th>\n",
       "      <th>source_kyc</th>\n",
       "      <th>flag</th>\n",
       "      <th>tgl_transaksi</th>\n",
       "      <th>jenis_transaksi</th>\n",
       "      <th>client</th>\n",
       "      <th>region_nm</th>\n",
       "    </tr>\n",
       "  </thead>\n",
       "  <tbody>\n",
       "    <tr>\n",
       "      <th>24</th>\n",
       "      <td>1</td>\n",
       "      <td>0.0140</td>\n",
       "      <td>9996.0</td>\n",
       "      <td>Shopper</td>\n",
       "      <td>ISLAM</td>\n",
       "      <td>Ibu Rumah Tangga</td>\n",
       "      <td>S1</td>\n",
       "      <td>3 - 5 Juta</td>\n",
       "      <td>Perempuan</td>\n",
       "      <td>35-45</td>\n",
       "      <td>1</td>\n",
       "      <td>Outlet</td>\n",
       "      <td>KONVEN</td>\n",
       "      <td>2019-10-22</td>\n",
       "      <td>SALE</td>\n",
       "      <td>TOKOPEDIA</td>\n",
       "      <td>KANTOR PUSAT</td>\n",
       "    </tr>\n",
       "    <tr>\n",
       "      <th>40</th>\n",
       "      <td>1</td>\n",
       "      <td>0.2805</td>\n",
       "      <td>199996.5</td>\n",
       "      <td>Shopper</td>\n",
       "      <td>ISLAM</td>\n",
       "      <td>Profesional</td>\n",
       "      <td>SMA</td>\n",
       "      <td>3 - 5 Juta</td>\n",
       "      <td>Laki-laki</td>\n",
       "      <td>35-45</td>\n",
       "      <td>1</td>\n",
       "      <td>Channel</td>\n",
       "      <td>KONVEN</td>\n",
       "      <td>2019-10-03</td>\n",
       "      <td>SALE</td>\n",
       "      <td>TOKOPEDIA</td>\n",
       "      <td>KANTOR PUSAT</td>\n",
       "    </tr>\n",
       "    <tr>\n",
       "      <th>54</th>\n",
       "      <td>2</td>\n",
       "      <td>0.0224</td>\n",
       "      <td>20160.0</td>\n",
       "      <td>Best</td>\n",
       "      <td>ISLAM</td>\n",
       "      <td>Lainnya</td>\n",
       "      <td>S1</td>\n",
       "      <td>3 - 5 Juta</td>\n",
       "      <td>Perempuan</td>\n",
       "      <td>25-35</td>\n",
       "      <td>1</td>\n",
       "      <td>Outlet</td>\n",
       "      <td>KONVEN</td>\n",
       "      <td>2021-06-13</td>\n",
       "      <td>SALE</td>\n",
       "      <td>SHOPEE</td>\n",
       "      <td>KANWIL BANDUNG</td>\n",
       "    </tr>\n",
       "    <tr>\n",
       "      <th>55</th>\n",
       "      <td>2</td>\n",
       "      <td>0.0228</td>\n",
       "      <td>20132.4</td>\n",
       "      <td>Best</td>\n",
       "      <td>ISLAM</td>\n",
       "      <td>Lainnya</td>\n",
       "      <td>S1</td>\n",
       "      <td>3 - 5 Juta</td>\n",
       "      <td>Perempuan</td>\n",
       "      <td>25-35</td>\n",
       "      <td>1</td>\n",
       "      <td>Outlet</td>\n",
       "      <td>KONVEN</td>\n",
       "      <td>2021-04-22</td>\n",
       "      <td>SALE</td>\n",
       "      <td>SHOPEE</td>\n",
       "      <td>KANWIL BANDUNG</td>\n",
       "    </tr>\n",
       "    <tr>\n",
       "      <th>58</th>\n",
       "      <td>10</td>\n",
       "      <td>0.0100</td>\n",
       "      <td>8800.0</td>\n",
       "      <td>Shopper</td>\n",
       "      <td>KATHOLIK</td>\n",
       "      <td>Profesional</td>\n",
       "      <td>SMA</td>\n",
       "      <td>1 - 3 Juta</td>\n",
       "      <td>Laki-laki</td>\n",
       "      <td>25-35</td>\n",
       "      <td>1</td>\n",
       "      <td>Outlet</td>\n",
       "      <td>KONVEN</td>\n",
       "      <td>2021-08-16</td>\n",
       "      <td>SALE</td>\n",
       "      <td>SHOPEE</td>\n",
       "      <td>KANWIL BANDUNG</td>\n",
       "    </tr>\n",
       "  </tbody>\n",
       "</table>\n",
       "</div>"
      ],
      "text/plain": [
       "    jumlah_transaksi  total_berat  total_amount segmentasi     agama           profesi pendidikan  range_gaji jenis_kelamin range_usia status_kyc source_kyc    flag tgl_transaksi jenis_transaksi     client       region_nm\n",
       "24                 1       0.0140        9996.0    Shopper     ISLAM  Ibu Rumah Tangga         S1  3 - 5 Juta     Perempuan      35-45          1     Outlet  KONVEN    2019-10-22            SALE  TOKOPEDIA    KANTOR PUSAT\n",
       "40                 1       0.2805      199996.5    Shopper     ISLAM       Profesional        SMA  3 - 5 Juta     Laki-laki      35-45          1    Channel  KONVEN    2019-10-03            SALE  TOKOPEDIA    KANTOR PUSAT\n",
       "54                 2       0.0224       20160.0       Best     ISLAM           Lainnya         S1  3 - 5 Juta     Perempuan      25-35          1     Outlet  KONVEN    2021-06-13            SALE     SHOPEE  KANWIL BANDUNG\n",
       "55                 2       0.0228       20132.4       Best     ISLAM           Lainnya         S1  3 - 5 Juta     Perempuan      25-35          1     Outlet  KONVEN    2021-04-22            SALE     SHOPEE  KANWIL BANDUNG\n",
       "58                10       0.0100        8800.0    Shopper  KATHOLIK       Profesional        SMA  1 - 3 Juta     Laki-laki      25-35          1     Outlet  KONVEN    2021-08-16            SALE     SHOPEE  KANWIL BANDUNG"
      ]
     },
     "execution_count": 23,
     "metadata": {},
     "output_type": "execute_result"
    }
   ],
   "source": [
    "kdf.head()"
   ]
  },
  {
   "cell_type": "code",
   "execution_count": null,
   "metadata": {
    "ExecuteTime": {
     "end_time": "2021-11-10T07:17:17.403610Z",
     "start_time": "2021-11-10T07:15:04.865Z"
    }
   },
   "outputs": [],
   "source": [
    "# #select variable depent & indpent\n",
    "# x=kdf[['jumlah_transaksi','total_berat','total_amount','segmentasi','agama','profesi','range_gaji','jenis_kelamin','range_usia','flag','jenis_transaksi','client']]\n",
    "# y=kdf[['status_kyc']]"
   ]
  },
  {
   "cell_type": "code",
   "execution_count": 24,
   "metadata": {
    "ExecuteTime": {
     "end_time": "2021-11-12T01:44:27.550119Z",
     "start_time": "2021-11-12T01:44:27.546879Z"
    }
   },
   "outputs": [],
   "source": [
    "#choose categorical\n",
    "cat_kdf=kdf[['segmentasi','agama','profesi','range_gaji','jenis_kelamin','range_usia','status_kyc','source_kyc','flag','jenis_transaksi','client','region_nm']]\n",
    "cat2_kdf=kdf[['segmentasi','agama','profesi','range_gaji','jenis_kelamin','range_usia','status_kyc','client',]]"
   ]
  },
  {
   "cell_type": "code",
   "execution_count": 10,
   "metadata": {
    "ExecuteTime": {
     "end_time": "2021-11-17T08:37:15.182694Z",
     "start_time": "2021-11-17T08:36:04.113416Z"
    }
   },
   "outputs": [
    {
     "name": "stderr",
     "output_type": "stream",
     "text": [
      "ERROR:root:Exception while sending command.\n",
      "Traceback (most recent call last):\n",
      "  File \"/usr/local/lib/python3.6/dist-packages/py4j/java_gateway.py\", line 1159, in send_command\n",
      "    raise Py4JNetworkError(\"Answer from Java side is empty\")\n",
      "py4j.protocol.Py4JNetworkError: Answer from Java side is empty\n",
      "\n",
      "During handling of the above exception, another exception occurred:\n",
      "\n",
      "Traceback (most recent call last):\n",
      "  File \"/usr/local/lib/python3.6/dist-packages/py4j/java_gateway.py\", line 985, in send_command\n",
      "    response = connection.send_command(command)\n",
      "  File \"/usr/local/lib/python3.6/dist-packages/py4j/java_gateway.py\", line 1164, in send_command\n",
      "    \"Error while receiving\", e, proto.ERROR_ON_RECEIVE)\n",
      "py4j.protocol.Py4JNetworkError: Error while receiving\n",
      "ERROR:py4j.java_gateway:An error occurred while trying to connect to the Java server (127.0.0.1:37469)\n",
      "Traceback (most recent call last):\n",
      "  File \"/usr/local/lib/python3.6/dist-packages/py4j/java_gateway.py\", line 929, in _get_connection\n",
      "    connection = self.deque.pop()\n",
      "IndexError: pop from an empty deque\n",
      "\n",
      "During handling of the above exception, another exception occurred:\n",
      "\n",
      "Traceback (most recent call last):\n",
      "  File \"/usr/local/lib/python3.6/dist-packages/py4j/java_gateway.py\", line 1067, in start\n",
      "    self.socket.connect((self.address, self.port))\n",
      "ConnectionRefusedError: [Errno 111] Connection refused\n"
     ]
    },
    {
     "ename": "Py4JNetworkError",
     "evalue": "An error occurred while trying to connect to the Java server (127.0.0.1:37469)",
     "output_type": "error",
     "traceback": [
      "\u001b[0;31m---------------------------------------------------------------------------\u001b[0m",
      "\u001b[0;31mIndexError\u001b[0m                                Traceback (most recent call last)",
      "\u001b[0;32m/usr/local/lib/python3.6/dist-packages/py4j/java_gateway.py\u001b[0m in \u001b[0;36m_get_connection\u001b[0;34m(self)\u001b[0m\n\u001b[1;32m    928\u001b[0m         \u001b[0;32mtry\u001b[0m\u001b[0;34m:\u001b[0m\u001b[0;34m\u001b[0m\u001b[0;34m\u001b[0m\u001b[0m\n\u001b[0;32m--> 929\u001b[0;31m             \u001b[0mconnection\u001b[0m \u001b[0;34m=\u001b[0m \u001b[0mself\u001b[0m\u001b[0;34m.\u001b[0m\u001b[0mdeque\u001b[0m\u001b[0;34m.\u001b[0m\u001b[0mpop\u001b[0m\u001b[0;34m(\u001b[0m\u001b[0;34m)\u001b[0m\u001b[0;34m\u001b[0m\u001b[0;34m\u001b[0m\u001b[0m\n\u001b[0m\u001b[1;32m    930\u001b[0m         \u001b[0;32mexcept\u001b[0m \u001b[0mIndexError\u001b[0m\u001b[0;34m:\u001b[0m\u001b[0;34m\u001b[0m\u001b[0;34m\u001b[0m\u001b[0m\n",
      "\u001b[0;31mIndexError\u001b[0m: pop from an empty deque",
      "\nDuring handling of the above exception, another exception occurred:\n",
      "\u001b[0;31mConnectionRefusedError\u001b[0m                    Traceback (most recent call last)",
      "\u001b[0;32m/usr/local/lib/python3.6/dist-packages/py4j/java_gateway.py\u001b[0m in \u001b[0;36mstart\u001b[0;34m(self)\u001b[0m\n\u001b[1;32m   1066\u001b[0m         \u001b[0;32mtry\u001b[0m\u001b[0;34m:\u001b[0m\u001b[0;34m\u001b[0m\u001b[0;34m\u001b[0m\u001b[0m\n\u001b[0;32m-> 1067\u001b[0;31m             \u001b[0mself\u001b[0m\u001b[0;34m.\u001b[0m\u001b[0msocket\u001b[0m\u001b[0;34m.\u001b[0m\u001b[0mconnect\u001b[0m\u001b[0;34m(\u001b[0m\u001b[0;34m(\u001b[0m\u001b[0mself\u001b[0m\u001b[0;34m.\u001b[0m\u001b[0maddress\u001b[0m\u001b[0;34m,\u001b[0m \u001b[0mself\u001b[0m\u001b[0;34m.\u001b[0m\u001b[0mport\u001b[0m\u001b[0;34m)\u001b[0m\u001b[0;34m)\u001b[0m\u001b[0;34m\u001b[0m\u001b[0;34m\u001b[0m\u001b[0m\n\u001b[0m\u001b[1;32m   1068\u001b[0m             \u001b[0mself\u001b[0m\u001b[0;34m.\u001b[0m\u001b[0mstream\u001b[0m \u001b[0;34m=\u001b[0m \u001b[0mself\u001b[0m\u001b[0;34m.\u001b[0m\u001b[0msocket\u001b[0m\u001b[0;34m.\u001b[0m\u001b[0mmakefile\u001b[0m\u001b[0;34m(\u001b[0m\u001b[0;34m\"rb\"\u001b[0m\u001b[0;34m)\u001b[0m\u001b[0;34m\u001b[0m\u001b[0;34m\u001b[0m\u001b[0m\n",
      "\u001b[0;31mConnectionRefusedError\u001b[0m: [Errno 111] Connection refused",
      "\nDuring handling of the above exception, another exception occurred:\n",
      "\u001b[0;31mPy4JNetworkError\u001b[0m                          Traceback (most recent call last)",
      "\u001b[0;32m<ipython-input-10-986e55826aae>\u001b[0m in \u001b[0;36m<module>\u001b[0;34m\u001b[0m\n\u001b[0;32m----> 1\u001b[0;31m \u001b[0mpdf\u001b[0m\u001b[0;34m=\u001b[0m\u001b[0mkdf\u001b[0m\u001b[0;34m.\u001b[0m\u001b[0mto_pandas\u001b[0m\u001b[0;34m(\u001b[0m\u001b[0;34m)\u001b[0m\u001b[0;34m\u001b[0m\u001b[0;34m\u001b[0m\u001b[0m\n\u001b[0m\u001b[1;32m      2\u001b[0m \u001b[0mcat_pdf\u001b[0m\u001b[0;34m=\u001b[0m\u001b[0mcat_kdf\u001b[0m\u001b[0;34m.\u001b[0m\u001b[0mto_pandas\u001b[0m\u001b[0;34m(\u001b[0m\u001b[0;34m)\u001b[0m\u001b[0;34m\u001b[0m\u001b[0;34m\u001b[0m\u001b[0m\n\u001b[1;32m      3\u001b[0m \u001b[0mcat2_pdf\u001b[0m\u001b[0;34m=\u001b[0m\u001b[0mcat2_kdf\u001b[0m\u001b[0;34m.\u001b[0m\u001b[0mto_pandas\u001b[0m\u001b[0;34m(\u001b[0m\u001b[0;34m)\u001b[0m\u001b[0;34m\u001b[0m\u001b[0;34m\u001b[0m\u001b[0m\n\u001b[1;32m      4\u001b[0m \u001b[0mtype\u001b[0m\u001b[0;34m(\u001b[0m\u001b[0mpdf\u001b[0m\u001b[0;34m)\u001b[0m\u001b[0;34m\u001b[0m\u001b[0;34m\u001b[0m\u001b[0m\n\u001b[1;32m      5\u001b[0m \u001b[0;34m\u001b[0m\u001b[0m\n",
      "\u001b[0;32m~/.local/lib/python3.6/site-packages/databricks/koalas/frame.py\u001b[0m in \u001b[0;36mto_pandas\u001b[0;34m(self)\u001b[0m\n\u001b[1;32m   4574\u001b[0m         \u001b[0;36m3\u001b[0m   \u001b[0;36m0.2\u001b[0m   \u001b[0;36m0.1\u001b[0m\u001b[0;34m\u001b[0m\u001b[0;34m\u001b[0m\u001b[0m\n\u001b[1;32m   4575\u001b[0m         \"\"\"\n\u001b[0;32m-> 4576\u001b[0;31m         \u001b[0;32mreturn\u001b[0m \u001b[0mself\u001b[0m\u001b[0;34m.\u001b[0m\u001b[0m_internal\u001b[0m\u001b[0;34m.\u001b[0m\u001b[0mto_pandas_frame\u001b[0m\u001b[0;34m.\u001b[0m\u001b[0mcopy\u001b[0m\u001b[0;34m(\u001b[0m\u001b[0;34m)\u001b[0m\u001b[0;34m\u001b[0m\u001b[0;34m\u001b[0m\u001b[0m\n\u001b[0m\u001b[1;32m   4577\u001b[0m \u001b[0;34m\u001b[0m\u001b[0m\n\u001b[1;32m   4578\u001b[0m     \u001b[0;31m# Alias to maintain backward compatibility with Spark\u001b[0m\u001b[0;34m\u001b[0m\u001b[0;34m\u001b[0m\u001b[0;34m\u001b[0m\u001b[0m\n",
      "\u001b[0;32m~/.local/lib/python3.6/site-packages/databricks/koalas/utils.py\u001b[0m in \u001b[0;36mwrapped_lazy_property\u001b[0;34m(self)\u001b[0m\n\u001b[1;32m    509\u001b[0m     \u001b[0;32mdef\u001b[0m \u001b[0mwrapped_lazy_property\u001b[0m\u001b[0;34m(\u001b[0m\u001b[0mself\u001b[0m\u001b[0;34m)\u001b[0m\u001b[0;34m:\u001b[0m\u001b[0;34m\u001b[0m\u001b[0;34m\u001b[0m\u001b[0m\n\u001b[1;32m    510\u001b[0m         \u001b[0;32mif\u001b[0m \u001b[0;32mnot\u001b[0m \u001b[0mhasattr\u001b[0m\u001b[0;34m(\u001b[0m\u001b[0mself\u001b[0m\u001b[0;34m,\u001b[0m \u001b[0mattr_name\u001b[0m\u001b[0;34m)\u001b[0m\u001b[0;34m:\u001b[0m\u001b[0;34m\u001b[0m\u001b[0;34m\u001b[0m\u001b[0m\n\u001b[0;32m--> 511\u001b[0;31m             \u001b[0msetattr\u001b[0m\u001b[0;34m(\u001b[0m\u001b[0mself\u001b[0m\u001b[0;34m,\u001b[0m \u001b[0mattr_name\u001b[0m\u001b[0;34m,\u001b[0m \u001b[0mfn\u001b[0m\u001b[0;34m(\u001b[0m\u001b[0mself\u001b[0m\u001b[0;34m)\u001b[0m\u001b[0;34m)\u001b[0m\u001b[0;34m\u001b[0m\u001b[0;34m\u001b[0m\u001b[0m\n\u001b[0m\u001b[1;32m    512\u001b[0m         \u001b[0;32mreturn\u001b[0m \u001b[0mgetattr\u001b[0m\u001b[0;34m(\u001b[0m\u001b[0mself\u001b[0m\u001b[0;34m,\u001b[0m \u001b[0mattr_name\u001b[0m\u001b[0;34m)\u001b[0m\u001b[0;34m\u001b[0m\u001b[0;34m\u001b[0m\u001b[0m\n\u001b[1;32m    513\u001b[0m \u001b[0;34m\u001b[0m\u001b[0m\n",
      "\u001b[0;32m~/.local/lib/python3.6/site-packages/databricks/koalas/internal.py\u001b[0m in \u001b[0;36mto_pandas_frame\u001b[0;34m(self)\u001b[0m\n\u001b[1;32m    816\u001b[0m         \u001b[0;34m\"\"\" Return as pandas DataFrame. \"\"\"\u001b[0m\u001b[0;34m\u001b[0m\u001b[0;34m\u001b[0m\u001b[0m\n\u001b[1;32m    817\u001b[0m         \u001b[0msdf\u001b[0m \u001b[0;34m=\u001b[0m \u001b[0mself\u001b[0m\u001b[0;34m.\u001b[0m\u001b[0mto_internal_spark_frame\u001b[0m\u001b[0;34m\u001b[0m\u001b[0;34m\u001b[0m\u001b[0m\n\u001b[0;32m--> 818\u001b[0;31m         \u001b[0mpdf\u001b[0m \u001b[0;34m=\u001b[0m \u001b[0msdf\u001b[0m\u001b[0;34m.\u001b[0m\u001b[0mtoPandas\u001b[0m\u001b[0;34m(\u001b[0m\u001b[0;34m)\u001b[0m\u001b[0;34m\u001b[0m\u001b[0;34m\u001b[0m\u001b[0m\n\u001b[0m\u001b[1;32m    819\u001b[0m         \u001b[0;32mif\u001b[0m \u001b[0mlen\u001b[0m\u001b[0;34m(\u001b[0m\u001b[0mpdf\u001b[0m\u001b[0;34m)\u001b[0m \u001b[0;34m==\u001b[0m \u001b[0;36m0\u001b[0m \u001b[0;32mand\u001b[0m \u001b[0mlen\u001b[0m\u001b[0;34m(\u001b[0m\u001b[0msdf\u001b[0m\u001b[0;34m.\u001b[0m\u001b[0mschema\u001b[0m\u001b[0;34m)\u001b[0m \u001b[0;34m>\u001b[0m \u001b[0;36m0\u001b[0m\u001b[0;34m:\u001b[0m\u001b[0;34m\u001b[0m\u001b[0;34m\u001b[0m\u001b[0m\n\u001b[1;32m    820\u001b[0m             pdf = pdf.astype(\n",
      "\u001b[0;32m/opt/cloudera/parcels/CDH/lib/spark/python/pyspark/sql/dataframe.py\u001b[0m in \u001b[0;36mtoPandas\u001b[0;34m(self)\u001b[0m\n\u001b[1;32m   2140\u001b[0m \u001b[0;34m\u001b[0m\u001b[0m\n\u001b[1;32m   2141\u001b[0m         \u001b[0;31m# Below is toPandas without Arrow optimization.\u001b[0m\u001b[0;34m\u001b[0m\u001b[0;34m\u001b[0m\u001b[0;34m\u001b[0m\u001b[0m\n\u001b[0;32m-> 2142\u001b[0;31m         \u001b[0mpdf\u001b[0m \u001b[0;34m=\u001b[0m \u001b[0mpd\u001b[0m\u001b[0;34m.\u001b[0m\u001b[0mDataFrame\u001b[0m\u001b[0;34m.\u001b[0m\u001b[0mfrom_records\u001b[0m\u001b[0;34m(\u001b[0m\u001b[0mself\u001b[0m\u001b[0;34m.\u001b[0m\u001b[0mcollect\u001b[0m\u001b[0;34m(\u001b[0m\u001b[0;34m)\u001b[0m\u001b[0;34m,\u001b[0m \u001b[0mcolumns\u001b[0m\u001b[0;34m=\u001b[0m\u001b[0mself\u001b[0m\u001b[0;34m.\u001b[0m\u001b[0mcolumns\u001b[0m\u001b[0;34m)\u001b[0m\u001b[0;34m\u001b[0m\u001b[0;34m\u001b[0m\u001b[0m\n\u001b[0m\u001b[1;32m   2143\u001b[0m \u001b[0;34m\u001b[0m\u001b[0m\n\u001b[1;32m   2144\u001b[0m         \u001b[0mdtype\u001b[0m \u001b[0;34m=\u001b[0m \u001b[0;34m{\u001b[0m\u001b[0;34m}\u001b[0m\u001b[0;34m\u001b[0m\u001b[0;34m\u001b[0m\u001b[0m\n",
      "\u001b[0;32m/opt/cloudera/parcels/CDH/lib/spark/python/pyspark/sql/dataframe.py\u001b[0m in \u001b[0;36mcolumns\u001b[0;34m(self)\u001b[0m\n\u001b[1;32m    934\u001b[0m         \u001b[0;34m[\u001b[0m\u001b[0;34m'age'\u001b[0m\u001b[0;34m,\u001b[0m \u001b[0;34m'name'\u001b[0m\u001b[0;34m]\u001b[0m\u001b[0;34m\u001b[0m\u001b[0;34m\u001b[0m\u001b[0m\n\u001b[1;32m    935\u001b[0m         \"\"\"\n\u001b[0;32m--> 936\u001b[0;31m         \u001b[0;32mreturn\u001b[0m \u001b[0;34m[\u001b[0m\u001b[0mf\u001b[0m\u001b[0;34m.\u001b[0m\u001b[0mname\u001b[0m \u001b[0;32mfor\u001b[0m \u001b[0mf\u001b[0m \u001b[0;32min\u001b[0m \u001b[0mself\u001b[0m\u001b[0;34m.\u001b[0m\u001b[0mschema\u001b[0m\u001b[0;34m.\u001b[0m\u001b[0mfields\u001b[0m\u001b[0;34m]\u001b[0m\u001b[0;34m\u001b[0m\u001b[0;34m\u001b[0m\u001b[0m\n\u001b[0m\u001b[1;32m    937\u001b[0m \u001b[0;34m\u001b[0m\u001b[0m\n\u001b[1;32m    938\u001b[0m     \u001b[0;34m@\u001b[0m\u001b[0msince\u001b[0m\u001b[0;34m(\u001b[0m\u001b[0;36m2.3\u001b[0m\u001b[0;34m)\u001b[0m\u001b[0;34m\u001b[0m\u001b[0;34m\u001b[0m\u001b[0m\n",
      "\u001b[0;32m/opt/cloudera/parcels/CDH/lib/spark/python/pyspark/sql/dataframe.py\u001b[0m in \u001b[0;36mschema\u001b[0;34m(self)\u001b[0m\n\u001b[1;32m    251\u001b[0m         \u001b[0;32mif\u001b[0m \u001b[0mself\u001b[0m\u001b[0;34m.\u001b[0m\u001b[0m_schema\u001b[0m \u001b[0;32mis\u001b[0m \u001b[0;32mNone\u001b[0m\u001b[0;34m:\u001b[0m\u001b[0;34m\u001b[0m\u001b[0;34m\u001b[0m\u001b[0m\n\u001b[1;32m    252\u001b[0m             \u001b[0;32mtry\u001b[0m\u001b[0;34m:\u001b[0m\u001b[0;34m\u001b[0m\u001b[0;34m\u001b[0m\u001b[0m\n\u001b[0;32m--> 253\u001b[0;31m                 \u001b[0mself\u001b[0m\u001b[0;34m.\u001b[0m\u001b[0m_schema\u001b[0m \u001b[0;34m=\u001b[0m \u001b[0m_parse_datatype_json_string\u001b[0m\u001b[0;34m(\u001b[0m\u001b[0mself\u001b[0m\u001b[0;34m.\u001b[0m\u001b[0m_jdf\u001b[0m\u001b[0;34m.\u001b[0m\u001b[0mschema\u001b[0m\u001b[0;34m(\u001b[0m\u001b[0;34m)\u001b[0m\u001b[0;34m.\u001b[0m\u001b[0mjson\u001b[0m\u001b[0;34m(\u001b[0m\u001b[0;34m)\u001b[0m\u001b[0;34m)\u001b[0m\u001b[0;34m\u001b[0m\u001b[0;34m\u001b[0m\u001b[0m\n\u001b[0m\u001b[1;32m    254\u001b[0m             \u001b[0;32mexcept\u001b[0m \u001b[0mAttributeError\u001b[0m \u001b[0;32mas\u001b[0m \u001b[0me\u001b[0m\u001b[0;34m:\u001b[0m\u001b[0;34m\u001b[0m\u001b[0;34m\u001b[0m\u001b[0m\n\u001b[1;32m    255\u001b[0m                 raise Exception(\n",
      "\u001b[0;32m/usr/local/lib/python3.6/dist-packages/py4j/java_gateway.py\u001b[0m in \u001b[0;36m__call__\u001b[0;34m(self, *args)\u001b[0m\n\u001b[1;32m   1253\u001b[0m             \u001b[0mproto\u001b[0m\u001b[0;34m.\u001b[0m\u001b[0mEND_COMMAND_PART\u001b[0m\u001b[0;34m\u001b[0m\u001b[0;34m\u001b[0m\u001b[0m\n\u001b[1;32m   1254\u001b[0m \u001b[0;34m\u001b[0m\u001b[0m\n\u001b[0;32m-> 1255\u001b[0;31m         \u001b[0manswer\u001b[0m \u001b[0;34m=\u001b[0m \u001b[0mself\u001b[0m\u001b[0;34m.\u001b[0m\u001b[0mgateway_client\u001b[0m\u001b[0;34m.\u001b[0m\u001b[0msend_command\u001b[0m\u001b[0;34m(\u001b[0m\u001b[0mcommand\u001b[0m\u001b[0;34m)\u001b[0m\u001b[0;34m\u001b[0m\u001b[0;34m\u001b[0m\u001b[0m\n\u001b[0m\u001b[1;32m   1256\u001b[0m         return_value = get_return_value(\n\u001b[1;32m   1257\u001b[0m             answer, self.gateway_client, self.target_id, self.name)\n",
      "\u001b[0;32m/usr/local/lib/python3.6/dist-packages/py4j/java_gateway.py\u001b[0m in \u001b[0;36msend_command\u001b[0;34m(self, command, retry, binary)\u001b[0m\n\u001b[1;32m    981\u001b[0m          \u001b[0;32mif\u001b[0m\u001b[0;31m \u001b[0m\u001b[0;31m`\u001b[0m\u001b[0mbinary\u001b[0m\u001b[0;31m`\u001b[0m \u001b[0;32mis\u001b[0m\u001b[0;31m \u001b[0m\u001b[0;31m`\u001b[0m\u001b[0;32mTrue\u001b[0m\u001b[0;31m`\u001b[0m\u001b[0;34m.\u001b[0m\u001b[0;34m\u001b[0m\u001b[0;34m\u001b[0m\u001b[0m\n\u001b[1;32m    982\u001b[0m         \"\"\"\n\u001b[0;32m--> 983\u001b[0;31m         \u001b[0mconnection\u001b[0m \u001b[0;34m=\u001b[0m \u001b[0mself\u001b[0m\u001b[0;34m.\u001b[0m\u001b[0m_get_connection\u001b[0m\u001b[0;34m(\u001b[0m\u001b[0;34m)\u001b[0m\u001b[0;34m\u001b[0m\u001b[0;34m\u001b[0m\u001b[0m\n\u001b[0m\u001b[1;32m    984\u001b[0m         \u001b[0;32mtry\u001b[0m\u001b[0;34m:\u001b[0m\u001b[0;34m\u001b[0m\u001b[0;34m\u001b[0m\u001b[0m\n\u001b[1;32m    985\u001b[0m             \u001b[0mresponse\u001b[0m \u001b[0;34m=\u001b[0m \u001b[0mconnection\u001b[0m\u001b[0;34m.\u001b[0m\u001b[0msend_command\u001b[0m\u001b[0;34m(\u001b[0m\u001b[0mcommand\u001b[0m\u001b[0;34m)\u001b[0m\u001b[0;34m\u001b[0m\u001b[0;34m\u001b[0m\u001b[0m\n",
      "\u001b[0;32m/usr/local/lib/python3.6/dist-packages/py4j/java_gateway.py\u001b[0m in \u001b[0;36m_get_connection\u001b[0;34m(self)\u001b[0m\n\u001b[1;32m    929\u001b[0m             \u001b[0mconnection\u001b[0m \u001b[0;34m=\u001b[0m \u001b[0mself\u001b[0m\u001b[0;34m.\u001b[0m\u001b[0mdeque\u001b[0m\u001b[0;34m.\u001b[0m\u001b[0mpop\u001b[0m\u001b[0;34m(\u001b[0m\u001b[0;34m)\u001b[0m\u001b[0;34m\u001b[0m\u001b[0;34m\u001b[0m\u001b[0m\n\u001b[1;32m    930\u001b[0m         \u001b[0;32mexcept\u001b[0m \u001b[0mIndexError\u001b[0m\u001b[0;34m:\u001b[0m\u001b[0;34m\u001b[0m\u001b[0;34m\u001b[0m\u001b[0m\n\u001b[0;32m--> 931\u001b[0;31m             \u001b[0mconnection\u001b[0m \u001b[0;34m=\u001b[0m \u001b[0mself\u001b[0m\u001b[0;34m.\u001b[0m\u001b[0m_create_connection\u001b[0m\u001b[0;34m(\u001b[0m\u001b[0;34m)\u001b[0m\u001b[0;34m\u001b[0m\u001b[0;34m\u001b[0m\u001b[0m\n\u001b[0m\u001b[1;32m    932\u001b[0m         \u001b[0;32mreturn\u001b[0m \u001b[0mconnection\u001b[0m\u001b[0;34m\u001b[0m\u001b[0;34m\u001b[0m\u001b[0m\n\u001b[1;32m    933\u001b[0m \u001b[0;34m\u001b[0m\u001b[0m\n",
      "\u001b[0;32m/usr/local/lib/python3.6/dist-packages/py4j/java_gateway.py\u001b[0m in \u001b[0;36m_create_connection\u001b[0;34m(self)\u001b[0m\n\u001b[1;32m    935\u001b[0m         connection = GatewayConnection(\n\u001b[1;32m    936\u001b[0m             self.gateway_parameters, self.gateway_property)\n\u001b[0;32m--> 937\u001b[0;31m         \u001b[0mconnection\u001b[0m\u001b[0;34m.\u001b[0m\u001b[0mstart\u001b[0m\u001b[0;34m(\u001b[0m\u001b[0;34m)\u001b[0m\u001b[0;34m\u001b[0m\u001b[0;34m\u001b[0m\u001b[0m\n\u001b[0m\u001b[1;32m    938\u001b[0m         \u001b[0;32mreturn\u001b[0m \u001b[0mconnection\u001b[0m\u001b[0;34m\u001b[0m\u001b[0;34m\u001b[0m\u001b[0m\n\u001b[1;32m    939\u001b[0m \u001b[0;34m\u001b[0m\u001b[0m\n",
      "\u001b[0;32m/usr/local/lib/python3.6/dist-packages/py4j/java_gateway.py\u001b[0m in \u001b[0;36mstart\u001b[0;34m(self)\u001b[0m\n\u001b[1;32m   1077\u001b[0m                 \u001b[0;34m\"server ({0}:{1})\"\u001b[0m\u001b[0;34m.\u001b[0m\u001b[0mformat\u001b[0m\u001b[0;34m(\u001b[0m\u001b[0mself\u001b[0m\u001b[0;34m.\u001b[0m\u001b[0maddress\u001b[0m\u001b[0;34m,\u001b[0m \u001b[0mself\u001b[0m\u001b[0;34m.\u001b[0m\u001b[0mport\u001b[0m\u001b[0;34m)\u001b[0m\u001b[0;34m\u001b[0m\u001b[0;34m\u001b[0m\u001b[0m\n\u001b[1;32m   1078\u001b[0m             \u001b[0mlogger\u001b[0m\u001b[0;34m.\u001b[0m\u001b[0mexception\u001b[0m\u001b[0;34m(\u001b[0m\u001b[0mmsg\u001b[0m\u001b[0;34m)\u001b[0m\u001b[0;34m\u001b[0m\u001b[0;34m\u001b[0m\u001b[0m\n\u001b[0;32m-> 1079\u001b[0;31m             \u001b[0;32mraise\u001b[0m \u001b[0mPy4JNetworkError\u001b[0m\u001b[0;34m(\u001b[0m\u001b[0mmsg\u001b[0m\u001b[0;34m,\u001b[0m \u001b[0me\u001b[0m\u001b[0;34m)\u001b[0m\u001b[0;34m\u001b[0m\u001b[0;34m\u001b[0m\u001b[0m\n\u001b[0m\u001b[1;32m   1080\u001b[0m \u001b[0;34m\u001b[0m\u001b[0m\n\u001b[1;32m   1081\u001b[0m     \u001b[0;32mdef\u001b[0m \u001b[0m_authenticate_connection\u001b[0m\u001b[0;34m(\u001b[0m\u001b[0mself\u001b[0m\u001b[0;34m)\u001b[0m\u001b[0;34m:\u001b[0m\u001b[0;34m\u001b[0m\u001b[0;34m\u001b[0m\u001b[0m\n",
      "\u001b[0;31mPy4JNetworkError\u001b[0m: An error occurred while trying to connect to the Java server (127.0.0.1:37469)"
     ]
    }
   ],
   "source": [
    "pdf=kdf.to_pandas()\n",
    "cat_pdf=cat_kdf.to_pandas()\n",
    "cat2_pdf=cat2_kdf.to_pandas()\n",
    "type(pdf)\n",
    "\n",
    "# sn.pairplot(data=pdf)"
   ]
  },
  {
   "cell_type": "code",
   "execution_count": 26,
   "metadata": {
    "ExecuteTime": {
     "end_time": "2021-11-12T01:45:22.330416Z",
     "start_time": "2021-11-12T01:45:21.224526Z"
    }
   },
   "outputs": [
    {
     "data": {
      "text/plain": [
       "jumlah_transaksi    30.280271\n",
       "total_berat         52.487545\n",
       "total_amount        60.843563\n",
       "status_kyc           0.000000\n",
       "dtype: float64"
      ]
     },
     "execution_count": 26,
     "metadata": {},
     "output_type": "execute_result"
    }
   ],
   "source": [
    "#cek skewness\n",
    "pdf.skew()"
   ]
  },
  {
   "cell_type": "code",
   "execution_count": 27,
   "metadata": {
    "ExecuteTime": {
     "end_time": "2021-11-12T01:45:23.934378Z",
     "start_time": "2021-11-12T01:45:22.331807Z"
    }
   },
   "outputs": [],
   "source": [
    "#CLEAR NaN\n",
    "pdf.dropna(inplace=True)"
   ]
  },
  {
   "cell_type": "code",
   "execution_count": 28,
   "metadata": {
    "ExecuteTime": {
     "end_time": "2021-11-12T01:45:25.136379Z",
     "start_time": "2021-11-12T01:45:23.940153Z"
    }
   },
   "outputs": [
    {
     "data": {
      "text/plain": [
       "jumlah_transaksi    30.280271\n",
       "total_berat         52.487545\n",
       "total_amount        60.843563\n",
       "status_kyc           0.000000\n",
       "dtype: float64"
      ]
     },
     "execution_count": 28,
     "metadata": {},
     "output_type": "execute_result"
    }
   ],
   "source": [
    "#cek skewness\n",
    "pdf.skew()"
   ]
  },
  {
   "cell_type": "code",
   "execution_count": 29,
   "metadata": {
    "ExecuteTime": {
     "end_time": "2021-11-12T01:45:25.258439Z",
     "start_time": "2021-11-12T01:45:25.138364Z"
    }
   },
   "outputs": [
    {
     "data": {
      "text/html": [
       "<div>\n",
       "<style scoped>\n",
       "    .dataframe tbody tr th:only-of-type {\n",
       "        vertical-align: middle;\n",
       "    }\n",
       "\n",
       "    .dataframe tbody tr th {\n",
       "        vertical-align: top;\n",
       "    }\n",
       "\n",
       "    .dataframe thead th {\n",
       "        text-align: right;\n",
       "    }\n",
       "</style>\n",
       "<table border=\"1\" class=\"dataframe\">\n",
       "  <thead>\n",
       "    <tr style=\"text-align: right;\">\n",
       "      <th></th>\n",
       "      <th>jumlah_transaksi</th>\n",
       "      <th>total_berat</th>\n",
       "      <th>total_amount</th>\n",
       "    </tr>\n",
       "  </thead>\n",
       "  <tbody>\n",
       "    <tr>\n",
       "      <th>count</th>\n",
       "      <td>674547.000000</td>\n",
       "      <td>674547.000000</td>\n",
       "      <td>6.745470e+05</td>\n",
       "    </tr>\n",
       "    <tr>\n",
       "      <th>mean</th>\n",
       "      <td>5.770879</td>\n",
       "      <td>0.194647</td>\n",
       "      <td>1.602588e+05</td>\n",
       "    </tr>\n",
       "    <tr>\n",
       "      <th>std</th>\n",
       "      <td>63.075350</td>\n",
       "      <td>1.636427</td>\n",
       "      <td>1.369101e+06</td>\n",
       "    </tr>\n",
       "    <tr>\n",
       "      <th>min</th>\n",
       "      <td>1.000000</td>\n",
       "      <td>0.000500</td>\n",
       "      <td>3.216000e+01</td>\n",
       "    </tr>\n",
       "    <tr>\n",
       "      <th>25%</th>\n",
       "      <td>1.000000</td>\n",
       "      <td>0.002300</td>\n",
       "      <td>2.019400e+03</td>\n",
       "    </tr>\n",
       "    <tr>\n",
       "      <th>50%</th>\n",
       "      <td>1.000000</td>\n",
       "      <td>0.007300</td>\n",
       "      <td>6.306600e+03</td>\n",
       "    </tr>\n",
       "    <tr>\n",
       "      <th>75%</th>\n",
       "      <td>3.000000</td>\n",
       "      <td>0.033900</td>\n",
       "      <td>2.995480e+04</td>\n",
       "    </tr>\n",
       "    <tr>\n",
       "      <th>max</th>\n",
       "      <td>4917.000000</td>\n",
       "      <td>417.124100</td>\n",
       "      <td>3.800001e+08</td>\n",
       "    </tr>\n",
       "  </tbody>\n",
       "</table>\n",
       "</div>"
      ],
      "text/plain": [
       "       jumlah_transaksi    total_berat  total_amount\n",
       "count     674547.000000  674547.000000  6.745470e+05\n",
       "mean           5.770879       0.194647  1.602588e+05\n",
       "std           63.075350       1.636427  1.369101e+06\n",
       "min            1.000000       0.000500  3.216000e+01\n",
       "25%            1.000000       0.002300  2.019400e+03\n",
       "50%            1.000000       0.007300  6.306600e+03\n",
       "75%            3.000000       0.033900  2.995480e+04\n",
       "max         4917.000000     417.124100  3.800001e+08"
      ]
     },
     "execution_count": 29,
     "metadata": {},
     "output_type": "execute_result"
    }
   ],
   "source": [
    "pdf.describe()"
   ]
  },
  {
   "cell_type": "code",
   "execution_count": 30,
   "metadata": {
    "ExecuteTime": {
     "end_time": "2021-11-12T01:45:26.102145Z",
     "start_time": "2021-11-12T01:45:25.259908Z"
    }
   },
   "outputs": [
    {
     "name": "stdout",
     "output_type": "stream",
     "text": [
      "<class 'pandas.core.frame.DataFrame'>\n",
      "Int64Index: 674547 entries, 24 to 1766557\n",
      "Data columns (total 17 columns):\n",
      " #   Column            Non-Null Count   Dtype         \n",
      "---  ------            --------------   -----         \n",
      " 0   jumlah_transaksi  674547 non-null  int64         \n",
      " 1   total_berat       674547 non-null  float64       \n",
      " 2   total_amount      674547 non-null  float64       \n",
      " 3   segmentasi        674547 non-null  object        \n",
      " 4   agama             674547 non-null  object        \n",
      " 5   profesi           674547 non-null  object        \n",
      " 6   pendidikan        674547 non-null  object        \n",
      " 7   range_gaji        674547 non-null  object        \n",
      " 8   jenis_kelamin     674547 non-null  object        \n",
      " 9   range_usia        674547 non-null  object        \n",
      " 10  status_kyc        674547 non-null  object        \n",
      " 11  source_kyc        674547 non-null  object        \n",
      " 12  flag              674547 non-null  object        \n",
      " 13  tgl_transaksi     674547 non-null  datetime64[ns]\n",
      " 14  jenis_transaksi   674547 non-null  object        \n",
      " 15  client            674547 non-null  object        \n",
      " 16  region_nm         674547 non-null  object        \n",
      "dtypes: datetime64[ns](1), float64(2), int64(1), object(13)\n",
      "memory usage: 92.6+ MB\n"
     ]
    }
   ],
   "source": [
    "pdf.info()"
   ]
  },
  {
   "cell_type": "markdown",
   "metadata": {},
   "source": [
    "# OUTLIER"
   ]
  },
  {
   "cell_type": "code",
   "execution_count": 113,
   "metadata": {
    "ExecuteTime": {
     "end_time": "2021-11-10T04:10:22.901580Z",
     "start_time": "2021-11-10T04:10:22.540857Z"
    }
   },
   "outputs": [
    {
     "data": {
      "text/html": [
       "<div>\n",
       "<style scoped>\n",
       "    .dataframe tbody tr th:only-of-type {\n",
       "        vertical-align: middle;\n",
       "    }\n",
       "\n",
       "    .dataframe tbody tr th {\n",
       "        vertical-align: top;\n",
       "    }\n",
       "\n",
       "    .dataframe thead th {\n",
       "        text-align: right;\n",
       "    }\n",
       "</style>\n",
       "<table border=\"1\" class=\"dataframe\">\n",
       "  <thead>\n",
       "    <tr style=\"text-align: right;\">\n",
       "      <th></th>\n",
       "      <th>sub</th>\n",
       "      <th>values</th>\n",
       "    </tr>\n",
       "  </thead>\n",
       "  <tbody>\n",
       "    <tr>\n",
       "      <th>0</th>\n",
       "      <td>IQR</td>\n",
       "      <td>2.000000</td>\n",
       "    </tr>\n",
       "    <tr>\n",
       "      <th>1</th>\n",
       "      <td>Upper Bound</td>\n",
       "      <td>6.000000</td>\n",
       "    </tr>\n",
       "    <tr>\n",
       "      <th>2</th>\n",
       "      <td>Lower Bound</td>\n",
       "      <td>-2.000000</td>\n",
       "    </tr>\n",
       "    <tr>\n",
       "      <th>3</th>\n",
       "      <td>Sum outliers</td>\n",
       "      <td>52444.000000</td>\n",
       "    </tr>\n",
       "    <tr>\n",
       "      <th>4</th>\n",
       "      <td>percentage outliers</td>\n",
       "      <td>7.774699</td>\n",
       "    </tr>\n",
       "  </tbody>\n",
       "</table>\n",
       "</div>"
      ],
      "text/plain": [
       "                   sub        values\n",
       "0                  IQR      2.000000\n",
       "1          Upper Bound      6.000000\n",
       "2          Lower Bound     -2.000000\n",
       "3         Sum outliers  52444.000000\n",
       "4  percentage outliers      7.774699"
      ]
     },
     "execution_count": 113,
     "metadata": {},
     "output_type": "execute_result"
    }
   ],
   "source": [
    "#cek outlier\n",
    "# https://medium.com/analytics-vidhya/detect-and-handling-outliers-53723d8ec17a\n",
    "\n",
    "import numpy as np\n",
    "import pandas as pd\n",
    "def outliers(s):\n",
    "    iqr = (np.quantile(s, 0.75))-(np.quantile(s, 0.25))\n",
    "    upper_bound = np.quantile(s, 0.75)+(1.5*iqr)\n",
    "    lower_bound = np.quantile(s, 0.25)-(1.5*iqr)\n",
    "    f = []\n",
    "    for i in s:\n",
    "        if i > upper_bound:\n",
    "            f.append(i)\n",
    "        elif i < lower_bound:\n",
    "            f.append(i)\n",
    "    sums = len(f)\n",
    "    pros = len(f)/len(s)*100\n",
    "    d = {'IQR':iqr,\n",
    "         'Upper Bound':upper_bound,\n",
    "        'Lower Bound':lower_bound,\n",
    "        'Sum outliers': sums,'percentage outliers':pros}\n",
    "    d = pd.DataFrame(d.items(),columns = ['sub','values'])\n",
    "    return(d)\n",
    "    \n",
    "outliers(pdf.jumlah_transaksi)"
   ]
  },
  {
   "cell_type": "code",
   "execution_count": null,
   "metadata": {},
   "outputs": [],
   "source": []
  },
  {
   "cell_type": "code",
   "execution_count": 114,
   "metadata": {
    "ExecuteTime": {
     "end_time": "2021-11-08T03:51:29.498238Z",
     "start_time": "2021-11-08T03:51:29.489186Z"
    }
   },
   "outputs": [
    {
     "data": {
      "text/html": [
       "<div>\n",
       "<style scoped>\n",
       "    .dataframe tbody tr th:only-of-type {\n",
       "        vertical-align: middle;\n",
       "    }\n",
       "\n",
       "    .dataframe tbody tr th {\n",
       "        vertical-align: top;\n",
       "    }\n",
       "\n",
       "    .dataframe thead th {\n",
       "        text-align: right;\n",
       "    }\n",
       "</style>\n",
       "<table border=\"1\" class=\"dataframe\">\n",
       "  <thead>\n",
       "    <tr style=\"text-align: right;\">\n",
       "      <th></th>\n",
       "      <th>jumlah_transaksi</th>\n",
       "      <th>total_berat</th>\n",
       "      <th>total_amount</th>\n",
       "      <th>segmentasi</th>\n",
       "      <th>agama</th>\n",
       "      <th>profesi</th>\n",
       "      <th>pendidikan</th>\n",
       "      <th>range_gaji</th>\n",
       "      <th>jenis_kelamin</th>\n",
       "      <th>range_usia</th>\n",
       "      <th>status_kyc</th>\n",
       "      <th>source_kyc</th>\n",
       "      <th>flag</th>\n",
       "      <th>tgl_transaksi</th>\n",
       "      <th>jenis_transaksi</th>\n",
       "      <th>client</th>\n",
       "      <th>region_nm</th>\n",
       "    </tr>\n",
       "  </thead>\n",
       "  <tbody>\n",
       "  </tbody>\n",
       "</table>\n",
       "</div>"
      ],
      "text/plain": [
       "Empty DataFrame\n",
       "Columns: [jumlah_transaksi, total_berat, total_amount, segmentasi, agama, profesi, pendidikan, range_gaji, jenis_kelamin, range_usia, status_kyc, source_kyc, flag, tgl_transaksi, jenis_transaksi, client, region_nm]\n",
       "Index: []"
      ]
     },
     "execution_count": 114,
     "metadata": {},
     "output_type": "execute_result"
    }
   ],
   "source": [
    "\n"
   ]
  },
  {
   "cell_type": "markdown",
   "metadata": {},
   "source": [
    "### Drop Outliers"
   ]
  },
  {
   "cell_type": "code",
   "execution_count": 20,
   "metadata": {
    "ExecuteTime": {
     "end_time": "2021-11-10T01:28:16.919023Z",
     "start_time": "2021-11-10T01:28:15.496742Z"
    }
   },
   "outputs": [
    {
     "name": "stderr",
     "output_type": "stream",
     "text": [
      "/home/cdsw/.local/lib/python3.6/site-packages/seaborn/_decorators.py:43: FutureWarning: Pass the following variable as a keyword arg: x. From version 0.12, the only valid positional argument will be `data`, and passing other arguments without an explicit keyword will result in an error or misinterpretation.\n",
      "  FutureWarning\n"
     ]
    },
    {
     "data": {
      "image/png": "[encoded data removed]",
      "text/plain": [
       "<Figure size 864x432 with 1 Axes>"
      ]
     },
     "metadata": {
      "needs_background": "light"
     },
     "output_type": "display_data"
    }
   ],
   "source": [
    "#drop outliers\n",
    "s = pdf['jumlah_transaksi']\n",
    "iqr = (np.quantile(s, 0.75))-(np.quantile(s, 0.25))\n",
    "upper_bound = np.quantile(s, 0.75)+(1.5*iqr)\n",
    "lower_bound = np.quantile(s, 0.25)-(1.5*iqr)\n",
    "pdf_drop = pdf[(pdf['jumlah_transaksi'] <= upper_bound)]\n",
    "pdf_drop = pdf[(pdf['jumlah_transaksi'] >= lower_bound)]\n",
    "fig,ax = plt.subplots(figsize=(12,6))\n",
    "fig = sns.boxplot(pdf_drop.jumlah_transaksi).set_title('Jumlah Transaksi Boxplot')\n",
    "fig.figure.savefig('JT_drop.png')"
   ]
  },
  {
   "cell_type": "code",
   "execution_count": 21,
   "metadata": {
    "ExecuteTime": {
     "end_time": "2021-11-10T01:28:34.983702Z",
     "start_time": "2021-11-10T01:28:34.962131Z"
    }
   },
   "outputs": [
    {
     "data": {
      "text/html": [
       "<div>\n",
       "<style scoped>\n",
       "    .dataframe tbody tr th:only-of-type {\n",
       "        vertical-align: middle;\n",
       "    }\n",
       "\n",
       "    .dataframe tbody tr th {\n",
       "        vertical-align: top;\n",
       "    }\n",
       "\n",
       "    .dataframe thead th {\n",
       "        text-align: right;\n",
       "    }\n",
       "</style>\n",
       "<table border=\"1\" class=\"dataframe\">\n",
       "  <thead>\n",
       "    <tr style=\"text-align: right;\">\n",
       "      <th></th>\n",
       "      <th>jumlah_transaksi</th>\n",
       "      <th>total_berat</th>\n",
       "      <th>total_amount</th>\n",
       "      <th>segmentasi</th>\n",
       "      <th>agama</th>\n",
       "      <th>profesi</th>\n",
       "      <th>pendidikan</th>\n",
       "      <th>range_gaji</th>\n",
       "      <th>jenis_kelamin</th>\n",
       "      <th>range_usia</th>\n",
       "      <th>status_kyc</th>\n",
       "      <th>source_kyc</th>\n",
       "      <th>flag</th>\n",
       "      <th>tgl_transaksi</th>\n",
       "      <th>jenis_transaksi</th>\n",
       "      <th>client</th>\n",
       "      <th>region_nm</th>\n",
       "    </tr>\n",
       "  </thead>\n",
       "  <tbody>\n",
       "    <tr>\n",
       "      <th>24</th>\n",
       "      <td>1</td>\n",
       "      <td>0.0140</td>\n",
       "      <td>9996.0</td>\n",
       "      <td>Shopper</td>\n",
       "      <td>ISLAM</td>\n",
       "      <td>Ibu Rumah Tangga</td>\n",
       "      <td>S1</td>\n",
       "      <td>3 - 5 Juta</td>\n",
       "      <td>Perempuan</td>\n",
       "      <td>35-45</td>\n",
       "      <td>1</td>\n",
       "      <td>Outlet</td>\n",
       "      <td>KONVEN</td>\n",
       "      <td>2019-10-22</td>\n",
       "      <td>SALE</td>\n",
       "      <td>TOKOPEDIA</td>\n",
       "      <td>KANTOR PUSAT</td>\n",
       "    </tr>\n",
       "    <tr>\n",
       "      <th>40</th>\n",
       "      <td>1</td>\n",
       "      <td>0.2805</td>\n",
       "      <td>199996.5</td>\n",
       "      <td>Shopper</td>\n",
       "      <td>ISLAM</td>\n",
       "      <td>Profesional</td>\n",
       "      <td>SMA</td>\n",
       "      <td>3 - 5 Juta</td>\n",
       "      <td>Laki-laki</td>\n",
       "      <td>35-45</td>\n",
       "      <td>1</td>\n",
       "      <td>Channel</td>\n",
       "      <td>KONVEN</td>\n",
       "      <td>2019-10-03</td>\n",
       "      <td>SALE</td>\n",
       "      <td>TOKOPEDIA</td>\n",
       "      <td>KANTOR PUSAT</td>\n",
       "    </tr>\n",
       "    <tr>\n",
       "      <th>54</th>\n",
       "      <td>2</td>\n",
       "      <td>0.0224</td>\n",
       "      <td>20160.0</td>\n",
       "      <td>Best</td>\n",
       "      <td>ISLAM</td>\n",
       "      <td>Lainnya</td>\n",
       "      <td>S1</td>\n",
       "      <td>3 - 5 Juta</td>\n",
       "      <td>Perempuan</td>\n",
       "      <td>25-35</td>\n",
       "      <td>1</td>\n",
       "      <td>Outlet</td>\n",
       "      <td>KONVEN</td>\n",
       "      <td>2021-06-13</td>\n",
       "      <td>SALE</td>\n",
       "      <td>SHOPEE</td>\n",
       "      <td>KANWIL BANDUNG</td>\n",
       "    </tr>\n",
       "    <tr>\n",
       "      <th>55</th>\n",
       "      <td>2</td>\n",
       "      <td>0.0228</td>\n",
       "      <td>20132.4</td>\n",
       "      <td>Best</td>\n",
       "      <td>ISLAM</td>\n",
       "      <td>Lainnya</td>\n",
       "      <td>S1</td>\n",
       "      <td>3 - 5 Juta</td>\n",
       "      <td>Perempuan</td>\n",
       "      <td>25-35</td>\n",
       "      <td>1</td>\n",
       "      <td>Outlet</td>\n",
       "      <td>KONVEN</td>\n",
       "      <td>2021-04-22</td>\n",
       "      <td>SALE</td>\n",
       "      <td>SHOPEE</td>\n",
       "      <td>KANWIL BANDUNG</td>\n",
       "    </tr>\n",
       "    <tr>\n",
       "      <th>58</th>\n",
       "      <td>10</td>\n",
       "      <td>0.0100</td>\n",
       "      <td>8800.0</td>\n",
       "      <td>Shopper</td>\n",
       "      <td>KATHOLIK</td>\n",
       "      <td>Profesional</td>\n",
       "      <td>SMA</td>\n",
       "      <td>1 - 3 Juta</td>\n",
       "      <td>Laki-laki</td>\n",
       "      <td>25-35</td>\n",
       "      <td>1</td>\n",
       "      <td>Outlet</td>\n",
       "      <td>KONVEN</td>\n",
       "      <td>2021-08-16</td>\n",
       "      <td>SALE</td>\n",
       "      <td>SHOPEE</td>\n",
       "      <td>KANWIL BANDUNG</td>\n",
       "    </tr>\n",
       "    <tr>\n",
       "      <th>...</th>\n",
       "      <td>...</td>\n",
       "      <td>...</td>\n",
       "      <td>...</td>\n",
       "      <td>...</td>\n",
       "      <td>...</td>\n",
       "      <td>...</td>\n",
       "      <td>...</td>\n",
       "      <td>...</td>\n",
       "      <td>...</td>\n",
       "      <td>...</td>\n",
       "      <td>...</td>\n",
       "      <td>...</td>\n",
       "      <td>...</td>\n",
       "      <td>...</td>\n",
       "      <td>...</td>\n",
       "      <td>...</td>\n",
       "      <td>...</td>\n",
       "    </tr>\n",
       "    <tr>\n",
       "      <th>1766549</th>\n",
       "      <td>1</td>\n",
       "      <td>0.0551</td>\n",
       "      <td>50030.8</td>\n",
       "      <td>Shopper</td>\n",
       "      <td>KATHOLIK</td>\n",
       "      <td>Profesional</td>\n",
       "      <td>SMA</td>\n",
       "      <td>1 - 3 Juta</td>\n",
       "      <td>Perempuan</td>\n",
       "      <td>35-45</td>\n",
       "      <td>1</td>\n",
       "      <td>Outlet</td>\n",
       "      <td>KONVEN</td>\n",
       "      <td>2021-01-10</td>\n",
       "      <td>SALE</td>\n",
       "      <td>SHOPEE</td>\n",
       "      <td>KANWIL JAKARTA 1</td>\n",
       "    </tr>\n",
       "    <tr>\n",
       "      <th>1766551</th>\n",
       "      <td>4</td>\n",
       "      <td>0.0044</td>\n",
       "      <td>4021.6</td>\n",
       "      <td>Shopper</td>\n",
       "      <td>KRISTEN</td>\n",
       "      <td>Lainnya</td>\n",
       "      <td>S1</td>\n",
       "      <td>3 - 5 Juta</td>\n",
       "      <td>Perempuan</td>\n",
       "      <td>35-45</td>\n",
       "      <td>1</td>\n",
       "      <td>Outlet</td>\n",
       "      <td>KONVEN</td>\n",
       "      <td>2021-01-05</td>\n",
       "      <td>SALE</td>\n",
       "      <td>SHOPEE</td>\n",
       "      <td>KANWIL SURABAYA</td>\n",
       "    </tr>\n",
       "    <tr>\n",
       "      <th>1766552</th>\n",
       "      <td>3</td>\n",
       "      <td>0.0032</td>\n",
       "      <td>2915.2</td>\n",
       "      <td>Shopper</td>\n",
       "      <td>KRISTEN</td>\n",
       "      <td>Lainnya</td>\n",
       "      <td>S1</td>\n",
       "      <td>3 - 5 Juta</td>\n",
       "      <td>Perempuan</td>\n",
       "      <td>35-45</td>\n",
       "      <td>1</td>\n",
       "      <td>Outlet</td>\n",
       "      <td>KONVEN</td>\n",
       "      <td>2020-11-20</td>\n",
       "      <td>SALE</td>\n",
       "      <td>SHOPEE</td>\n",
       "      <td>KANWIL SURABAYA</td>\n",
       "    </tr>\n",
       "    <tr>\n",
       "      <th>1766556</th>\n",
       "      <td>2</td>\n",
       "      <td>0.0060</td>\n",
       "      <td>5472.0</td>\n",
       "      <td>Shopper</td>\n",
       "      <td>KATHOLIK</td>\n",
       "      <td>Lainnya</td>\n",
       "      <td>D3</td>\n",
       "      <td>3 - 5 Juta</td>\n",
       "      <td>Perempuan</td>\n",
       "      <td>35-45</td>\n",
       "      <td>1</td>\n",
       "      <td>Outlet</td>\n",
       "      <td>KONVEN</td>\n",
       "      <td>2021-06-08</td>\n",
       "      <td>SALE</td>\n",
       "      <td>SHOPEE</td>\n",
       "      <td>KANWIL SURABAYA</td>\n",
       "    </tr>\n",
       "    <tr>\n",
       "      <th>1766557</th>\n",
       "      <td>1</td>\n",
       "      <td>0.0012</td>\n",
       "      <td>1034.4</td>\n",
       "      <td>Shopper</td>\n",
       "      <td>KRISTEN</td>\n",
       "      <td>Profesional</td>\n",
       "      <td>D3</td>\n",
       "      <td>1 - 3 Juta</td>\n",
       "      <td>Perempuan</td>\n",
       "      <td>35-45</td>\n",
       "      <td>1</td>\n",
       "      <td>Outlet</td>\n",
       "      <td>KONVEN</td>\n",
       "      <td>2021-09-27</td>\n",
       "      <td>SALE</td>\n",
       "      <td>SHOPEE</td>\n",
       "      <td>KANWIL JAKARTA 1</td>\n",
       "    </tr>\n",
       "  </tbody>\n",
       "</table>\n",
       "<p>682487 rows × 17 columns</p>\n",
       "</div>"
      ],
      "text/plain": [
       "         jumlah_transaksi  total_berat  total_amount segmentasi     agama  \\\n",
       "24                      1       0.0140        9996.0    Shopper     ISLAM   \n",
       "40                      1       0.2805      199996.5    Shopper     ISLAM   \n",
       "54                      2       0.0224       20160.0       Best     ISLAM   \n",
       "55                      2       0.0228       20132.4       Best     ISLAM   \n",
       "58                     10       0.0100        8800.0    Shopper  KATHOLIK   \n",
       "...                   ...          ...           ...        ...       ...   \n",
       "1766549                 1       0.0551       50030.8    Shopper  KATHOLIK   \n",
       "1766551                 4       0.0044        4021.6    Shopper   KRISTEN   \n",
       "1766552                 3       0.0032        2915.2    Shopper   KRISTEN   \n",
       "1766556                 2       0.0060        5472.0    Shopper  KATHOLIK   \n",
       "1766557                 1       0.0012        1034.4    Shopper   KRISTEN   \n",
       "\n",
       "                  profesi pendidikan  range_gaji jenis_kelamin range_usia  \\\n",
       "24       Ibu Rumah Tangga         S1  3 - 5 Juta     Perempuan      35-45   \n",
       "40            Profesional        SMA  3 - 5 Juta     Laki-laki      35-45   \n",
       "54                Lainnya         S1  3 - 5 Juta     Perempuan      25-35   \n",
       "55                Lainnya         S1  3 - 5 Juta     Perempuan      25-35   \n",
       "58            Profesional        SMA  1 - 3 Juta     Laki-laki      25-35   \n",
       "...                   ...        ...         ...           ...        ...   \n",
       "1766549       Profesional        SMA  1 - 3 Juta     Perempuan      35-45   \n",
       "1766551           Lainnya         S1  3 - 5 Juta     Perempuan      35-45   \n",
       "1766552           Lainnya         S1  3 - 5 Juta     Perempuan      35-45   \n",
       "1766556           Lainnya         D3  3 - 5 Juta     Perempuan      35-45   \n",
       "1766557       Profesional         D3  1 - 3 Juta     Perempuan      35-45   \n",
       "\n",
       "        status_kyc source_kyc    flag tgl_transaksi jenis_transaksi  \\\n",
       "24               1     Outlet  KONVEN    2019-10-22            SALE   \n",
       "40               1    Channel  KONVEN    2019-10-03            SALE   \n",
       "54               1     Outlet  KONVEN    2021-06-13            SALE   \n",
       "55               1     Outlet  KONVEN    2021-04-22            SALE   \n",
       "58               1     Outlet  KONVEN    2021-08-16            SALE   \n",
       "...            ...        ...     ...           ...             ...   \n",
       "1766549          1     Outlet  KONVEN    2021-01-10            SALE   \n",
       "1766551          1     Outlet  KONVEN    2021-01-05            SALE   \n",
       "1766552          1     Outlet  KONVEN    2020-11-20            SALE   \n",
       "1766556          1     Outlet  KONVEN    2021-06-08            SALE   \n",
       "1766557          1     Outlet  KONVEN    2021-09-27            SALE   \n",
       "\n",
       "            client         region_nm  \n",
       "24       TOKOPEDIA      KANTOR PUSAT  \n",
       "40       TOKOPEDIA      KANTOR PUSAT  \n",
       "54          SHOPEE    KANWIL BANDUNG  \n",
       "55          SHOPEE    KANWIL BANDUNG  \n",
       "58          SHOPEE    KANWIL BANDUNG  \n",
       "...            ...               ...  \n",
       "1766549     SHOPEE  KANWIL JAKARTA 1  \n",
       "1766551     SHOPEE   KANWIL SURABAYA  \n",
       "1766552     SHOPEE   KANWIL SURABAYA  \n",
       "1766556     SHOPEE   KANWIL SURABAYA  \n",
       "1766557     SHOPEE  KANWIL JAKARTA 1  \n",
       "\n",
       "[682487 rows x 17 columns]"
      ]
     },
     "execution_count": 21,
     "metadata": {},
     "output_type": "execute_result"
    }
   ],
   "source": [
    "pdf_drop"
   ]
  },
  {
   "cell_type": "code",
   "execution_count": 22,
   "metadata": {
    "ExecuteTime": {
     "end_time": "2021-11-10T01:31:37.890090Z",
     "start_time": "2021-11-10T01:28:42.817993Z"
    }
   },
   "outputs": [
    {
     "data": {
      "text/plain": [
       "<seaborn.axisgrid.FacetGrid at 0x7fcf2eef7ac8>"
      ]
     },
     "execution_count": 22,
     "metadata": {},
     "output_type": "execute_result"
    },
    {
     "data": {
      "image/png": "[encoded data removed]",
      "text/plain": [
       "<Figure size 360x360 with 1 Axes>"
      ]
     },
     "metadata": {
      "needs_background": "light"
     },
     "output_type": "display_data"
    }
   ],
   "source": [
    "sns.displot(pdf_drop.jumlah_transaksi)"
   ]
  },
  {
   "cell_type": "code",
   "execution_count": 23,
   "metadata": {
    "ExecuteTime": {
     "end_time": "2021-11-10T01:31:41.498856Z",
     "start_time": "2021-11-10T01:31:37.892578Z"
    }
   },
   "outputs": [
    {
     "name": "stderr",
     "output_type": "stream",
     "text": [
      "/home/cdsw/.local/lib/python3.6/site-packages/seaborn/distributions.py:2557: FutureWarning: `distplot` is a deprecated function and will be removed in a future version. Please adapt your code to use either `displot` (a figure-level function with similar flexibility) or `histplot` (an axes-level function for histograms).\n",
      "  warnings.warn(msg, FutureWarning)\n"
     ]
    },
    {
     "data": {
      "text/plain": [
       "<matplotlib.axes._subplots.AxesSubplot at 0x7fceae2fb780>"
      ]
     },
     "execution_count": 23,
     "metadata": {},
     "output_type": "execute_result"
    },
    {
     "data": {
      "image/png": "[encoded data removed]",
      "text/plain": [
       "<Figure size 432x288 with 1 Axes>"
      ]
     },
     "metadata": {
      "needs_background": "light"
     },
     "output_type": "display_data"
    }
   ],
   "source": [
    "sns.distplot(np.where(pdf[\"jumlah_transaksi\"] > upper_bound,\n",
    "                               upper_bound,pdf['jumlah_transaksi']))\n"
   ]
  },
  {
   "cell_type": "markdown",
   "metadata": {},
   "source": [
    "### Capping outliers values"
   ]
  },
  {
   "cell_type": "code",
   "execution_count": 24,
   "metadata": {
    "ExecuteTime": {
     "end_time": "2021-11-10T01:31:45.681170Z",
     "start_time": "2021-11-10T01:31:41.501143Z"
    }
   },
   "outputs": [
    {
     "name": "stderr",
     "output_type": "stream",
     "text": [
      "/home/cdsw/.local/lib/python3.6/site-packages/seaborn/_decorators.py:43: FutureWarning: Pass the following variable as a keyword arg: x. From version 0.12, the only valid positional argument will be `data`, and passing other arguments without an explicit keyword will result in an error or misinterpretation.\n",
      "  FutureWarning\n"
     ]
    },
    {
     "data": {
      "image/png": "[encoded data removed]",
      "text/plain": [
       "<Figure size 864x432 with 1 Axes>"
      ]
     },
     "metadata": {
      "needs_background": "light"
     },
     "output_type": "display_data"
    }
   ],
   "source": [
    "#Capping outliers values\n",
    "pdf['jumlah_transaksi_capping'] = np.where(pdf[\"jumlah_transaksi\"] > upper_bound,\n",
    "                               upper_bound,pdf['jumlah_transaksi']) #higher\n",
    "pdf[\"jumlah_transaksi_capping\"] = np.where(pdf[\"jumlah_transaksi\"] < lower_bound, \n",
    "                               lower_bound,pdf['jumlah_transaksi'])\n",
    "fig,ax = plt.subplots(figsize=(12,6))\n",
    "fig = sns.boxplot(pdf.jumlah_transaksi_capping).set_title('Jumlah Transaksi Boxplot')\n",
    "fig.figure.savefig('_cap.png')"
   ]
  },
  {
   "cell_type": "markdown",
   "metadata": {},
   "source": [
    "### Replacing with new values"
   ]
  },
  {
   "cell_type": "code",
   "execution_count": 25,
   "metadata": {
    "ExecuteTime": {
     "end_time": "2021-11-10T01:31:46.072147Z",
     "start_time": "2021-11-10T01:31:45.682933Z"
    }
   },
   "outputs": [
    {
     "name": "stderr",
     "output_type": "stream",
     "text": [
      "/home/cdsw/.local/lib/python3.6/site-packages/seaborn/_decorators.py:43: FutureWarning: Pass the following variable as a keyword arg: x. From version 0.12, the only valid positional argument will be `data`, and passing other arguments without an explicit keyword will result in an error or misinterpretation.\n",
      "  FutureWarning\n"
     ]
    },
    {
     "data": {
      "image/png": "[encoded data removed]",
      "text/plain": [
       "<Figure size 864x432 with 1 Axes>"
      ]
     },
     "metadata": {
      "needs_background": "light"
     },
     "output_type": "display_data"
    }
   ],
   "source": [
    "#Replacing with new values\n",
    "pdf['jumlah_transaksi'] = pdf.jumlah_transaksi.mask(pdf.jumlah_transaksi > upper_bound,pdf.jumlah_transaksi.mean())\n",
    "pdf['jumlah_transaksi'] = pdf.jumlah_transaksi.mask(pdf.jumlah_transaksi < lower_bound,pdf.jumlah_transaksi.mean())\n",
    "fig,ax = plt.subplots(figsize=(12,6))\n",
    "fig = sns.boxplot(pdf.jumlah_transaksi).set_title('Jumlah Transaksi Boxplot')\n",
    "fig.figure.savefig('JT_AnVal.png')"
   ]
  },
  {
   "cell_type": "code",
   "execution_count": 24,
   "metadata": {
    "ExecuteTime": {
     "end_time": "2021-11-09T07:13:26.326290Z",
     "start_time": "2021-11-09T07:13:26.323590Z"
    }
   },
   "outputs": [
    {
     "data": {
      "text/plain": [
       "pandas.core.frame.DataFrame"
      ]
     },
     "execution_count": 24,
     "metadata": {},
     "output_type": "execute_result"
    }
   ],
   "source": []
  },
  {
   "cell_type": "code",
   "execution_count": 114,
   "metadata": {
    "ExecuteTime": {
     "end_time": "2021-11-10T04:10:22.925921Z",
     "start_time": "2021-11-10T04:10:22.903258Z"
    }
   },
   "outputs": [
    {
     "data": {
      "text/html": [
       "<div>\n",
       "<style scoped>\n",
       "    .dataframe tbody tr th:only-of-type {\n",
       "        vertical-align: middle;\n",
       "    }\n",
       "\n",
       "    .dataframe tbody tr th {\n",
       "        vertical-align: top;\n",
       "    }\n",
       "\n",
       "    .dataframe thead th {\n",
       "        text-align: right;\n",
       "    }\n",
       "</style>\n",
       "<table border=\"1\" class=\"dataframe\">\n",
       "  <thead>\n",
       "    <tr style=\"text-align: right;\">\n",
       "      <th></th>\n",
       "      <th>jumlah_transaksi</th>\n",
       "      <th>total_berat</th>\n",
       "      <th>total_amount</th>\n",
       "      <th>segmentasi</th>\n",
       "      <th>agama</th>\n",
       "      <th>profesi</th>\n",
       "      <th>pendidikan</th>\n",
       "      <th>range_gaji</th>\n",
       "      <th>jenis_kelamin</th>\n",
       "      <th>range_usia</th>\n",
       "      <th>status_kyc</th>\n",
       "      <th>source_kyc</th>\n",
       "      <th>flag</th>\n",
       "      <th>tgl_transaksi</th>\n",
       "      <th>jenis_transaksi</th>\n",
       "      <th>client</th>\n",
       "      <th>region_nm</th>\n",
       "    </tr>\n",
       "  </thead>\n",
       "  <tbody>\n",
       "    <tr>\n",
       "      <th>24</th>\n",
       "      <td>1</td>\n",
       "      <td>0.0140</td>\n",
       "      <td>9996.0</td>\n",
       "      <td>Shopper</td>\n",
       "      <td>ISLAM</td>\n",
       "      <td>Ibu Rumah Tangga</td>\n",
       "      <td>S1</td>\n",
       "      <td>3 - 5 Juta</td>\n",
       "      <td>Perempuan</td>\n",
       "      <td>35-45</td>\n",
       "      <td>1</td>\n",
       "      <td>Outlet</td>\n",
       "      <td>KONVEN</td>\n",
       "      <td>2019-10-22</td>\n",
       "      <td>SALE</td>\n",
       "      <td>TOKOPEDIA</td>\n",
       "      <td>KANTOR PUSAT</td>\n",
       "    </tr>\n",
       "    <tr>\n",
       "      <th>40</th>\n",
       "      <td>1</td>\n",
       "      <td>0.2805</td>\n",
       "      <td>199996.5</td>\n",
       "      <td>Shopper</td>\n",
       "      <td>ISLAM</td>\n",
       "      <td>Profesional</td>\n",
       "      <td>SMA</td>\n",
       "      <td>3 - 5 Juta</td>\n",
       "      <td>Laki-laki</td>\n",
       "      <td>35-45</td>\n",
       "      <td>1</td>\n",
       "      <td>Channel</td>\n",
       "      <td>KONVEN</td>\n",
       "      <td>2019-10-03</td>\n",
       "      <td>SALE</td>\n",
       "      <td>TOKOPEDIA</td>\n",
       "      <td>KANTOR PUSAT</td>\n",
       "    </tr>\n",
       "    <tr>\n",
       "      <th>54</th>\n",
       "      <td>2</td>\n",
       "      <td>0.0224</td>\n",
       "      <td>20160.0</td>\n",
       "      <td>Best</td>\n",
       "      <td>ISLAM</td>\n",
       "      <td>Lainnya</td>\n",
       "      <td>S1</td>\n",
       "      <td>3 - 5 Juta</td>\n",
       "      <td>Perempuan</td>\n",
       "      <td>25-35</td>\n",
       "      <td>1</td>\n",
       "      <td>Outlet</td>\n",
       "      <td>KONVEN</td>\n",
       "      <td>2021-06-13</td>\n",
       "      <td>SALE</td>\n",
       "      <td>SHOPEE</td>\n",
       "      <td>KANWIL BANDUNG</td>\n",
       "    </tr>\n",
       "    <tr>\n",
       "      <th>55</th>\n",
       "      <td>2</td>\n",
       "      <td>0.0228</td>\n",
       "      <td>20132.4</td>\n",
       "      <td>Best</td>\n",
       "      <td>ISLAM</td>\n",
       "      <td>Lainnya</td>\n",
       "      <td>S1</td>\n",
       "      <td>3 - 5 Juta</td>\n",
       "      <td>Perempuan</td>\n",
       "      <td>25-35</td>\n",
       "      <td>1</td>\n",
       "      <td>Outlet</td>\n",
       "      <td>KONVEN</td>\n",
       "      <td>2021-04-22</td>\n",
       "      <td>SALE</td>\n",
       "      <td>SHOPEE</td>\n",
       "      <td>KANWIL BANDUNG</td>\n",
       "    </tr>\n",
       "    <tr>\n",
       "      <th>58</th>\n",
       "      <td>10</td>\n",
       "      <td>0.0100</td>\n",
       "      <td>8800.0</td>\n",
       "      <td>Shopper</td>\n",
       "      <td>KATHOLIK</td>\n",
       "      <td>Profesional</td>\n",
       "      <td>SMA</td>\n",
       "      <td>1 - 3 Juta</td>\n",
       "      <td>Laki-laki</td>\n",
       "      <td>25-35</td>\n",
       "      <td>1</td>\n",
       "      <td>Outlet</td>\n",
       "      <td>KONVEN</td>\n",
       "      <td>2021-08-16</td>\n",
       "      <td>SALE</td>\n",
       "      <td>SHOPEE</td>\n",
       "      <td>KANWIL BANDUNG</td>\n",
       "    </tr>\n",
       "    <tr>\n",
       "      <th>...</th>\n",
       "      <td>...</td>\n",
       "      <td>...</td>\n",
       "      <td>...</td>\n",
       "      <td>...</td>\n",
       "      <td>...</td>\n",
       "      <td>...</td>\n",
       "      <td>...</td>\n",
       "      <td>...</td>\n",
       "      <td>...</td>\n",
       "      <td>...</td>\n",
       "      <td>...</td>\n",
       "      <td>...</td>\n",
       "      <td>...</td>\n",
       "      <td>...</td>\n",
       "      <td>...</td>\n",
       "      <td>...</td>\n",
       "      <td>...</td>\n",
       "    </tr>\n",
       "    <tr>\n",
       "      <th>488</th>\n",
       "      <td>1</td>\n",
       "      <td>2.2076</td>\n",
       "      <td>2000085.6</td>\n",
       "      <td>Best</td>\n",
       "      <td>ISLAM</td>\n",
       "      <td>Profesional</td>\n",
       "      <td>SMA</td>\n",
       "      <td>&lt; 1 Juta</td>\n",
       "      <td>Perempuan</td>\n",
       "      <td>25-35</td>\n",
       "      <td>1</td>\n",
       "      <td>Outlet</td>\n",
       "      <td>KONVEN</td>\n",
       "      <td>2021-06-04</td>\n",
       "      <td>SALE</td>\n",
       "      <td>TOKOPEDIA</td>\n",
       "      <td>KANTOR PUSAT</td>\n",
       "    </tr>\n",
       "    <tr>\n",
       "      <th>495</th>\n",
       "      <td>1</td>\n",
       "      <td>0.0351</td>\n",
       "      <td>30010.5</td>\n",
       "      <td>Shopper</td>\n",
       "      <td>ISLAM</td>\n",
       "      <td>Ibu Rumah Tangga</td>\n",
       "      <td>SMA</td>\n",
       "      <td>3 - 5 Juta</td>\n",
       "      <td>Perempuan</td>\n",
       "      <td>35-45</td>\n",
       "      <td>1</td>\n",
       "      <td>Outlet</td>\n",
       "      <td>KONVEN</td>\n",
       "      <td>2021-06-22</td>\n",
       "      <td>BUY</td>\n",
       "      <td>TOKOPEDIA</td>\n",
       "      <td>KANTOR PUSAT</td>\n",
       "    </tr>\n",
       "    <tr>\n",
       "      <th>504</th>\n",
       "      <td>13</td>\n",
       "      <td>0.0147</td>\n",
       "      <td>13274.1</td>\n",
       "      <td>Shopper</td>\n",
       "      <td>ISLAM</td>\n",
       "      <td>Ibu Rumah Tangga</td>\n",
       "      <td>SMA</td>\n",
       "      <td>&lt; 1 Juta</td>\n",
       "      <td>Perempuan</td>\n",
       "      <td>25-35</td>\n",
       "      <td>1</td>\n",
       "      <td>Outlet</td>\n",
       "      <td>KONVEN</td>\n",
       "      <td>2020-12-09</td>\n",
       "      <td>SALE</td>\n",
       "      <td>SHOPEE</td>\n",
       "      <td>KANWIL BANDUNG</td>\n",
       "    </tr>\n",
       "    <tr>\n",
       "      <th>507</th>\n",
       "      <td>38</td>\n",
       "      <td>0.4005</td>\n",
       "      <td>363333.6</td>\n",
       "      <td>Shopper</td>\n",
       "      <td>ISLAM</td>\n",
       "      <td>Ibu Rumah Tangga</td>\n",
       "      <td>SMA</td>\n",
       "      <td>1 - 3 Juta</td>\n",
       "      <td>Perempuan</td>\n",
       "      <td>25-35</td>\n",
       "      <td>1</td>\n",
       "      <td>Outlet</td>\n",
       "      <td>KONVEN</td>\n",
       "      <td>2021-01-11</td>\n",
       "      <td>SALE</td>\n",
       "      <td>SHOPEE</td>\n",
       "      <td>KANWIL BANDUNG</td>\n",
       "    </tr>\n",
       "    <tr>\n",
       "      <th>515</th>\n",
       "      <td>1</td>\n",
       "      <td>0.0542</td>\n",
       "      <td>50080.8</td>\n",
       "      <td>Shopper</td>\n",
       "      <td>ISLAM</td>\n",
       "      <td>Lainnya</td>\n",
       "      <td>SMA</td>\n",
       "      <td>1 - 3 Juta</td>\n",
       "      <td>Laki-laki</td>\n",
       "      <td>25-35</td>\n",
       "      <td>1</td>\n",
       "      <td>Outlet</td>\n",
       "      <td>KONVEN</td>\n",
       "      <td>2020-11-11</td>\n",
       "      <td>SALE</td>\n",
       "      <td>SHOPEE</td>\n",
       "      <td>KANWIL MEDAN</td>\n",
       "    </tr>\n",
       "  </tbody>\n",
       "</table>\n",
       "<p>100 rows × 17 columns</p>\n",
       "</div>"
      ],
      "text/plain": [
       "     jumlah_transaksi  total_berat  total_amount segmentasi     agama  \\\n",
       "24                  1       0.0140        9996.0    Shopper     ISLAM   \n",
       "40                  1       0.2805      199996.5    Shopper     ISLAM   \n",
       "54                  2       0.0224       20160.0       Best     ISLAM   \n",
       "55                  2       0.0228       20132.4       Best     ISLAM   \n",
       "58                 10       0.0100        8800.0    Shopper  KATHOLIK   \n",
       "..                ...          ...           ...        ...       ...   \n",
       "488                 1       2.2076     2000085.6       Best     ISLAM   \n",
       "495                 1       0.0351       30010.5    Shopper     ISLAM   \n",
       "504                13       0.0147       13274.1    Shopper     ISLAM   \n",
       "507                38       0.4005      363333.6    Shopper     ISLAM   \n",
       "515                 1       0.0542       50080.8    Shopper     ISLAM   \n",
       "\n",
       "              profesi pendidikan  range_gaji jenis_kelamin range_usia  \\\n",
       "24   Ibu Rumah Tangga         S1  3 - 5 Juta     Perempuan      35-45   \n",
       "40        Profesional        SMA  3 - 5 Juta     Laki-laki      35-45   \n",
       "54            Lainnya         S1  3 - 5 Juta     Perempuan      25-35   \n",
       "55            Lainnya         S1  3 - 5 Juta     Perempuan      25-35   \n",
       "58        Profesional        SMA  1 - 3 Juta     Laki-laki      25-35   \n",
       "..                ...        ...         ...           ...        ...   \n",
       "488       Profesional        SMA    < 1 Juta     Perempuan      25-35   \n",
       "495  Ibu Rumah Tangga        SMA  3 - 5 Juta     Perempuan      35-45   \n",
       "504  Ibu Rumah Tangga        SMA    < 1 Juta     Perempuan      25-35   \n",
       "507  Ibu Rumah Tangga        SMA  1 - 3 Juta     Perempuan      25-35   \n",
       "515           Lainnya        SMA  1 - 3 Juta     Laki-laki      25-35   \n",
       "\n",
       "    status_kyc source_kyc    flag tgl_transaksi jenis_transaksi     client  \\\n",
       "24           1     Outlet  KONVEN    2019-10-22            SALE  TOKOPEDIA   \n",
       "40           1    Channel  KONVEN    2019-10-03            SALE  TOKOPEDIA   \n",
       "54           1     Outlet  KONVEN    2021-06-13            SALE     SHOPEE   \n",
       "55           1     Outlet  KONVEN    2021-04-22            SALE     SHOPEE   \n",
       "58           1     Outlet  KONVEN    2021-08-16            SALE     SHOPEE   \n",
       "..         ...        ...     ...           ...             ...        ...   \n",
       "488          1     Outlet  KONVEN    2021-06-04            SALE  TOKOPEDIA   \n",
       "495          1     Outlet  KONVEN    2021-06-22             BUY  TOKOPEDIA   \n",
       "504          1     Outlet  KONVEN    2020-12-09            SALE     SHOPEE   \n",
       "507          1     Outlet  KONVEN    2021-01-11            SALE     SHOPEE   \n",
       "515          1     Outlet  KONVEN    2020-11-11            SALE     SHOPEE   \n",
       "\n",
       "          region_nm  \n",
       "24     KANTOR PUSAT  \n",
       "40     KANTOR PUSAT  \n",
       "54   KANWIL BANDUNG  \n",
       "55   KANWIL BANDUNG  \n",
       "58   KANWIL BANDUNG  \n",
       "..              ...  \n",
       "488    KANTOR PUSAT  \n",
       "495    KANTOR PUSAT  \n",
       "504  KANWIL BANDUNG  \n",
       "507  KANWIL BANDUNG  \n",
       "515    KANWIL MEDAN  \n",
       "\n",
       "[100 rows x 17 columns]"
      ]
     },
     "execution_count": 114,
     "metadata": {},
     "output_type": "execute_result"
    }
   ],
   "source": [
    "pdf.head(100)"
   ]
  },
  {
   "cell_type": "markdown",
   "metadata": {},
   "source": [
    "# MAKE LABEL ENCODER"
   ]
  },
  {
   "cell_type": "code",
   "execution_count": 48,
   "metadata": {
    "ExecuteTime": {
     "end_time": "2021-11-11T06:50:22.085375Z",
     "start_time": "2021-11-11T06:50:18.613465Z"
    }
   },
   "outputs": [
    {
     "name": "stdout",
     "output_type": "stream",
     "text": [
      "         jumlah_transaksi  total_berat  total_amount segmentasi     agama  \\\n",
      "24                      1       0.0140        9996.0    Shopper     ISLAM   \n",
      "40                      1       0.2805      199996.5    Shopper     ISLAM   \n",
      "54                      2       0.0224       20160.0       Best     ISLAM   \n",
      "55                      2       0.0228       20132.4       Best     ISLAM   \n",
      "58                     10       0.0100        8800.0    Shopper  KATHOLIK   \n",
      "...                   ...          ...           ...        ...       ...   \n",
      "1766549                 1       0.0551       50030.8    Shopper  KATHOLIK   \n",
      "1766551                 4       0.0044        4021.6    Shopper   KRISTEN   \n",
      "1766552                 3       0.0032        2915.2    Shopper   KRISTEN   \n",
      "1766556                 2       0.0060        5472.0    Shopper  KATHOLIK   \n",
      "1766557                 1       0.0012        1034.4    Shopper   KRISTEN   \n",
      "\n",
      "                  profesi pendidikan  range_gaji jenis_kelamin range_usia  \\\n",
      "24       Ibu Rumah Tangga         S1  3 - 5 Juta     Perempuan      35-45   \n",
      "40            Profesional        SMA  3 - 5 Juta     Laki-laki      35-45   \n",
      "54                Lainnya         S1  3 - 5 Juta     Perempuan      25-35   \n",
      "55                Lainnya         S1  3 - 5 Juta     Perempuan      25-35   \n",
      "58            Profesional        SMA  1 - 3 Juta     Laki-laki      25-35   \n",
      "...                   ...        ...         ...           ...        ...   \n",
      "1766549       Profesional        SMA  1 - 3 Juta     Perempuan      35-45   \n",
      "1766551           Lainnya         S1  3 - 5 Juta     Perempuan      35-45   \n",
      "1766552           Lainnya         S1  3 - 5 Juta     Perempuan      35-45   \n",
      "1766556           Lainnya         D3  3 - 5 Juta     Perempuan      35-45   \n",
      "1766557       Profesional         D3  1 - 3 Juta     Perempuan      35-45   \n",
      "\n",
      "         ... pendidikan_encoded range_gaji_encoded jk_encoded  \\\n",
      "24       ...                  4                  3          1   \n",
      "40       ...                  8                  3          0   \n",
      "54       ...                  4                  3          1   \n",
      "55       ...                  4                  3          1   \n",
      "58       ...                  8                  0          0   \n",
      "...      ...                ...                ...        ...   \n",
      "1766549  ...                  8                  0          1   \n",
      "1766551  ...                  4                  3          1   \n",
      "1766552  ...                  4                  3          1   \n",
      "1766556  ...                  3                  3          1   \n",
      "1766557  ...                  3                  0          1   \n",
      "\n",
      "        range_usia_encoded source_kyc_encoded flag_encoded  \\\n",
      "24                       2                  1            0   \n",
      "40                       2                  0            0   \n",
      "54                       1                  1            0   \n",
      "55                       1                  1            0   \n",
      "58                       1                  1            0   \n",
      "...                    ...                ...          ...   \n",
      "1766549                  2                  1            0   \n",
      "1766551                  2                  1            0   \n",
      "1766552                  2                  1            0   \n",
      "1766556                  2                  1            0   \n",
      "1766557                  2                  1            0   \n",
      "\n",
      "        jenis_transaksi_encoded  client_encoded  region_nm_encoded  \\\n",
      "24                            3               3                  0   \n",
      "40                            3               3                  0   \n",
      "54                            3               2                  2   \n",
      "55                            3               2                  2   \n",
      "58                            3               2                  2   \n",
      "...                         ...             ...                ...   \n",
      "1766549                       3               2                  4   \n",
      "1766551                       3               2                 12   \n",
      "1766552                       3               2                 12   \n",
      "1766556                       3               2                 12   \n",
      "1766557                       3               2                  4   \n",
      "\n",
      "         status_kyc_encoded  \n",
      "24                        0  \n",
      "40                        0  \n",
      "54                        0  \n",
      "55                        0  \n",
      "58                        0  \n",
      "...                     ...  \n",
      "1766549                   0  \n",
      "1766551                   0  \n",
      "1766552                   0  \n",
      "1766556                   0  \n",
      "1766557                   0  \n",
      "\n",
      "[674547 rows x 30 columns]\n"
     ]
    }
   ],
   "source": [
    "#make label\n",
    "from sklearn.preprocessing import LabelEncoder\n",
    "\n",
    "le = LabelEncoder()\n",
    "\n",
    "segmentasi_encoded = le.fit_transform(pdf['segmentasi'])\n",
    "pdf['segmentasi_encoded'] = segmentasi_encoded\n",
    "\n",
    "agama_encoded = le.fit_transform(pdf['agama'])\n",
    "pdf['agama_encoded'] = agama_encoded\n",
    "\n",
    "profesi_encoded = le.fit_transform(pdf['profesi'])\n",
    "pdf['profesi_encoded'] = profesi_encoded\n",
    "\n",
    "pendidikan_encoded = le.fit_transform(pdf['pendidikan'])\n",
    "pdf['pendidikan_encoded'] = pendidikan_encoded\n",
    "\n",
    "range_gaji_encoded = le.fit_transform(pdf['range_gaji'])\n",
    "pdf['range_gaji_encoded'] = range_gaji_encoded\n",
    "\n",
    "jk_encoded = le.fit_transform(pdf['jenis_kelamin'])\n",
    "pdf['jk_encoded'] = jk_encoded\n",
    "\n",
    "range_usia_encoded = le.fit_transform(pdf['range_usia'])\n",
    "pdf['range_usia_encoded'] = range_usia_encoded\n",
    "\n",
    "source_kyc_encoded = le.fit_transform(pdf['source_kyc'])\n",
    "pdf['source_kyc_encoded'] = source_kyc_encoded\n",
    "\n",
    "flag_encoded = le.fit_transform(pdf['flag'])\n",
    "pdf['flag_encoded'] = flag_encoded\n",
    "\n",
    "jenis_transaksi_encoded = le.fit_transform(pdf['jenis_transaksi'])\n",
    "pdf['jenis_transaksi_encoded'] = jenis_transaksi_encoded\n",
    "\n",
    "client_encoded = le.fit_transform(pdf['client'])\n",
    "pdf['client_encoded'] = client_encoded\n",
    "\n",
    "region_nm_encoded = le.fit_transform(pdf['region_nm'])\n",
    "pdf['region_nm_encoded'] = region_nm_encoded\n",
    "\n",
    "status_kyc_encoded = le.fit_transform(pdf['status_kyc'])\n",
    "pdf['status_kyc_encoded'] = status_kyc_encoded\n",
    "\n",
    "\n",
    "print(pdf)\n",
    "# pdf_label = le.fit_transform(pdf[['jenis_kelamin']])\n",
    "# pdf.head_label(100)"
   ]
  },
  {
   "cell_type": "code",
   "execution_count": 49,
   "metadata": {
    "ExecuteTime": {
     "end_time": "2021-11-11T06:50:23.006258Z",
     "start_time": "2021-11-11T06:50:22.087503Z"
    }
   },
   "outputs": [
    {
     "name": "stdout",
     "output_type": "stream",
     "text": [
      "<class 'pandas.core.frame.DataFrame'>\n",
      "Int64Index: 674547 entries, 24 to 1766557\n",
      "Data columns (total 30 columns):\n",
      " #   Column                   Non-Null Count   Dtype         \n",
      "---  ------                   --------------   -----         \n",
      " 0   jumlah_transaksi         674547 non-null  int64         \n",
      " 1   total_berat              674547 non-null  float64       \n",
      " 2   total_amount             674547 non-null  float64       \n",
      " 3   segmentasi               674547 non-null  object        \n",
      " 4   agama                    674547 non-null  object        \n",
      " 5   profesi                  674547 non-null  object        \n",
      " 6   pendidikan               674547 non-null  object        \n",
      " 7   range_gaji               674547 non-null  object        \n",
      " 8   jenis_kelamin            674547 non-null  object        \n",
      " 9   range_usia               674547 non-null  object        \n",
      " 10  status_kyc               674547 non-null  object        \n",
      " 11  source_kyc               674547 non-null  object        \n",
      " 12  flag                     674547 non-null  object        \n",
      " 13  tgl_transaksi            674547 non-null  datetime64[ns]\n",
      " 14  jenis_transaksi          674547 non-null  object        \n",
      " 15  client                   674547 non-null  object        \n",
      " 16  region_nm                674547 non-null  object        \n",
      " 17  segmentasi_encoded       674547 non-null  int64         \n",
      " 18  agama_encoded            674547 non-null  int64         \n",
      " 19  profesi_encoded          674547 non-null  int64         \n",
      " 20  pendidikan_encoded       674547 non-null  int64         \n",
      " 21  range_gaji_encoded       674547 non-null  int64         \n",
      " 22  jk_encoded               674547 non-null  int64         \n",
      " 23  range_usia_encoded       674547 non-null  int64         \n",
      " 24  source_kyc_encoded       674547 non-null  int64         \n",
      " 25  flag_encoded             674547 non-null  int64         \n",
      " 26  jenis_transaksi_encoded  674547 non-null  int64         \n",
      " 27  client_encoded           674547 non-null  int64         \n",
      " 28  region_nm_encoded        674547 non-null  int64         \n",
      " 29  status_kyc_encoded       674547 non-null  int64         \n",
      "dtypes: datetime64[ns](1), float64(2), int64(14), object(13)\n",
      "memory usage: 159.5+ MB\n"
     ]
    }
   ],
   "source": [
    "pdf.info()"
   ]
  },
  {
   "cell_type": "code",
   "execution_count": 24,
   "metadata": {
    "ExecuteTime": {
     "end_time": "2021-11-10T04:16:27.600388Z",
     "start_time": "2021-11-10T04:14:38.410913Z"
    }
   },
   "outputs": [],
   "source": [
    "# #Convert Pandas to PySpark (Spark) DataFrame\n",
    "\n",
    "\n",
    "# sparkDF=spark.createDataFrame(pdf) "
   ]
  },
  {
   "cell_type": "code",
   "execution_count": 50,
   "metadata": {
    "ExecuteTime": {
     "end_time": "2021-11-11T06:50:23.021659Z",
     "start_time": "2021-11-11T06:50:23.007923Z"
    }
   },
   "outputs": [
    {
     "ename": "NameError",
     "evalue": "name 'sparkDF' is not defined",
     "output_type": "error",
     "traceback": [
      "\u001b[0;31m---------------------------------------------------------------------------\u001b[0m",
      "\u001b[0;31mNameError\u001b[0m                                 Traceback (most recent call last)",
      "\u001b[0;32m<ipython-input-50-f67dd85a3116>\u001b[0m in \u001b[0;36m<module>\u001b[0;34m\u001b[0m\n\u001b[0;32m----> 1\u001b[0;31m \u001b[0msparkDF\u001b[0m\u001b[0;34m.\u001b[0m\u001b[0mshow\u001b[0m\u001b[0;34m(\u001b[0m\u001b[0;34m)\u001b[0m\u001b[0;34m\u001b[0m\u001b[0;34m\u001b[0m\u001b[0m\n\u001b[0m",
      "\u001b[0;31mNameError\u001b[0m: name 'sparkDF' is not defined"
     ]
    }
   ],
   "source": [
    "sparkDF.show()"
   ]
  },
  {
   "cell_type": "code",
   "execution_count": null,
   "metadata": {},
   "outputs": [],
   "source": [
    "#pilih variabel yang digunakan\n",
    "psparkDF="
   ]
  },
  {
   "cell_type": "code",
   "execution_count": null,
   "metadata": {
    "ExecuteTime": {
     "end_time": "2021-11-03T09:12:47.961606Z",
     "start_time": "2021-11-03T09:12:47.769960Z"
    }
   },
   "outputs": [],
   "source": [
    "cek = pdf.jumlah_transaksi\n",
    "cek"
   ]
  },
  {
   "cell_type": "code",
   "execution_count": null,
   "metadata": {
    "ExecuteTime": {
     "end_time": "2021-11-03T08:56:16.952842Z",
     "start_time": "2021-11-03T08:56:16.935035Z"
    },
    "scrolled": true
   },
   "outputs": [],
   "source": [
    "cek1 = pdf[['jumlah_transaksi']]\n",
    "cek1"
   ]
  },
  {
   "cell_type": "code",
   "execution_count": 51,
   "metadata": {
    "ExecuteTime": {
     "end_time": "2021-11-11T06:55:54.912992Z",
     "start_time": "2021-11-11T06:55:54.846080Z"
    }
   },
   "outputs": [
    {
     "data": {
      "text/html": [
       "<div>\n",
       "<style scoped>\n",
       "    .dataframe tbody tr th:only-of-type {\n",
       "        vertical-align: middle;\n",
       "    }\n",
       "\n",
       "    .dataframe tbody tr th {\n",
       "        vertical-align: top;\n",
       "    }\n",
       "\n",
       "    .dataframe thead th {\n",
       "        text-align: right;\n",
       "    }\n",
       "</style>\n",
       "<table border=\"1\" class=\"dataframe\">\n",
       "  <thead>\n",
       "    <tr style=\"text-align: right;\">\n",
       "      <th></th>\n",
       "      <th>jumlah_transaksi</th>\n",
       "      <th>total_berat</th>\n",
       "      <th>total_amount</th>\n",
       "      <th>segmentasi_encoded</th>\n",
       "      <th>agama_encoded</th>\n",
       "      <th>profesi_encoded</th>\n",
       "      <th>pendidikan_encoded</th>\n",
       "      <th>range_gaji_encoded</th>\n",
       "      <th>jk_encoded</th>\n",
       "      <th>range_usia_encoded</th>\n",
       "      <th>status_kyc_encoded</th>\n",
       "      <th>source_kyc_encoded</th>\n",
       "      <th>flag_encoded</th>\n",
       "      <th>jenis_transaksi_encoded</th>\n",
       "      <th>client_encoded</th>\n",
       "      <th>region_nm_encoded</th>\n",
       "    </tr>\n",
       "  </thead>\n",
       "  <tbody>\n",
       "    <tr>\n",
       "      <th>24</th>\n",
       "      <td>1</td>\n",
       "      <td>0.0140</td>\n",
       "      <td>9996.0</td>\n",
       "      <td>4</td>\n",
       "      <td>2</td>\n",
       "      <td>0</td>\n",
       "      <td>4</td>\n",
       "      <td>3</td>\n",
       "      <td>1</td>\n",
       "      <td>2</td>\n",
       "      <td>0</td>\n",
       "      <td>1</td>\n",
       "      <td>0</td>\n",
       "      <td>3</td>\n",
       "      <td>3</td>\n",
       "      <td>0</td>\n",
       "    </tr>\n",
       "    <tr>\n",
       "      <th>40</th>\n",
       "      <td>1</td>\n",
       "      <td>0.2805</td>\n",
       "      <td>199996.5</td>\n",
       "      <td>4</td>\n",
       "      <td>2</td>\n",
       "      <td>9</td>\n",
       "      <td>8</td>\n",
       "      <td>3</td>\n",
       "      <td>0</td>\n",
       "      <td>2</td>\n",
       "      <td>0</td>\n",
       "      <td>0</td>\n",
       "      <td>0</td>\n",
       "      <td>3</td>\n",
       "      <td>3</td>\n",
       "      <td>0</td>\n",
       "    </tr>\n",
       "    <tr>\n",
       "      <th>54</th>\n",
       "      <td>2</td>\n",
       "      <td>0.0224</td>\n",
       "      <td>20160.0</td>\n",
       "      <td>1</td>\n",
       "      <td>2</td>\n",
       "      <td>2</td>\n",
       "      <td>4</td>\n",
       "      <td>3</td>\n",
       "      <td>1</td>\n",
       "      <td>1</td>\n",
       "      <td>0</td>\n",
       "      <td>1</td>\n",
       "      <td>0</td>\n",
       "      <td>3</td>\n",
       "      <td>2</td>\n",
       "      <td>2</td>\n",
       "    </tr>\n",
       "    <tr>\n",
       "      <th>55</th>\n",
       "      <td>2</td>\n",
       "      <td>0.0228</td>\n",
       "      <td>20132.4</td>\n",
       "      <td>1</td>\n",
       "      <td>2</td>\n",
       "      <td>2</td>\n",
       "      <td>4</td>\n",
       "      <td>3</td>\n",
       "      <td>1</td>\n",
       "      <td>1</td>\n",
       "      <td>0</td>\n",
       "      <td>1</td>\n",
       "      <td>0</td>\n",
       "      <td>3</td>\n",
       "      <td>2</td>\n",
       "      <td>2</td>\n",
       "    </tr>\n",
       "    <tr>\n",
       "      <th>58</th>\n",
       "      <td>10</td>\n",
       "      <td>0.0100</td>\n",
       "      <td>8800.0</td>\n",
       "      <td>4</td>\n",
       "      <td>3</td>\n",
       "      <td>9</td>\n",
       "      <td>8</td>\n",
       "      <td>0</td>\n",
       "      <td>0</td>\n",
       "      <td>1</td>\n",
       "      <td>0</td>\n",
       "      <td>1</td>\n",
       "      <td>0</td>\n",
       "      <td>3</td>\n",
       "      <td>2</td>\n",
       "      <td>2</td>\n",
       "    </tr>\n",
       "    <tr>\n",
       "      <th>...</th>\n",
       "      <td>...</td>\n",
       "      <td>...</td>\n",
       "      <td>...</td>\n",
       "      <td>...</td>\n",
       "      <td>...</td>\n",
       "      <td>...</td>\n",
       "      <td>...</td>\n",
       "      <td>...</td>\n",
       "      <td>...</td>\n",
       "      <td>...</td>\n",
       "      <td>...</td>\n",
       "      <td>...</td>\n",
       "      <td>...</td>\n",
       "      <td>...</td>\n",
       "      <td>...</td>\n",
       "      <td>...</td>\n",
       "    </tr>\n",
       "    <tr>\n",
       "      <th>488</th>\n",
       "      <td>1</td>\n",
       "      <td>2.2076</td>\n",
       "      <td>2000085.6</td>\n",
       "      <td>1</td>\n",
       "      <td>2</td>\n",
       "      <td>9</td>\n",
       "      <td>8</td>\n",
       "      <td>5</td>\n",
       "      <td>1</td>\n",
       "      <td>1</td>\n",
       "      <td>0</td>\n",
       "      <td>1</td>\n",
       "      <td>0</td>\n",
       "      <td>3</td>\n",
       "      <td>3</td>\n",
       "      <td>0</td>\n",
       "    </tr>\n",
       "    <tr>\n",
       "      <th>495</th>\n",
       "      <td>1</td>\n",
       "      <td>0.0351</td>\n",
       "      <td>30010.5</td>\n",
       "      <td>4</td>\n",
       "      <td>2</td>\n",
       "      <td>0</td>\n",
       "      <td>8</td>\n",
       "      <td>3</td>\n",
       "      <td>1</td>\n",
       "      <td>2</td>\n",
       "      <td>0</td>\n",
       "      <td>1</td>\n",
       "      <td>0</td>\n",
       "      <td>0</td>\n",
       "      <td>3</td>\n",
       "      <td>0</td>\n",
       "    </tr>\n",
       "    <tr>\n",
       "      <th>504</th>\n",
       "      <td>13</td>\n",
       "      <td>0.0147</td>\n",
       "      <td>13274.1</td>\n",
       "      <td>4</td>\n",
       "      <td>2</td>\n",
       "      <td>0</td>\n",
       "      <td>8</td>\n",
       "      <td>5</td>\n",
       "      <td>1</td>\n",
       "      <td>1</td>\n",
       "      <td>0</td>\n",
       "      <td>1</td>\n",
       "      <td>0</td>\n",
       "      <td>3</td>\n",
       "      <td>2</td>\n",
       "      <td>2</td>\n",
       "    </tr>\n",
       "    <tr>\n",
       "      <th>507</th>\n",
       "      <td>38</td>\n",
       "      <td>0.4005</td>\n",
       "      <td>363333.6</td>\n",
       "      <td>4</td>\n",
       "      <td>2</td>\n",
       "      <td>0</td>\n",
       "      <td>8</td>\n",
       "      <td>0</td>\n",
       "      <td>1</td>\n",
       "      <td>1</td>\n",
       "      <td>0</td>\n",
       "      <td>1</td>\n",
       "      <td>0</td>\n",
       "      <td>3</td>\n",
       "      <td>2</td>\n",
       "      <td>2</td>\n",
       "    </tr>\n",
       "    <tr>\n",
       "      <th>515</th>\n",
       "      <td>1</td>\n",
       "      <td>0.0542</td>\n",
       "      <td>50080.8</td>\n",
       "      <td>4</td>\n",
       "      <td>2</td>\n",
       "      <td>2</td>\n",
       "      <td>8</td>\n",
       "      <td>0</td>\n",
       "      <td>0</td>\n",
       "      <td>1</td>\n",
       "      <td>0</td>\n",
       "      <td>1</td>\n",
       "      <td>0</td>\n",
       "      <td>3</td>\n",
       "      <td>2</td>\n",
       "      <td>8</td>\n",
       "    </tr>\n",
       "  </tbody>\n",
       "</table>\n",
       "<p>100 rows × 16 columns</p>\n",
       "</div>"
      ],
      "text/plain": [
       "     jumlah_transaksi  total_berat  total_amount  segmentasi_encoded  \\\n",
       "24                  1       0.0140        9996.0                   4   \n",
       "40                  1       0.2805      199996.5                   4   \n",
       "54                  2       0.0224       20160.0                   1   \n",
       "55                  2       0.0228       20132.4                   1   \n",
       "58                 10       0.0100        8800.0                   4   \n",
       "..                ...          ...           ...                 ...   \n",
       "488                 1       2.2076     2000085.6                   1   \n",
       "495                 1       0.0351       30010.5                   4   \n",
       "504                13       0.0147       13274.1                   4   \n",
       "507                38       0.4005      363333.6                   4   \n",
       "515                 1       0.0542       50080.8                   4   \n",
       "\n",
       "     agama_encoded  profesi_encoded  pendidikan_encoded  range_gaji_encoded  \\\n",
       "24               2                0                   4                   3   \n",
       "40               2                9                   8                   3   \n",
       "54               2                2                   4                   3   \n",
       "55               2                2                   4                   3   \n",
       "58               3                9                   8                   0   \n",
       "..             ...              ...                 ...                 ...   \n",
       "488              2                9                   8                   5   \n",
       "495              2                0                   8                   3   \n",
       "504              2                0                   8                   5   \n",
       "507              2                0                   8                   0   \n",
       "515              2                2                   8                   0   \n",
       "\n",
       "     jk_encoded  range_usia_encoded  status_kyc_encoded  source_kyc_encoded  \\\n",
       "24            1                   2                   0                   1   \n",
       "40            0                   2                   0                   0   \n",
       "54            1                   1                   0                   1   \n",
       "55            1                   1                   0                   1   \n",
       "58            0                   1                   0                   1   \n",
       "..          ...                 ...                 ...                 ...   \n",
       "488           1                   1                   0                   1   \n",
       "495           1                   2                   0                   1   \n",
       "504           1                   1                   0                   1   \n",
       "507           1                   1                   0                   1   \n",
       "515           0                   1                   0                   1   \n",
       "\n",
       "     flag_encoded  jenis_transaksi_encoded  client_encoded  region_nm_encoded  \n",
       "24              0                        3               3                  0  \n",
       "40              0                        3               3                  0  \n",
       "54              0                        3               2                  2  \n",
       "55              0                        3               2                  2  \n",
       "58              0                        3               2                  2  \n",
       "..            ...                      ...             ...                ...  \n",
       "488             0                        3               3                  0  \n",
       "495             0                        0               3                  0  \n",
       "504             0                        3               2                  2  \n",
       "507             0                        3               2                  2  \n",
       "515             0                        3               2                  8  \n",
       "\n",
       "[100 rows x 16 columns]"
      ]
     },
     "execution_count": 51,
     "metadata": {},
     "output_type": "execute_result"
    }
   ],
   "source": [
    "#choose data \n",
    "pdf_label=pdf[['jumlah_transaksi',\n",
    "'total_berat',\n",
    "'total_amount',\n",
    "'segmentasi_encoded',\n",
    "'agama_encoded',\n",
    "'profesi_encoded',\n",
    "'pendidikan_encoded',\n",
    "'range_gaji_encoded',\n",
    "'jk_encoded',\n",
    "'range_usia_encoded',\n",
    "'status_kyc_encoded',\n",
    "'source_kyc_encoded',\n",
    "'flag_encoded',\n",
    "'jenis_transaksi_encoded',\n",
    "'client_encoded',\n",
    "'region_nm_encoded']]\n",
    "pdf_label.head(100)\n"
   ]
  },
  {
   "cell_type": "markdown",
   "metadata": {},
   "source": [
    "# Normalisasi"
   ]
  },
  {
   "cell_type": "code",
   "execution_count": 52,
   "metadata": {
    "ExecuteTime": {
     "end_time": "2021-11-11T06:56:00.413865Z",
     "start_time": "2021-11-11T06:56:00.378657Z"
    }
   },
   "outputs": [
    {
     "name": "stdout",
     "output_type": "stream",
     "text": [
      "<class 'pandas.core.frame.DataFrame'>\n",
      "Int64Index: 674547 entries, 24 to 1766557\n",
      "Data columns (total 16 columns):\n",
      " #   Column                   Non-Null Count   Dtype  \n",
      "---  ------                   --------------   -----  \n",
      " 0   jumlah_transaksi         674547 non-null  int64  \n",
      " 1   total_berat              674547 non-null  float64\n",
      " 2   total_amount             674547 non-null  float64\n",
      " 3   segmentasi_encoded       674547 non-null  int64  \n",
      " 4   agama_encoded            674547 non-null  int64  \n",
      " 5   profesi_encoded          674547 non-null  int64  \n",
      " 6   pendidikan_encoded       674547 non-null  int64  \n",
      " 7   range_gaji_encoded       674547 non-null  int64  \n",
      " 8   jk_encoded               674547 non-null  int64  \n",
      " 9   range_usia_encoded       674547 non-null  int64  \n",
      " 10  status_kyc_encoded       674547 non-null  int64  \n",
      " 11  source_kyc_encoded       674547 non-null  int64  \n",
      " 12  flag_encoded             674547 non-null  int64  \n",
      " 13  jenis_transaksi_encoded  674547 non-null  int64  \n",
      " 14  client_encoded           674547 non-null  int64  \n",
      " 15  region_nm_encoded        674547 non-null  int64  \n",
      "dtypes: float64(2), int64(14)\n",
      "memory usage: 87.5 MB\n"
     ]
    }
   ],
   "source": [
    "pdf_label.info()"
   ]
  },
  {
   "cell_type": "code",
   "execution_count": 53,
   "metadata": {
    "ExecuteTime": {
     "end_time": "2021-11-11T06:56:02.946041Z",
     "start_time": "2021-11-11T06:56:02.942840Z"
    }
   },
   "outputs": [],
   "source": [
    "#https://stackoverflow.com/questions/24645153/pandas-dataframe-columns-scaling-with-sklearn\n",
    "from sklearn import preprocessing\n",
    "\n",
    "scaler = preprocessing.MinMaxScaler()\n",
    "\n",
    "min_max_scaler = preprocessing.MinMaxScaler()\n",
    "\n",
    "def scaleColumns(df, cols_to_scale):\n",
    "    for col in cols_to_scale:\n",
    "        df[col] = pd.DataFrame(min_max_scaler.fit_transform(pd.DataFrame(df[col])),columns=[col])\n",
    "    return df\n",
    "\n"
   ]
  },
  {
   "cell_type": "code",
   "execution_count": 54,
   "metadata": {
    "ExecuteTime": {
     "end_time": "2021-11-11T06:56:07.353194Z",
     "start_time": "2021-11-11T06:56:07.213687Z"
    }
   },
   "outputs": [
    {
     "name": "stderr",
     "output_type": "stream",
     "text": [
      "/usr/local/lib/python3.6/dist-packages/ipykernel_launcher.py:10: SettingWithCopyWarning: \n",
      "A value is trying to be set on a copy of a slice from a DataFrame.\n",
      "Try using .loc[row_indexer,col_indexer] = value instead\n",
      "\n",
      "See the caveats in the documentation: https://pandas.pydata.org/pandas-docs/stable/user_guide/indexing.html#returning-a-view-versus-a-copy\n",
      "  # Remove the CWD from sys.path while we load stuff.\n",
      "/usr/local/lib/python3.6/dist-packages/ipykernel_launcher.py:10: SettingWithCopyWarning: \n",
      "A value is trying to be set on a copy of a slice from a DataFrame.\n",
      "Try using .loc[row_indexer,col_indexer] = value instead\n",
      "\n",
      "See the caveats in the documentation: https://pandas.pydata.org/pandas-docs/stable/user_guide/indexing.html#returning-a-view-versus-a-copy\n",
      "  # Remove the CWD from sys.path while we load stuff.\n",
      "/usr/local/lib/python3.6/dist-packages/ipykernel_launcher.py:10: SettingWithCopyWarning: \n",
      "A value is trying to be set on a copy of a slice from a DataFrame.\n",
      "Try using .loc[row_indexer,col_indexer] = value instead\n",
      "\n",
      "See the caveats in the documentation: https://pandas.pydata.org/pandas-docs/stable/user_guide/indexing.html#returning-a-view-versus-a-copy\n",
      "  # Remove the CWD from sys.path while we load stuff.\n"
     ]
    },
    {
     "data": {
      "text/html": [
       "<div>\n",
       "<style scoped>\n",
       "    .dataframe tbody tr th:only-of-type {\n",
       "        vertical-align: middle;\n",
       "    }\n",
       "\n",
       "    .dataframe tbody tr th {\n",
       "        vertical-align: top;\n",
       "    }\n",
       "\n",
       "    .dataframe thead th {\n",
       "        text-align: right;\n",
       "    }\n",
       "</style>\n",
       "<table border=\"1\" class=\"dataframe\">\n",
       "  <thead>\n",
       "    <tr style=\"text-align: right;\">\n",
       "      <th></th>\n",
       "      <th>jumlah_transaksi</th>\n",
       "      <th>total_berat</th>\n",
       "      <th>total_amount</th>\n",
       "      <th>segmentasi_encoded</th>\n",
       "      <th>agama_encoded</th>\n",
       "      <th>profesi_encoded</th>\n",
       "      <th>pendidikan_encoded</th>\n",
       "      <th>range_gaji_encoded</th>\n",
       "      <th>jk_encoded</th>\n",
       "      <th>range_usia_encoded</th>\n",
       "      <th>status_kyc_encoded</th>\n",
       "      <th>source_kyc_encoded</th>\n",
       "      <th>flag_encoded</th>\n",
       "      <th>jenis_transaksi_encoded</th>\n",
       "      <th>client_encoded</th>\n",
       "      <th>region_nm_encoded</th>\n",
       "    </tr>\n",
       "  </thead>\n",
       "  <tbody>\n",
       "    <tr>\n",
       "      <th>24</th>\n",
       "      <td>0.000407</td>\n",
       "      <td>0.000042</td>\n",
       "      <td>0.000042</td>\n",
       "      <td>4</td>\n",
       "      <td>2</td>\n",
       "      <td>0</td>\n",
       "      <td>4</td>\n",
       "      <td>3</td>\n",
       "      <td>1</td>\n",
       "      <td>2</td>\n",
       "      <td>0</td>\n",
       "      <td>1</td>\n",
       "      <td>0</td>\n",
       "      <td>3</td>\n",
       "      <td>3</td>\n",
       "      <td>0</td>\n",
       "    </tr>\n",
       "    <tr>\n",
       "      <th>40</th>\n",
       "      <td>0.000610</td>\n",
       "      <td>0.000582</td>\n",
       "      <td>0.000571</td>\n",
       "      <td>4</td>\n",
       "      <td>2</td>\n",
       "      <td>9</td>\n",
       "      <td>8</td>\n",
       "      <td>3</td>\n",
       "      <td>0</td>\n",
       "      <td>2</td>\n",
       "      <td>0</td>\n",
       "      <td>0</td>\n",
       "      <td>0</td>\n",
       "      <td>3</td>\n",
       "      <td>3</td>\n",
       "      <td>0</td>\n",
       "    </tr>\n",
       "    <tr>\n",
       "      <th>54</th>\n",
       "      <td>0.000000</td>\n",
       "      <td>0.000006</td>\n",
       "      <td>0.000006</td>\n",
       "      <td>1</td>\n",
       "      <td>2</td>\n",
       "      <td>2</td>\n",
       "      <td>4</td>\n",
       "      <td>3</td>\n",
       "      <td>1</td>\n",
       "      <td>1</td>\n",
       "      <td>0</td>\n",
       "      <td>1</td>\n",
       "      <td>0</td>\n",
       "      <td>3</td>\n",
       "      <td>2</td>\n",
       "      <td>2</td>\n",
       "    </tr>\n",
       "    <tr>\n",
       "      <th>55</th>\n",
       "      <td>0.000000</td>\n",
       "      <td>0.000024</td>\n",
       "      <td>0.000026</td>\n",
       "      <td>1</td>\n",
       "      <td>2</td>\n",
       "      <td>2</td>\n",
       "      <td>4</td>\n",
       "      <td>3</td>\n",
       "      <td>1</td>\n",
       "      <td>1</td>\n",
       "      <td>0</td>\n",
       "      <td>1</td>\n",
       "      <td>0</td>\n",
       "      <td>3</td>\n",
       "      <td>2</td>\n",
       "      <td>2</td>\n",
       "    </tr>\n",
       "    <tr>\n",
       "      <th>58</th>\n",
       "      <td>0.000407</td>\n",
       "      <td>0.000007</td>\n",
       "      <td>0.000008</td>\n",
       "      <td>4</td>\n",
       "      <td>3</td>\n",
       "      <td>9</td>\n",
       "      <td>8</td>\n",
       "      <td>0</td>\n",
       "      <td>0</td>\n",
       "      <td>1</td>\n",
       "      <td>0</td>\n",
       "      <td>1</td>\n",
       "      <td>0</td>\n",
       "      <td>3</td>\n",
       "      <td>2</td>\n",
       "      <td>2</td>\n",
       "    </tr>\n",
       "  </tbody>\n",
       "</table>\n",
       "</div>"
      ],
      "text/plain": [
       "    jumlah_transaksi  total_berat  total_amount  segmentasi_encoded  \\\n",
       "24          0.000407     0.000042      0.000042                   4   \n",
       "40          0.000610     0.000582      0.000571                   4   \n",
       "54          0.000000     0.000006      0.000006                   1   \n",
       "55          0.000000     0.000024      0.000026                   1   \n",
       "58          0.000407     0.000007      0.000008                   4   \n",
       "\n",
       "    agama_encoded  profesi_encoded  pendidikan_encoded  range_gaji_encoded  \\\n",
       "24              2                0                   4                   3   \n",
       "40              2                9                   8                   3   \n",
       "54              2                2                   4                   3   \n",
       "55              2                2                   4                   3   \n",
       "58              3                9                   8                   0   \n",
       "\n",
       "    jk_encoded  range_usia_encoded  status_kyc_encoded  source_kyc_encoded  \\\n",
       "24           1                   2                   0                   1   \n",
       "40           0                   2                   0                   0   \n",
       "54           1                   1                   0                   1   \n",
       "55           1                   1                   0                   1   \n",
       "58           0                   1                   0                   1   \n",
       "\n",
       "    flag_encoded  jenis_transaksi_encoded  client_encoded  region_nm_encoded  \n",
       "24             0                        3               3                  0  \n",
       "40             0                        3               3                  0  \n",
       "54             0                        3               2                  2  \n",
       "55             0                        3               2                  2  \n",
       "58             0                        3               2                  2  "
      ]
     },
     "execution_count": 54,
     "metadata": {},
     "output_type": "execute_result"
    }
   ],
   "source": [
    "# scaled_df = scaleColumns(pdf,['jumlah_transaksi','total_berat','total_amount'])\n",
    "# scaled_df.head(5)\n",
    "\n",
    "scaled_df = scaleColumns(pdf_label,['jumlah_transaksi','total_berat','total_amount'])\n",
    "scaled_df.head()"
   ]
  },
  {
   "cell_type": "code",
   "execution_count": 55,
   "metadata": {
    "ExecuteTime": {
     "end_time": "2021-11-11T06:56:10.375514Z",
     "start_time": "2021-11-11T06:56:10.296681Z"
    }
   },
   "outputs": [
    {
     "name": "stderr",
     "output_type": "stream",
     "text": [
      "/usr/local/lib/python3.6/dist-packages/ipykernel_launcher.py:2: SettingWithCopyWarning: \n",
      "A value is trying to be set on a copy of a slice from a DataFrame\n",
      "\n",
      "See the caveats in the documentation: https://pandas.pydata.org/pandas-docs/stable/user_guide/indexing.html#returning-a-view-versus-a-copy\n",
      "  \n"
     ]
    }
   ],
   "source": [
    "#CLEAR NaN\n",
    "scaled_df.dropna(inplace=True)"
   ]
  },
  {
   "cell_type": "code",
   "execution_count": 56,
   "metadata": {
    "ExecuteTime": {
     "end_time": "2021-11-11T06:56:12.369071Z",
     "start_time": "2021-11-11T06:56:12.354221Z"
    }
   },
   "outputs": [
    {
     "name": "stdout",
     "output_type": "stream",
     "text": [
      "<class 'pandas.core.frame.DataFrame'>\n",
      "Int64Index: 257356 entries, 24 to 674546\n",
      "Data columns (total 16 columns):\n",
      " #   Column                   Non-Null Count   Dtype  \n",
      "---  ------                   --------------   -----  \n",
      " 0   jumlah_transaksi         257356 non-null  float64\n",
      " 1   total_berat              257356 non-null  float64\n",
      " 2   total_amount             257356 non-null  float64\n",
      " 3   segmentasi_encoded       257356 non-null  int64  \n",
      " 4   agama_encoded            257356 non-null  int64  \n",
      " 5   profesi_encoded          257356 non-null  int64  \n",
      " 6   pendidikan_encoded       257356 non-null  int64  \n",
      " 7   range_gaji_encoded       257356 non-null  int64  \n",
      " 8   jk_encoded               257356 non-null  int64  \n",
      " 9   range_usia_encoded       257356 non-null  int64  \n",
      " 10  status_kyc_encoded       257356 non-null  int64  \n",
      " 11  source_kyc_encoded       257356 non-null  int64  \n",
      " 12  flag_encoded             257356 non-null  int64  \n",
      " 13  jenis_transaksi_encoded  257356 non-null  int64  \n",
      " 14  client_encoded           257356 non-null  int64  \n",
      " 15  region_nm_encoded        257356 non-null  int64  \n",
      "dtypes: float64(3), int64(13)\n",
      "memory usage: 33.4 MB\n"
     ]
    }
   ],
   "source": [
    "scaled_df.info()"
   ]
  },
  {
   "cell_type": "code",
   "execution_count": null,
   "metadata": {
    "ExecuteTime": {
     "end_time": "2021-11-09T01:42:23.726268Z",
     "start_time": "2021-11-09T01:39:26.446Z"
    }
   },
   "outputs": [],
   "source": [
    "#Convert Pandas to PySpark (Spark) DataFrame\n",
    "sparkDF_label=spark.createDataFrame(pdf_label) \n",
    "sparkDF_label.show()\n",
    "\n"
   ]
  },
  {
   "cell_type": "code",
   "execution_count": null,
   "metadata": {
    "ExecuteTime": {
     "end_time": "2021-11-10T07:17:17.411967Z",
     "start_time": "2021-11-10T07:15:50.309Z"
    }
   },
   "outputs": [],
   "source": [
    "sparkDF_label=spark.createDataFrame(scaled_df) \n",
    "sparkDF_label.show()\n"
   ]
  },
  {
   "cell_type": "code",
   "execution_count": null,
   "metadata": {
    "ExecuteTime": {
     "end_time": "2021-11-05T08:49:42.612486Z",
     "start_time": "2021-11-05T08:49:42.604294Z"
    }
   },
   "outputs": [],
   "source": [
    "data1=sparkDF_label[['jumlah_transaksi',\n",
    "'status_kyc']]"
   ]
  },
  {
   "cell_type": "code",
   "execution_count": null,
   "metadata": {
    "ExecuteTime": {
     "end_time": "2021-11-05T07:43:40.413243Z",
     "start_time": "2021-11-05T07:43:40.405146Z"
    }
   },
   "outputs": [],
   "source": [
    "#two in one\n",
    "def get_dummy(df,indexCol,categoricalCols,continuousCols,labelCol,dropLast=False):\n",
    "\n",
    "    '''\n",
    "    Get dummy variables and concat with continuous variables for ml modeling.\n",
    "    :param df: the dataframe\n",
    "    :param categoricalCols: the name list of the categorical data\n",
    "    :param continuousCols:  the name list of the numerical data\n",
    "    :param labelCol:  the name of label column\n",
    "    :param dropLast:  the flag of drop last column\n",
    "    :return: feature matrix\n",
    "\n",
    "    :author: Wenqiang Feng\n",
    "    :email:  von198@gmail.com\n",
    "\n",
    "    >>> df = spark.createDataFrame([\n",
    "                  (0, \"a\"),\n",
    "                  (1, \"b\"),\n",
    "                  (2, \"c\"),\n",
    "                  (3, \"a\"),\n",
    "                  (4, \"a\"),\n",
    "                  (5, \"c\")\n",
    "              ], [\"id\", \"category\"])\n",
    "\n",
    "    >>> indexCol = 'id'\n",
    "    >>> categoricalCols = ['category']\n",
    "    >>> continuousCols = []\n",
    "    >>> labelCol = []\n",
    "\n",
    "    >>> mat = get_dummy(df,indexCol,categoricalCols,continuousCols,labelCol)\n",
    "    >>> mat.show()\n",
    "\n",
    "    >>>\n",
    "        +---+-------------+\n",
    "        | id|     features|\n",
    "        +---+-------------+\n",
    "        |  0|[1.0,0.0,0.0]|\n",
    "        |  1|[0.0,0.0,1.0]|\n",
    "        |  2|[0.0,1.0,0.0]|\n",
    "        |  3|[1.0,0.0,0.0]|\n",
    "        |  4|[1.0,0.0,0.0]|\n",
    "        |  5|[0.0,1.0,0.0]|\n",
    "        +---+-------------+\n",
    "    '''\n",
    "\n",
    "    from pyspark.ml import Pipeline\n",
    "    from pyspark.ml.feature import StringIndexer, OneHotEncoder, VectorAssembler\n",
    "    from pyspark.sql.functions import col\n",
    "\n",
    "    indexers = [ StringIndexer(inputCol=c, outputCol=\"{0}_indexed\".format(c))\n",
    "                 for c in categoricalCols ]\n",
    "\n",
    "    # default setting: dropLast=True\n",
    "    encoders = [ OneHotEncoder(inputCol=indexer.getOutputCol(),\n",
    "                 outputCol=\"{0}_encoded\".format(indexer.getOutputCol()),dropLast=dropLast)\n",
    "                 for indexer in indexers ]\n",
    "\n",
    "    assembler = VectorAssembler(inputCols=[encoder.getOutputCol() for encoder in encoders]\n",
    "                                + continuousCols, outputCol=\"features\")\n",
    "\n",
    "    pipeline = Pipeline(stages=indexers + encoders + [assembler])\n",
    "\n",
    "    model=pipeline.fit(df)\n",
    "    data = model.transform(df)\n",
    "\n",
    "    if indexCol and labelCol:\n",
    "        # for supervised learning\n",
    "        data = data.withColumn('label',col(labelCol))\n",
    "        return data.select(indexCol,'features','label')\n",
    "    elif not indexCol and labelCol:\n",
    "        # for supervised learning\n",
    "        data = data.withColumn('label',col(labelCol))\n",
    "        return data.select('features','label')\n",
    "    elif indexCol and not labelCol:\n",
    "        # for unsupervised learning\n",
    "        return data.select(indexCol,'features')\n",
    "    elif not indexCol and not labelCol:\n",
    "        # for unsupervised learning\n",
    "        return data.select('features')"
   ]
  },
  {
   "cell_type": "code",
   "execution_count": null,
   "metadata": {
    "ExecuteTime": {
     "end_time": "2021-11-05T08:51:34.704062Z",
     "start_time": "2021-11-05T08:51:34.701235Z"
    }
   },
   "outputs": [],
   "source": [
    " from pyspark.ml import Pipeline\n",
    "    from pyspark.ml.feature import StringIndexer, OneHotEncoder, VectorAssembler\n",
    "    from pyspark.sql.functions import col"
   ]
  },
  {
   "cell_type": "code",
   "execution_count": null,
   "metadata": {
    "ExecuteTime": {
     "end_time": "2021-11-05T08:49:49.265344Z",
     "start_time": "2021-11-05T08:49:49.260599Z"
    }
   },
   "outputs": [],
   "source": [
    "#unsupervised\n",
    "def get_dummy(df,indexCol,categoricalCols,continuousCols):\n",
    "    '''\n",
    "    Get dummy variables and concat with continuous variables for unsupervised learning.\n",
    "    :param df: the dataframe\n",
    "    :param categoricalCols: the name list of the categorical data\n",
    "    :param continuousCols:  the name list of the numerical data\n",
    "    :return k: feature matrix\n",
    "\n",
    "    :author: Wenqiang Feng\n",
    "    :email:  von198@gmail.com\n",
    "    '''\n",
    "\n",
    "    indexers = [ StringIndexer(inputCol=c, outputCol=\"{0}_indexed\".format(c))\n",
    "                 for c in categoricalCols ]\n",
    "\n",
    "    # default setting: dropLast=True\n",
    "    encoders = [ OneHotEncoder(inputCol=indexer.getOutputCol(),\n",
    "                 outputCol=\"{0}_encoded\".format(indexer.getOutputCol()))\n",
    "                 for indexer in indexers ]\n",
    "\n",
    "    assembler = VectorAssembler(inputCols=[encoder.getOutputCol() for encoder in encoders]\n",
    "                                + continuousCols, outputCol=\"features\")\n",
    "\n",
    "    pipeline = Pipeline(stages=indexers + encoders + [assembler])\n",
    "\n",
    "    model=pipeline.fit(df)\n",
    "    data = model.transform(df)\n",
    "\n",
    "    if indexCol:\n",
    "        return data.select(indexCol,'features')\n",
    "    else:\n",
    "        return data.select('features')"
   ]
  },
  {
   "cell_type": "code",
   "execution_count": null,
   "metadata": {
    "ExecuteTime": {
     "end_time": "2021-11-05T08:50:56.435424Z",
     "start_time": "2021-11-05T08:50:56.416969Z"
    }
   },
   "outputs": [],
   "source": [
    "#unsupervice\n",
    "get_dummy(data1,[],[\"jumlah_transaksi\"],[\"status_kyc\"])"
   ]
  },
  {
   "cell_type": "code",
   "execution_count": null,
   "metadata": {
    "ExecuteTime": {
     "end_time": "2021-11-05T08:35:24.408130Z",
     "start_time": "2021-11-05T08:35:24.382050Z"
    }
   },
   "outputs": [],
   "source": [
    "#two in one\n",
    "get_dummy(sparkDF_label,[],[['segmentasi_encoded','status_kyc']],['total_berat'],[])"
   ]
  },
  {
   "cell_type": "code",
   "execution_count": null,
   "metadata": {
    "ExecuteTime": {
     "end_time": "2021-11-03T04:58:15.845134Z",
     "start_time": "2021-11-03T04:58:15.829624Z"
    }
   },
   "outputs": [],
   "source": [
    "cat_pdf.head(20)"
   ]
  },
  {
   "cell_type": "code",
   "execution_count": null,
   "metadata": {
    "ExecuteTime": {
     "end_time": "2021-11-03T03:38:32.306877Z",
     "start_time": "2021-11-03T03:38:31.889143Z"
    }
   },
   "outputs": [],
   "source": [
    "cat2_pdf.info()"
   ]
  },
  {
   "cell_type": "markdown",
   "metadata": {},
   "source": [
    "# MODEL OLS"
   ]
  },
  {
   "cell_type": "code",
   "execution_count": 44,
   "metadata": {
    "ExecuteTime": {
     "end_time": "2021-11-09T07:44:24.569250Z",
     "start_time": "2021-11-09T07:44:24.549580Z"
    }
   },
   "outputs": [],
   "source": [
    "#memilik var indept & depent\n",
    "x=pdf_label[[\n",
    "'jumlah_transaksi',\n",
    "'agama_encoded',\n",
    "'profesi_encoded',\n",
    "'pendidikan_encoded',\n",
    "'range_gaji_encoded',\n",
    "'jk_encoded',\n",
    "'range_usia_encoded',\n",
    "'status_kyc',\n",
    "'client_encoded',\n",
    "'region_nm_encoded']]\n",
    "y=pdf_label['jumlah_transaksi']\n",
    "\n",
    "\n"
   ]
  },
  {
   "cell_type": "code",
   "execution_count": 38,
   "metadata": {
    "ExecuteTime": {
     "end_time": "2021-11-10T07:41:21.263166Z",
     "start_time": "2021-11-10T07:41:21.242151Z"
    }
   },
   "outputs": [],
   "source": [
    "x=scaled_df[[\n",
    "'jumlah_transaksi',\n",
    "    'total_berat',\n",
    "    'total_amount',\n",
    "'agama_encoded',\n",
    "'profesi_encoded',\n",
    "'pendidikan_encoded',\n",
    "'range_gaji_encoded',\n",
    "'jk_encoded',\n",
    "'range_usia_encoded',\n",
    "'status_kyc_encoded',\n",
    "'client_encoded',\n",
    "'region_nm_encoded']]\n",
    "y=scaled_df['jumlah_transaksi']\n",
    "\n"
   ]
  },
  {
   "cell_type": "code",
   "execution_count": 39,
   "metadata": {
    "ExecuteTime": {
     "end_time": "2021-11-10T07:41:24.582952Z",
     "start_time": "2021-11-10T07:41:24.572925Z"
    }
   },
   "outputs": [
    {
     "data": {
      "text/html": [
       "<div>\n",
       "<style scoped>\n",
       "    .dataframe tbody tr th:only-of-type {\n",
       "        vertical-align: middle;\n",
       "    }\n",
       "\n",
       "    .dataframe tbody tr th {\n",
       "        vertical-align: top;\n",
       "    }\n",
       "\n",
       "    .dataframe thead th {\n",
       "        text-align: right;\n",
       "    }\n",
       "</style>\n",
       "<table border=\"1\" class=\"dataframe\">\n",
       "  <thead>\n",
       "    <tr style=\"text-align: right;\">\n",
       "      <th></th>\n",
       "      <th>jumlah_transaksi</th>\n",
       "      <th>total_berat</th>\n",
       "      <th>total_amount</th>\n",
       "      <th>agama_encoded</th>\n",
       "      <th>profesi_encoded</th>\n",
       "      <th>pendidikan_encoded</th>\n",
       "      <th>range_gaji_encoded</th>\n",
       "      <th>jk_encoded</th>\n",
       "      <th>range_usia_encoded</th>\n",
       "      <th>status_kyc_encoded</th>\n",
       "      <th>client_encoded</th>\n",
       "      <th>region_nm_encoded</th>\n",
       "    </tr>\n",
       "  </thead>\n",
       "  <tbody>\n",
       "    <tr>\n",
       "      <th>24</th>\n",
       "      <td>0.000407</td>\n",
       "      <td>0.000042</td>\n",
       "      <td>0.000042</td>\n",
       "      <td>2</td>\n",
       "      <td>0</td>\n",
       "      <td>4</td>\n",
       "      <td>3</td>\n",
       "      <td>1</td>\n",
       "      <td>2</td>\n",
       "      <td>0</td>\n",
       "      <td>3</td>\n",
       "      <td>0</td>\n",
       "    </tr>\n",
       "    <tr>\n",
       "      <th>40</th>\n",
       "      <td>0.000610</td>\n",
       "      <td>0.000582</td>\n",
       "      <td>0.000571</td>\n",
       "      <td>2</td>\n",
       "      <td>9</td>\n",
       "      <td>8</td>\n",
       "      <td>3</td>\n",
       "      <td>0</td>\n",
       "      <td>2</td>\n",
       "      <td>0</td>\n",
       "      <td>3</td>\n",
       "      <td>0</td>\n",
       "    </tr>\n",
       "    <tr>\n",
       "      <th>54</th>\n",
       "      <td>0.000000</td>\n",
       "      <td>0.000006</td>\n",
       "      <td>0.000006</td>\n",
       "      <td>2</td>\n",
       "      <td>2</td>\n",
       "      <td>4</td>\n",
       "      <td>3</td>\n",
       "      <td>1</td>\n",
       "      <td>1</td>\n",
       "      <td>0</td>\n",
       "      <td>2</td>\n",
       "      <td>2</td>\n",
       "    </tr>\n",
       "    <tr>\n",
       "      <th>55</th>\n",
       "      <td>0.000000</td>\n",
       "      <td>0.000024</td>\n",
       "      <td>0.000026</td>\n",
       "      <td>2</td>\n",
       "      <td>2</td>\n",
       "      <td>4</td>\n",
       "      <td>3</td>\n",
       "      <td>1</td>\n",
       "      <td>1</td>\n",
       "      <td>0</td>\n",
       "      <td>2</td>\n",
       "      <td>2</td>\n",
       "    </tr>\n",
       "    <tr>\n",
       "      <th>58</th>\n",
       "      <td>0.000407</td>\n",
       "      <td>0.000007</td>\n",
       "      <td>0.000008</td>\n",
       "      <td>3</td>\n",
       "      <td>9</td>\n",
       "      <td>8</td>\n",
       "      <td>0</td>\n",
       "      <td>0</td>\n",
       "      <td>1</td>\n",
       "      <td>0</td>\n",
       "      <td>2</td>\n",
       "      <td>2</td>\n",
       "    </tr>\n",
       "  </tbody>\n",
       "</table>\n",
       "</div>"
      ],
      "text/plain": [
       "    jumlah_transaksi  total_berat  total_amount  agama_encoded  \\\n",
       "24          0.000407     0.000042      0.000042              2   \n",
       "40          0.000610     0.000582      0.000571              2   \n",
       "54          0.000000     0.000006      0.000006              2   \n",
       "55          0.000000     0.000024      0.000026              2   \n",
       "58          0.000407     0.000007      0.000008              3   \n",
       "\n",
       "    profesi_encoded  pendidikan_encoded  range_gaji_encoded  jk_encoded  \\\n",
       "24                0                   4                   3           1   \n",
       "40                9                   8                   3           0   \n",
       "54                2                   4                   3           1   \n",
       "55                2                   4                   3           1   \n",
       "58                9                   8                   0           0   \n",
       "\n",
       "    range_usia_encoded  status_kyc_encoded  client_encoded  region_nm_encoded  \n",
       "24                   2                   0               3                  0  \n",
       "40                   2                   0               3                  0  \n",
       "54                   1                   0               2                  2  \n",
       "55                   1                   0               2                  2  \n",
       "58                   1                   0               2                  2  "
      ]
     },
     "execution_count": 39,
     "metadata": {},
     "output_type": "execute_result"
    }
   ],
   "source": [
    "x.head(5)"
   ]
  },
  {
   "cell_type": "code",
   "execution_count": 40,
   "metadata": {
    "ExecuteTime": {
     "end_time": "2021-11-10T07:41:26.892836Z",
     "start_time": "2021-11-10T07:41:26.878944Z"
    }
   },
   "outputs": [
    {
     "name": "stdout",
     "output_type": "stream",
     "text": [
      "<class 'pandas.core.frame.DataFrame'>\n",
      "Int64Index: 257356 entries, 24 to 674546\n",
      "Data columns (total 12 columns):\n",
      " #   Column              Non-Null Count   Dtype  \n",
      "---  ------              --------------   -----  \n",
      " 0   jumlah_transaksi    257356 non-null  float64\n",
      " 1   total_berat         257356 non-null  float64\n",
      " 2   total_amount        257356 non-null  float64\n",
      " 3   agama_encoded       257356 non-null  int64  \n",
      " 4   profesi_encoded     257356 non-null  int64  \n",
      " 5   pendidikan_encoded  257356 non-null  int64  \n",
      " 6   range_gaji_encoded  257356 non-null  int64  \n",
      " 7   jk_encoded          257356 non-null  int64  \n",
      " 8   range_usia_encoded  257356 non-null  int64  \n",
      " 9   status_kyc_encoded  257356 non-null  int64  \n",
      " 10  client_encoded      257356 non-null  int64  \n",
      " 11  region_nm_encoded   257356 non-null  int64  \n",
      "dtypes: float64(3), int64(9)\n",
      "memory usage: 25.5 MB\n"
     ]
    }
   ],
   "source": [
    "x.info()"
   ]
  },
  {
   "cell_type": "code",
   "execution_count": 41,
   "metadata": {
    "ExecuteTime": {
     "end_time": "2021-11-10T07:41:29.172461Z",
     "start_time": "2021-11-10T07:41:29.056794Z"
    }
   },
   "outputs": [
    {
     "name": "stdout",
     "output_type": "stream",
     "text": [
      "                            OLS Regression Results                            \n",
      "==============================================================================\n",
      "Dep. Variable:            total_berat   R-squared:                       0.000\n",
      "Model:                            OLS   Adj. R-squared:                 -0.000\n",
      "Method:                 Least Squares   F-statistic:                    0.2850\n",
      "Date:                Wed, 10 Nov 2021   Prob (F-statistic):              0.752\n",
      "Time:                        14:41:29   Log-Likelihood:             1.0677e+06\n",
      "No. Observations:              257356   AIC:                        -2.135e+06\n",
      "Df Residuals:                  257353   BIC:                        -2.135e+06\n",
      "Df Model:                           2                                         \n",
      "Covariance Type:            nonrobust                                         \n",
      "======================================================================================\n",
      "                         coef    std err          t      P>|t|      [0.025      0.975]\n",
      "--------------------------------------------------------------------------------------\n",
      "Intercept              0.0005   3.77e-05     12.855      0.000       0.000       0.001\n",
      "status_kyc_encoded -1.431e-20   2.73e-22    -52.378      0.000   -1.48e-20   -1.38e-20\n",
      "client_encoded     -9.873e-06   1.49e-05     -0.663      0.507   -3.91e-05    1.93e-05\n",
      "region_nm_encoded   1.647e-07   1.78e-06      0.092      0.926   -3.33e-06    3.66e-06\n",
      "==============================================================================\n",
      "Omnibus:                   695930.873   Durbin-Watson:                   1.956\n",
      "Prob(Omnibus):                  0.000   Jarque-Bera (JB):      31173209237.198\n",
      "Skew:                          33.353   Prob(JB):                         0.00\n",
      "Kurtosis:                    1706.714   Cond. No.                     5.29e+18\n",
      "==============================================================================\n",
      "\n",
      "Notes:\n",
      "[1] Standard Errors assume that the covariance matrix of the errors is correctly specified.\n",
      "[2] The smallest eigenvalue is 4.87e-31. This might indicate that there are\n",
      "strong multicollinearity problems or that the design matrix is singular.\n"
     ]
    }
   ],
   "source": [
    "import statsmodels.formula.api as smf\n",
    "model = smf.ols('total_berat ~ status_kyc_encoded + client_encoded + region_nm_encoded', x).fit()\n",
    "print(model.summary())"
   ]
  },
  {
   "cell_type": "code",
   "execution_count": 42,
   "metadata": {
    "ExecuteTime": {
     "end_time": "2021-11-10T07:41:32.365370Z",
     "start_time": "2021-11-10T07:41:32.194139Z"
    }
   },
   "outputs": [
    {
     "name": "stdout",
     "output_type": "stream",
     "text": [
      "                            OLS Regression Results                            \n",
      "==============================================================================\n",
      "Dep. Variable:       jumlah_transaksi   R-squared:                       0.000\n",
      "Model:                            OLS   Adj. R-squared:                  0.000\n",
      "Method:                 Least Squares   F-statistic:                     1.426\n",
      "Date:                Wed, 10 Nov 2021   Prob (F-statistic):              0.222\n",
      "Time:                        14:41:32   Log-Likelihood:             7.4767e+05\n",
      "No. Observations:              257356   AIC:                        -1.495e+06\n",
      "Df Residuals:                  257351   BIC:                        -1.495e+06\n",
      "Df Model:                           4                                         \n",
      "Covariance Type:            nonrobust                                         \n",
      "======================================================================================\n",
      "                         coef    std err          t      P>|t|      [0.025      0.975]\n",
      "--------------------------------------------------------------------------------------\n",
      "Intercept              0.0009      0.000      6.461      0.000       0.001       0.001\n",
      "agama_encoded      -1.895e-05   1.17e-05     -1.615      0.106    -4.2e-05    4.05e-06\n",
      "profesi_encoded     6.293e-06   6.75e-06      0.932      0.351   -6.94e-06    1.95e-05\n",
      "pendidikan_encoded -1.447e-06   1.12e-05     -0.129      0.897   -2.34e-05    2.05e-05\n",
      "status_kyc_encoded          0          0        nan        nan           0           0\n",
      "client_encoded      6.866e-05   4.83e-05      1.422      0.155    -2.6e-05       0.000\n",
      "==============================================================================\n",
      "Omnibus:                   655616.582   Durbin-Watson:                   1.903\n",
      "Prob(Omnibus):                  0.000   Jarque-Bera (JB):      11911412720.689\n",
      "Skew:                          28.916   Prob(JB):                         0.00\n",
      "Kurtosis:                    1055.362   Cond. No.                          inf\n",
      "==============================================================================\n",
      "\n",
      "Notes:\n",
      "[1] Standard Errors assume that the covariance matrix of the errors is correctly specified.\n",
      "[2] The smallest eigenvalue is      0. This might indicate that there are\n",
      "strong multicollinearity problems or that the design matrix is singular.\n"
     ]
    },
    {
     "name": "stderr",
     "output_type": "stream",
     "text": [
      "/home/cdsw/.local/lib/python3.6/site-packages/statsmodels/regression/linear_model.py:1860: RuntimeWarning: divide by zero encountered in double_scalars\n",
      "  return np.sqrt(eigvals[0]/eigvals[-1])\n"
     ]
    }
   ],
   "source": [
    "model2 = smf.ols('jumlah_transaksi ~ agama_encoded + profesi_encoded + pendidikan_encoded +status_kyc_encoded + client_encoded', x).fit()\n",
    "print(model2.summary())"
   ]
  },
  {
   "cell_type": "code",
   "execution_count": 43,
   "metadata": {
    "ExecuteTime": {
     "end_time": "2021-11-10T07:41:35.485725Z",
     "start_time": "2021-11-10T07:41:35.391988Z"
    }
   },
   "outputs": [
    {
     "name": "stdout",
     "output_type": "stream",
     "text": [
      "                            OLS Regression Results                            \n",
      "==============================================================================\n",
      "Dep. Variable:            total_berat   R-squared:                       0.905\n",
      "Model:                            OLS   Adj. R-squared:                  0.905\n",
      "Method:                 Least Squares   F-statistic:                 1.230e+06\n",
      "Date:                Wed, 10 Nov 2021   Prob (F-statistic):               0.00\n",
      "Time:                        14:41:35   Log-Likelihood:             1.3710e+06\n",
      "No. Observations:              257356   AIC:                        -2.742e+06\n",
      "Df Residuals:                  257353   BIC:                        -2.742e+06\n",
      "Df Model:                           2                                         \n",
      "Covariance Type:            nonrobust                                         \n",
      "======================================================================================\n",
      "                         coef    std err          t      P>|t|      [0.025      0.975]\n",
      "--------------------------------------------------------------------------------------\n",
      "Intercept           4.004e-05   9.52e-06      4.207      0.000    2.14e-05    5.87e-05\n",
      "status_kyc_encoded  5.601e-17    3.6e-20   1554.214      0.000    5.59e-17    5.61e-17\n",
      "client_encoded      -4.96e-06   4.26e-06     -1.164      0.245   -1.33e-05    3.39e-06\n",
      "total_amount           1.0308      0.001   1568.351      0.000       1.030       1.032\n",
      "==============================================================================\n",
      "Omnibus:                   756969.040   Durbin-Watson:                   1.966\n",
      "Prob(Omnibus):                  0.000   Jarque-Bera (JB):   26667109046908.184\n",
      "Skew:                         -39.135   Prob(JB):                         0.00\n",
      "Kurtosis:                   49871.454   Cond. No.                     4.53e+19\n",
      "==============================================================================\n",
      "\n",
      "Notes:\n",
      "[1] Standard Errors assume that the covariance matrix of the errors is correctly specified.\n",
      "[2] The smallest eigenvalue is 7.45e-34. This might indicate that there are\n",
      "strong multicollinearity problems or that the design matrix is singular.\n"
     ]
    }
   ],
   "source": [
    "model3 = smf.ols('total_berat ~ status_kyc_encoded+client_encoded+total_amount', x).fit()\n",
    "print(model3.summary())"
   ]
  },
  {
   "cell_type": "code",
   "execution_count": 44,
   "metadata": {
    "ExecuteTime": {
     "end_time": "2021-11-10T07:41:37.775417Z",
     "start_time": "2021-11-10T07:41:37.706151Z"
    }
   },
   "outputs": [
    {
     "name": "stdout",
     "output_type": "stream",
     "text": [
      "                            OLS Regression Results                            \n",
      "==============================================================================\n",
      "Dep. Variable:            total_berat   R-squared:                       0.001\n",
      "Model:                            OLS   Adj. R-squared:                  0.001\n",
      "Method:                 Least Squares   F-statistic:                     137.8\n",
      "Date:                Wed, 10 Nov 2021   Prob (F-statistic):           8.41e-32\n",
      "Time:                        14:41:37   Log-Likelihood:             1.0678e+06\n",
      "No. Observations:              257356   AIC:                        -2.136e+06\n",
      "Df Residuals:                  257354   BIC:                        -2.136e+06\n",
      "Df Model:                           1                                         \n",
      "Covariance Type:            nonrobust                                         \n",
      "====================================================================================\n",
      "                       coef    std err          t      P>|t|      [0.025      0.975]\n",
      "------------------------------------------------------------------------------------\n",
      "Intercept            0.0005   7.55e-06     60.563      0.000       0.000       0.000\n",
      "jumlah_transaksi     0.0067      0.001     11.737      0.000       0.006       0.008\n",
      "==============================================================================\n",
      "Omnibus:                   696168.222   Durbin-Watson:                   1.956\n",
      "Prob(Omnibus):                  0.000   Jarque-Bera (JB):      31244712175.089\n",
      "Skew:                          33.383   Prob(JB):                         0.00\n",
      "Kurtosis:                    1708.667   Cond. No.                         75.5\n",
      "==============================================================================\n",
      "\n",
      "Notes:\n",
      "[1] Standard Errors assume that the covariance matrix of the errors is correctly specified.\n"
     ]
    }
   ],
   "source": [
    "model4 = smf.ols('total_berat ~ jumlah_transaksi', x).fit()\n",
    "print(model4.summary())"
   ]
  },
  {
   "cell_type": "code",
   "execution_count": 45,
   "metadata": {
    "ExecuteTime": {
     "end_time": "2021-11-10T07:41:39.937530Z",
     "start_time": "2021-11-10T07:41:39.865341Z"
    }
   },
   "outputs": [
    {
     "name": "stdout",
     "output_type": "stream",
     "text": [
      "                            OLS Regression Results                            \n",
      "==============================================================================\n",
      "Dep. Variable:            total_berat   R-squared:                       0.905\n",
      "Model:                            OLS   Adj. R-squared:                  0.905\n",
      "Method:                 Least Squares   F-statistic:                 2.460e+06\n",
      "Date:                Wed, 10 Nov 2021   Prob (F-statistic):               0.00\n",
      "Time:                        14:41:39   Log-Likelihood:             1.3710e+06\n",
      "No. Observations:              257356   AIC:                        -2.742e+06\n",
      "Df Residuals:                  257354   BIC:                        -2.742e+06\n",
      "Df Model:                           1                                         \n",
      "Covariance Type:            nonrobust                                         \n",
      "================================================================================\n",
      "                   coef    std err          t      P>|t|      [0.025      0.975]\n",
      "--------------------------------------------------------------------------------\n",
      "Intercept      2.93e-05   2.33e-06     12.559      0.000    2.47e-05    3.39e-05\n",
      "total_amount     1.0308      0.001   1568.352      0.000       1.030       1.032\n",
      "==============================================================================\n",
      "Omnibus:                   756955.322   Durbin-Watson:                   1.966\n",
      "Prob(Omnibus):                  0.000   Jarque-Bera (JB):   26666526870652.551\n",
      "Skew:                         -39.133   Prob(JB):                         0.00\n",
      "Kurtosis:                   49870.910   Cond. No.                         284.\n",
      "==============================================================================\n",
      "\n",
      "Notes:\n",
      "[1] Standard Errors assume that the covariance matrix of the errors is correctly specified.\n"
     ]
    }
   ],
   "source": [
    "model5 = smf.ols('total_berat ~ total_amount', x).fit()\n",
    "print(model5.summary())"
   ]
  },
  {
   "cell_type": "code",
   "execution_count": 46,
   "metadata": {
    "ExecuteTime": {
     "end_time": "2021-11-10T07:41:42.329269Z",
     "start_time": "2021-11-10T07:41:42.261290Z"
    }
   },
   "outputs": [
    {
     "name": "stdout",
     "output_type": "stream",
     "text": [
      "                            OLS Regression Results                            \n",
      "==============================================================================\n",
      "Dep. Variable:            total_berat   R-squared:                       0.000\n",
      "Model:                            OLS   Adj. R-squared:                  0.000\n",
      "Method:                 Least Squares   F-statistic:                     1.440\n",
      "Date:                Wed, 10 Nov 2021   Prob (F-statistic):              0.230\n",
      "Time:                        14:41:42   Log-Likelihood:             1.0677e+06\n",
      "No. Observations:              257356   AIC:                        -2.135e+06\n",
      "Df Residuals:                  257354   BIC:                        -2.135e+06\n",
      "Df Model:                           1                                         \n",
      "Covariance Type:            nonrobust                                         \n",
      "=================================================================================\n",
      "                    coef    std err          t      P>|t|      [0.025      0.975]\n",
      "---------------------------------------------------------------------------------\n",
      "Intercept         0.0005   1.23e-05     36.842      0.000       0.000       0.000\n",
      "agama_encoded  4.056e-06   3.38e-06      1.200      0.230   -2.57e-06    1.07e-05\n",
      "==============================================================================\n",
      "Omnibus:                   695931.392   Durbin-Watson:                   1.956\n",
      "Prob(Omnibus):                  0.000   Jarque-Bera (JB):      31173200393.120\n",
      "Skew:                          33.353   Prob(JB):                         0.00\n",
      "Kurtosis:                    1706.713   Cond. No.                         6.21\n",
      "==============================================================================\n",
      "\n",
      "Notes:\n",
      "[1] Standard Errors assume that the covariance matrix of the errors is correctly specified.\n"
     ]
    }
   ],
   "source": [
    "model6 = smf.ols('total_berat ~ agama_encoded', x).fit()\n",
    "print(model6.summary())"
   ]
  },
  {
   "cell_type": "code",
   "execution_count": 47,
   "metadata": {
    "ExecuteTime": {
     "end_time": "2021-11-10T07:41:44.613986Z",
     "start_time": "2021-11-10T07:41:44.532837Z"
    }
   },
   "outputs": [
    {
     "name": "stdout",
     "output_type": "stream",
     "text": [
      "                            OLS Regression Results                            \n",
      "==============================================================================\n",
      "Dep. Variable:            total_berat   R-squared:                       0.000\n",
      "Model:                            OLS   Adj. R-squared:                 -0.000\n",
      "Method:                 Least Squares   F-statistic:                   0.01201\n",
      "Date:                Wed, 10 Nov 2021   Prob (F-statistic):              0.913\n",
      "Time:                        14:41:44   Log-Likelihood:             1.0677e+06\n",
      "No. Observations:              257356   AIC:                        -2.135e+06\n",
      "Df Residuals:                  257354   BIC:                        -2.135e+06\n",
      "Df Model:                           1                                         \n",
      "Covariance Type:            nonrobust                                         \n",
      "===================================================================================\n",
      "                      coef    std err          t      P>|t|      [0.025      0.975]\n",
      "-----------------------------------------------------------------------------------\n",
      "Intercept           0.0005   1.08e-05     42.817      0.000       0.000       0.000\n",
      "profesi_encoded  2.126e-07   1.94e-06      0.110      0.913   -3.59e-06    4.02e-06\n",
      "==============================================================================\n",
      "Omnibus:                   695929.605   Durbin-Watson:                   1.956\n",
      "Prob(Omnibus):                  0.000   Jarque-Bera (JB):      31172163850.708\n",
      "Skew:                          33.353   Prob(JB):                         0.00\n",
      "Kurtosis:                    1706.685   Cond. No.                         8.14\n",
      "==============================================================================\n",
      "\n",
      "Notes:\n",
      "[1] Standard Errors assume that the covariance matrix of the errors is correctly specified.\n"
     ]
    }
   ],
   "source": [
    "model7 = smf.ols('total_berat ~ profesi_encoded', x).fit()\n",
    "print(model7.summary())"
   ]
  },
  {
   "cell_type": "code",
   "execution_count": 48,
   "metadata": {
    "ExecuteTime": {
     "end_time": "2021-11-10T07:41:46.847916Z",
     "start_time": "2021-11-10T07:41:46.770810Z"
    }
   },
   "outputs": [
    {
     "name": "stdout",
     "output_type": "stream",
     "text": [
      "                            OLS Regression Results                            \n",
      "==============================================================================\n",
      "Dep. Variable:            total_berat   R-squared:                       0.000\n",
      "Model:                            OLS   Adj. R-squared:                 -0.000\n",
      "Method:                 Least Squares   F-statistic:                    0.2244\n",
      "Date:                Wed, 10 Nov 2021   Prob (F-statistic):              0.636\n",
      "Time:                        14:41:46   Log-Likelihood:             1.0677e+06\n",
      "No. Observations:              257356   AIC:                        -2.135e+06\n",
      "Df Residuals:                  257354   BIC:                        -2.135e+06\n",
      "Df Model:                           1                                         \n",
      "Covariance Type:            nonrobust                                         \n",
      "======================================================================================\n",
      "                         coef    std err          t      P>|t|      [0.025      0.975]\n",
      "--------------------------------------------------------------------------------------\n",
      "Intercept              0.0005   1.21e-05     38.001      0.000       0.000       0.000\n",
      "range_gaji_encoded  2.038e-06    4.3e-06      0.474      0.636   -6.39e-06    1.05e-05\n",
      "==============================================================================\n",
      "Omnibus:                   695928.340   Durbin-Watson:                   1.956\n",
      "Prob(Omnibus):                  0.000   Jarque-Bera (JB):      31171694261.844\n",
      "Skew:                          33.353   Prob(JB):                         0.00\n",
      "Kurtosis:                    1706.672   Cond. No.                         4.88\n",
      "==============================================================================\n",
      "\n",
      "Notes:\n",
      "[1] Standard Errors assume that the covariance matrix of the errors is correctly specified.\n"
     ]
    }
   ],
   "source": [
    "model8 = smf.ols('total_berat ~ range_gaji_encoded', x).fit()\n",
    "print(model8.summary())"
   ]
  },
  {
   "cell_type": "code",
   "execution_count": 49,
   "metadata": {
    "ExecuteTime": {
     "end_time": "2021-11-10T07:41:49.865700Z",
     "start_time": "2021-11-10T07:41:49.795147Z"
    }
   },
   "outputs": [
    {
     "name": "stdout",
     "output_type": "stream",
     "text": [
      "                            OLS Regression Results                            \n",
      "==============================================================================\n",
      "Dep. Variable:            total_berat   R-squared:                       0.000\n",
      "Model:                            OLS   Adj. R-squared:                  0.000\n",
      "Method:                 Least Squares   F-statistic:                     1.145\n",
      "Date:                Wed, 10 Nov 2021   Prob (F-statistic):              0.285\n",
      "Time:                        14:41:49   Log-Likelihood:             1.0677e+06\n",
      "No. Observations:              257356   AIC:                        -2.135e+06\n",
      "Df Residuals:                  257354   BIC:                        -2.135e+06\n",
      "Df Model:                           1                                         \n",
      "Covariance Type:            nonrobust                                         \n",
      "======================================================================================\n",
      "                         coef    std err          t      P>|t|      [0.025      0.975]\n",
      "--------------------------------------------------------------------------------------\n",
      "Intercept              0.0005   2.14e-05     22.691      0.000       0.000       0.001\n",
      "pendidikan_encoded -3.444e-06   3.22e-06     -1.070      0.285   -9.75e-06    2.86e-06\n",
      "==============================================================================\n",
      "Omnibus:                   695931.032   Durbin-Watson:                   1.956\n",
      "Prob(Omnibus):                  0.000   Jarque-Bera (JB):      31173140522.632\n",
      "Skew:                          33.353   Prob(JB):                         0.00\n",
      "Kurtosis:                    1706.712   Cond. No.                         19.2\n",
      "==============================================================================\n",
      "\n",
      "Notes:\n",
      "[1] Standard Errors assume that the covariance matrix of the errors is correctly specified.\n"
     ]
    }
   ],
   "source": [
    "model9 = smf.ols('total_berat ~ pendidikan_encoded', x).fit()\n",
    "print(model9.summary())"
   ]
  },
  {
   "cell_type": "code",
   "execution_count": 50,
   "metadata": {
    "ExecuteTime": {
     "end_time": "2021-11-10T07:41:52.405960Z",
     "start_time": "2021-11-10T07:41:52.328954Z"
    }
   },
   "outputs": [
    {
     "name": "stdout",
     "output_type": "stream",
     "text": [
      "                            OLS Regression Results                            \n",
      "==============================================================================\n",
      "Dep. Variable:            total_berat   R-squared:                      -0.000\n",
      "Model:                            OLS   Adj. R-squared:                 -0.000\n",
      "Method:                 Least Squares   F-statistic:                       nan\n",
      "Date:                Wed, 10 Nov 2021   Prob (F-statistic):                nan\n",
      "Time:                        14:41:52   Log-Likelihood:             1.0677e+06\n",
      "No. Observations:              257356   AIC:                        -2.135e+06\n",
      "Df Residuals:                  257355   BIC:                        -2.135e+06\n",
      "Df Model:                           0                                         \n",
      "Covariance Type:            nonrobust                                         \n",
      "======================================================================================\n",
      "                         coef    std err          t      P>|t|      [0.025      0.975]\n",
      "--------------------------------------------------------------------------------------\n",
      "Intercept              0.0005   7.53e-06     61.605      0.000       0.000       0.000\n",
      "status_kyc_encoded          0          0        nan        nan           0           0\n",
      "==============================================================================\n",
      "Omnibus:                   695929.373   Durbin-Watson:                   1.956\n",
      "Prob(Omnibus):                  0.000   Jarque-Bera (JB):      31172031667.124\n",
      "Skew:                          33.353   Prob(JB):                         0.00\n",
      "Kurtosis:                    1706.681   Cond. No.                          inf\n",
      "==============================================================================\n",
      "\n",
      "Notes:\n",
      "[1] Standard Errors assume that the covariance matrix of the errors is correctly specified.\n",
      "[2] The smallest eigenvalue is      0. This might indicate that there are\n",
      "strong multicollinearity problems or that the design matrix is singular.\n"
     ]
    },
    {
     "name": "stderr",
     "output_type": "stream",
     "text": [
      "/home/cdsw/.local/lib/python3.6/site-packages/statsmodels/regression/linear_model.py:1860: RuntimeWarning: divide by zero encountered in double_scalars\n",
      "  return np.sqrt(eigvals[0]/eigvals[-1])\n"
     ]
    }
   ],
   "source": [
    "model10 = smf.ols('total_berat ~ status_kyc_encoded', x).fit()\n",
    "print(model10.summary())"
   ]
  },
  {
   "cell_type": "code",
   "execution_count": null,
   "metadata": {},
   "outputs": [],
   "source": []
  },
  {
   "cell_type": "code",
   "execution_count": null,
   "metadata": {},
   "outputs": [],
   "source": [
    "jumlah_transaksi+\n",
    "    total_berat+\n",
    "    total_amount+\n",
    "agama_encoded+\n",
    "profesi_encoded+\n",
    "pendidikan_encoded+\n",
    "range_gaji_encoded+\n",
    "jk_encoded+\n",
    "range_usia_encoded+\n",
    "status_kyc_encoded+\n",
    "client_encoded+\n",
    "region_nm_encoded\n",
    "\n"
   ]
  },
  {
   "cell_type": "code",
   "execution_count": null,
   "metadata": {
    "ExecuteTime": {
     "end_time": "2021-11-05T07:29:40.293609Z",
     "start_time": "2021-11-05T07:29:40.285433Z"
    }
   },
   "outputs": [],
   "source": [
    "print(x)"
   ]
  },
  {
   "cell_type": "code",
   "execution_count": null,
   "metadata": {},
   "outputs": [],
   "source": [
    "plt.plot(x, regr.predict(x), color='blue', linewidth=3)"
   ]
  },
  {
   "cell_type": "code",
   "execution_count": null,
   "metadata": {
    "ExecuteTime": {
     "end_time": "2021-11-05T06:28:23.804152Z",
     "start_time": "2021-11-05T06:28:20.792643Z"
    }
   },
   "outputs": [],
   "source": [
    "#regresi liniear\n",
    "import numpy as np\n",
    "from sklearn.linear_model import LinearRegression\n",
    "model = LinearRegression()\n",
    "model.fit(x, y)\n",
    "model = LinearRegression().fit(x, y)\n",
    "r_sq = model.score(x, y)\n",
    "print('coefficient of determination:', r_sq)"
   ]
  },
  {
   "cell_type": "code",
   "execution_count": null,
   "metadata": {
    "ExecuteTime": {
     "end_time": "2021-11-05T06:30:09.873456Z",
     "start_time": "2021-11-05T06:30:09.870403Z"
    }
   },
   "outputs": [],
   "source": [
    "print('intercept:', model.intercept_)"
   ]
  },
  {
   "cell_type": "code",
   "execution_count": null,
   "metadata": {
    "ExecuteTime": {
     "end_time": "2021-11-05T06:30:12.215983Z",
     "start_time": "2021-11-05T06:30:12.213056Z"
    }
   },
   "outputs": [],
   "source": [
    "print('slope:', model.coef_)"
   ]
  },
  {
   "cell_type": "code",
   "execution_count": null,
   "metadata": {
    "ExecuteTime": {
     "end_time": "2021-11-05T06:30:37.703415Z",
     "start_time": "2021-11-05T06:30:36.996782Z"
    }
   },
   "outputs": [],
   "source": [
    " y_pred = model.predict(x)\n",
    "print('predicted response:', y_pred, sep='\\n')"
   ]
  },
  {
   "cell_type": "code",
   "execution_count": null,
   "metadata": {
    "ExecuteTime": {
     "end_time": "2021-11-05T06:32:23.951490Z",
     "start_time": "2021-11-05T06:32:23.944711Z"
    }
   },
   "outputs": [],
   "source": [
    "print(x)"
   ]
  },
  {
   "cell_type": "code",
   "execution_count": null,
   "metadata": {
    "ExecuteTime": {
     "end_time": "2021-11-05T06:30:53.940564Z",
     "start_time": "2021-11-05T06:30:53.383913Z"
    }
   },
   "outputs": [],
   "source": [
    " y_pred = model.intercept_ + np.sum(model.coef_ * x, axis=1)\n",
    "print('predicted response:', y_pred, sep='\\n')"
   ]
  },
  {
   "cell_type": "markdown",
   "metadata": {},
   "source": [
    "# LGBM"
   ]
  },
  {
   "cell_type": "code",
   "execution_count": 51,
   "metadata": {
    "ExecuteTime": {
     "end_time": "2021-11-10T07:42:11.706783Z",
     "start_time": "2021-11-10T07:42:11.678378Z"
    }
   },
   "outputs": [],
   "source": [
    "import lightgbm as lgb\n",
    "import pandas as pd\n",
    "import numpy as np\n",
    "from sklearn.model_selection import train_test_split\n",
    "from sklearn import metrics\n"
   ]
  },
  {
   "cell_type": "code",
   "execution_count": 52,
   "metadata": {
    "ExecuteTime": {
     "end_time": "2021-11-10T07:42:13.355917Z",
     "start_time": "2021-11-10T07:42:13.269154Z"
    }
   },
   "outputs": [],
   "source": [
    "#https://www.analyticsvidhya.com/blog/2021/08/complete-guide-on-how-to-use-lightgbm-in-python/\n",
    "\n",
    "# To define the input and output feature\n",
    "x = scaled_df.drop(['total_berat','status_kyc_encoded'],axis=1)\n",
    "y = scaled_df.total_berat\n",
    "# train and test split\n",
    "x_train,x_test,y_train,y_test = train_test_split(x,y,test_size=0.33,random_state=42)"
   ]
  },
  {
   "cell_type": "code",
   "execution_count": 53,
   "metadata": {
    "ExecuteTime": {
     "end_time": "2021-11-10T07:42:14.804574Z",
     "start_time": "2021-11-10T07:42:14.793987Z"
    }
   },
   "outputs": [
    {
     "data": {
      "text/html": [
       "<div>\n",
       "<style scoped>\n",
       "    .dataframe tbody tr th:only-of-type {\n",
       "        vertical-align: middle;\n",
       "    }\n",
       "\n",
       "    .dataframe tbody tr th {\n",
       "        vertical-align: top;\n",
       "    }\n",
       "\n",
       "    .dataframe thead th {\n",
       "        text-align: right;\n",
       "    }\n",
       "</style>\n",
       "<table border=\"1\" class=\"dataframe\">\n",
       "  <thead>\n",
       "    <tr style=\"text-align: right;\">\n",
       "      <th></th>\n",
       "      <th>jumlah_transaksi</th>\n",
       "      <th>total_amount</th>\n",
       "      <th>segmentasi_encoded</th>\n",
       "      <th>agama_encoded</th>\n",
       "      <th>profesi_encoded</th>\n",
       "      <th>pendidikan_encoded</th>\n",
       "      <th>range_gaji_encoded</th>\n",
       "      <th>jk_encoded</th>\n",
       "      <th>range_usia_encoded</th>\n",
       "      <th>source_kyc_encoded</th>\n",
       "      <th>flag_encoded</th>\n",
       "      <th>jenis_transaksi_encoded</th>\n",
       "      <th>client_encoded</th>\n",
       "      <th>region_nm_encoded</th>\n",
       "    </tr>\n",
       "  </thead>\n",
       "  <tbody>\n",
       "    <tr>\n",
       "      <th>257641</th>\n",
       "      <td>0.0</td>\n",
       "      <td>0.000011</td>\n",
       "      <td>1</td>\n",
       "      <td>2</td>\n",
       "      <td>2</td>\n",
       "      <td>8</td>\n",
       "      <td>3</td>\n",
       "      <td>0</td>\n",
       "      <td>1</td>\n",
       "      <td>1</td>\n",
       "      <td>0</td>\n",
       "      <td>3</td>\n",
       "      <td>2</td>\n",
       "      <td>9</td>\n",
       "    </tr>\n",
       "    <tr>\n",
       "      <th>486994</th>\n",
       "      <td>0.0</td>\n",
       "      <td>0.000005</td>\n",
       "      <td>4</td>\n",
       "      <td>2</td>\n",
       "      <td>11</td>\n",
       "      <td>8</td>\n",
       "      <td>3</td>\n",
       "      <td>0</td>\n",
       "      <td>1</td>\n",
       "      <td>0</td>\n",
       "      <td>0</td>\n",
       "      <td>3</td>\n",
       "      <td>2</td>\n",
       "      <td>2</td>\n",
       "    </tr>\n",
       "    <tr>\n",
       "      <th>646109</th>\n",
       "      <td>0.0</td>\n",
       "      <td>0.000002</td>\n",
       "      <td>4</td>\n",
       "      <td>3</td>\n",
       "      <td>9</td>\n",
       "      <td>8</td>\n",
       "      <td>3</td>\n",
       "      <td>1</td>\n",
       "      <td>2</td>\n",
       "      <td>1</td>\n",
       "      <td>0</td>\n",
       "      <td>3</td>\n",
       "      <td>2</td>\n",
       "      <td>5</td>\n",
       "    </tr>\n",
       "    <tr>\n",
       "      <th>269678</th>\n",
       "      <td>0.0</td>\n",
       "      <td>0.001842</td>\n",
       "      <td>4</td>\n",
       "      <td>2</td>\n",
       "      <td>9</td>\n",
       "      <td>8</td>\n",
       "      <td>5</td>\n",
       "      <td>0</td>\n",
       "      <td>1</td>\n",
       "      <td>1</td>\n",
       "      <td>0</td>\n",
       "      <td>3</td>\n",
       "      <td>2</td>\n",
       "      <td>5</td>\n",
       "    </tr>\n",
       "    <tr>\n",
       "      <th>78626</th>\n",
       "      <td>0.0</td>\n",
       "      <td>0.000003</td>\n",
       "      <td>1</td>\n",
       "      <td>2</td>\n",
       "      <td>1</td>\n",
       "      <td>8</td>\n",
       "      <td>3</td>\n",
       "      <td>1</td>\n",
       "      <td>1</td>\n",
       "      <td>1</td>\n",
       "      <td>0</td>\n",
       "      <td>3</td>\n",
       "      <td>2</td>\n",
       "      <td>9</td>\n",
       "    </tr>\n",
       "  </tbody>\n",
       "</table>\n",
       "</div>"
      ],
      "text/plain": [
       "        jumlah_transaksi  total_amount  segmentasi_encoded  agama_encoded  \\\n",
       "257641               0.0      0.000011                   1              2   \n",
       "486994               0.0      0.000005                   4              2   \n",
       "646109               0.0      0.000002                   4              3   \n",
       "269678               0.0      0.001842                   4              2   \n",
       "78626                0.0      0.000003                   1              2   \n",
       "\n",
       "        profesi_encoded  pendidikan_encoded  range_gaji_encoded  jk_encoded  \\\n",
       "257641                2                   8                   3           0   \n",
       "486994               11                   8                   3           0   \n",
       "646109                9                   8                   3           1   \n",
       "269678                9                   8                   5           0   \n",
       "78626                 1                   8                   3           1   \n",
       "\n",
       "        range_usia_encoded  source_kyc_encoded  flag_encoded  \\\n",
       "257641                   1                   1             0   \n",
       "486994                   1                   0             0   \n",
       "646109                   2                   1             0   \n",
       "269678                   1                   1             0   \n",
       "78626                    1                   1             0   \n",
       "\n",
       "        jenis_transaksi_encoded  client_encoded  region_nm_encoded  \n",
       "257641                        3               2                  9  \n",
       "486994                        3               2                  2  \n",
       "646109                        3               2                  5  \n",
       "269678                        3               2                  5  \n",
       "78626                         3               2                  9  "
      ]
     },
     "execution_count": 53,
     "metadata": {},
     "output_type": "execute_result"
    }
   ],
   "source": [
    "x_train.head()"
   ]
  },
  {
   "cell_type": "code",
   "execution_count": 54,
   "metadata": {
    "ExecuteTime": {
     "end_time": "2021-11-10T07:42:17.792339Z",
     "start_time": "2021-11-10T07:42:17.778225Z"
    }
   },
   "outputs": [
    {
     "data": {
      "text/plain": [
       "jumlah_transaksi           0.001000\n",
       "total_amount               0.000421\n",
       "segmentasi_encoded         3.369632\n",
       "agama_encoded              2.866912\n",
       "profesi_encoded            3.998827\n",
       "pendidikan_encoded         6.218005\n",
       "range_gaji_encoded         2.197384\n",
       "jk_encoded                 0.525020\n",
       "range_usia_encoded         1.508925\n",
       "source_kyc_encoded         0.942648\n",
       "flag_encoded               0.000000\n",
       "jenis_transaksi_encoded    2.872915\n",
       "client_encoded             2.164515\n",
       "region_nm_encoded          5.415032\n",
       "dtype: float64"
      ]
     },
     "execution_count": 54,
     "metadata": {},
     "output_type": "execute_result"
    }
   ],
   "source": [
    "x.mean()"
   ]
  },
  {
   "cell_type": "code",
   "execution_count": 55,
   "metadata": {
    "ExecuteTime": {
     "end_time": "2021-11-10T07:42:20.324893Z",
     "start_time": "2021-11-10T07:42:20.313051Z"
    }
   },
   "outputs": [
    {
     "data": {
      "text/plain": [
       "jumlah_transaksi            1.000000\n",
       "total_amount                0.373684\n",
       "segmentasi_encoded          7.000000\n",
       "agama_encoded               8.000000\n",
       "profesi_encoded            11.000000\n",
       "pendidikan_encoded          9.000000\n",
       "range_gaji_encoded          6.000000\n",
       "jk_encoded                  1.000000\n",
       "range_usia_encoded          5.000000\n",
       "source_kyc_encoded          1.000000\n",
       "flag_encoded                0.000000\n",
       "jenis_transaksi_encoded     4.000000\n",
       "client_encoded              3.000000\n",
       "region_nm_encoded          12.000000\n",
       "dtype: float64"
      ]
     },
     "execution_count": 55,
     "metadata": {},
     "output_type": "execute_result"
    }
   ],
   "source": [
    "x.max()"
   ]
  },
  {
   "cell_type": "code",
   "execution_count": 56,
   "metadata": {
    "ExecuteTime": {
     "end_time": "2021-11-10T07:42:24.413368Z",
     "start_time": "2021-11-10T07:42:24.401640Z"
    }
   },
   "outputs": [
    {
     "data": {
      "text/plain": [
       "jumlah_transaksi           0.0\n",
       "total_amount               0.0\n",
       "segmentasi_encoded         0.0\n",
       "agama_encoded              0.0\n",
       "profesi_encoded            0.0\n",
       "pendidikan_encoded         0.0\n",
       "range_gaji_encoded         0.0\n",
       "jk_encoded                 0.0\n",
       "range_usia_encoded         0.0\n",
       "source_kyc_encoded         0.0\n",
       "flag_encoded               0.0\n",
       "jenis_transaksi_encoded    0.0\n",
       "client_encoded             0.0\n",
       "region_nm_encoded          0.0\n",
       "dtype: float64"
      ]
     },
     "execution_count": 56,
     "metadata": {},
     "output_type": "execute_result"
    }
   ],
   "source": [
    "x.min()"
   ]
  },
  {
   "cell_type": "code",
   "execution_count": 57,
   "metadata": {
    "ExecuteTime": {
     "end_time": "2021-11-10T07:42:27.681781Z",
     "start_time": "2021-11-10T07:42:27.310157Z"
    }
   },
   "outputs": [
    {
     "ename": "ValueError",
     "evalue": "Unknown label type: 'continuous'",
     "output_type": "error",
     "traceback": [
      "\u001b[0;31m---------------------------------------------------------------------------\u001b[0m",
      "\u001b[0;31mValueError\u001b[0m                                Traceback (most recent call last)",
      "\u001b[0;32m<ipython-input-57-e1e5d3e09e15>\u001b[0m in \u001b[0;36m<module>\u001b[0;34m\u001b[0m\n\u001b[1;32m      1\u001b[0m \u001b[0mmodel\u001b[0m \u001b[0;34m=\u001b[0m \u001b[0mlgb\u001b[0m\u001b[0;34m.\u001b[0m\u001b[0mLGBMClassifier\u001b[0m\u001b[0;34m(\u001b[0m\u001b[0mlearning_rate\u001b[0m\u001b[0;34m=\u001b[0m\u001b[0;36m0.09\u001b[0m\u001b[0;34m,\u001b[0m\u001b[0mmax_depth\u001b[0m\u001b[0;34m=\u001b[0m\u001b[0;34m-\u001b[0m\u001b[0;36m5\u001b[0m\u001b[0;34m,\u001b[0m\u001b[0mrandom_state\u001b[0m\u001b[0;34m=\u001b[0m\u001b[0;36m42\u001b[0m\u001b[0;34m)\u001b[0m\u001b[0;34m\u001b[0m\u001b[0;34m\u001b[0m\u001b[0m\n\u001b[1;32m      2\u001b[0m model.fit(x_train,y_train,eval_set=[(x_test,y_test),(x_train,y_train)],\n\u001b[0;32m----> 3\u001b[0;31m           verbose=20,eval_metric='logloss')\n\u001b[0m",
      "\u001b[0;32m~/.local/lib/python3.6/site-packages/lightgbm/sklearn.py\u001b[0m in \u001b[0;36mfit\u001b[0;34m(self, X, y, sample_weight, init_score, eval_set, eval_names, eval_sample_weight, eval_class_weight, eval_init_score, eval_metric, early_stopping_rounds, verbose, feature_name, categorical_feature, callbacks, init_model)\u001b[0m\n\u001b[1;32m    801\u001b[0m         \u001b[0;34m\"\"\"Docstring is inherited from the LGBMModel.\"\"\"\u001b[0m\u001b[0;34m\u001b[0m\u001b[0;34m\u001b[0m\u001b[0m\n\u001b[1;32m    802\u001b[0m         \u001b[0m_LGBMAssertAllFinite\u001b[0m\u001b[0;34m(\u001b[0m\u001b[0my\u001b[0m\u001b[0;34m)\u001b[0m\u001b[0;34m\u001b[0m\u001b[0;34m\u001b[0m\u001b[0m\n\u001b[0;32m--> 803\u001b[0;31m         \u001b[0m_LGBMCheckClassificationTargets\u001b[0m\u001b[0;34m(\u001b[0m\u001b[0my\u001b[0m\u001b[0;34m)\u001b[0m\u001b[0;34m\u001b[0m\u001b[0;34m\u001b[0m\u001b[0m\n\u001b[0m\u001b[1;32m    804\u001b[0m         \u001b[0mself\u001b[0m\u001b[0;34m.\u001b[0m\u001b[0m_le\u001b[0m \u001b[0;34m=\u001b[0m \u001b[0m_LGBMLabelEncoder\u001b[0m\u001b[0;34m(\u001b[0m\u001b[0;34m)\u001b[0m\u001b[0;34m.\u001b[0m\u001b[0mfit\u001b[0m\u001b[0;34m(\u001b[0m\u001b[0my\u001b[0m\u001b[0;34m)\u001b[0m\u001b[0;34m\u001b[0m\u001b[0;34m\u001b[0m\u001b[0m\n\u001b[1;32m    805\u001b[0m         \u001b[0m_y\u001b[0m \u001b[0;34m=\u001b[0m \u001b[0mself\u001b[0m\u001b[0;34m.\u001b[0m\u001b[0m_le\u001b[0m\u001b[0;34m.\u001b[0m\u001b[0mtransform\u001b[0m\u001b[0;34m(\u001b[0m\u001b[0my\u001b[0m\u001b[0;34m)\u001b[0m\u001b[0;34m\u001b[0m\u001b[0;34m\u001b[0m\u001b[0m\n",
      "\u001b[0;32m~/.local/lib/python3.6/site-packages/sklearn/utils/multiclass.py\u001b[0m in \u001b[0;36mcheck_classification_targets\u001b[0;34m(y)\u001b[0m\n\u001b[1;32m    181\u001b[0m     if y_type not in ['binary', 'multiclass', 'multiclass-multioutput',\n\u001b[1;32m    182\u001b[0m                       'multilabel-indicator', 'multilabel-sequences']:\n\u001b[0;32m--> 183\u001b[0;31m         \u001b[0;32mraise\u001b[0m \u001b[0mValueError\u001b[0m\u001b[0;34m(\u001b[0m\u001b[0;34m\"Unknown label type: %r\"\u001b[0m \u001b[0;34m%\u001b[0m \u001b[0my_type\u001b[0m\u001b[0;34m)\u001b[0m\u001b[0;34m\u001b[0m\u001b[0;34m\u001b[0m\u001b[0m\n\u001b[0m\u001b[1;32m    184\u001b[0m \u001b[0;34m\u001b[0m\u001b[0m\n\u001b[1;32m    185\u001b[0m \u001b[0;34m\u001b[0m\u001b[0m\n",
      "\u001b[0;31mValueError\u001b[0m: Unknown label type: 'continuous'"
     ]
    }
   ],
   "source": [
    "model = lgb.LGBMClassifier(learning_rate=0.09,max_depth=-5,random_state=42)\n",
    "model.fit(x_train,y_train,eval_set=[(x_test,y_test),(x_train,y_train)],\n",
    "          verbose=20,eval_metric='logloss')"
   ]
  },
  {
   "cell_type": "code",
   "execution_count": 64,
   "metadata": {
    "ExecuteTime": {
     "end_time": "2021-11-10T03:01:59.483604Z",
     "start_time": "2021-11-10T03:01:59.459685Z"
    }
   },
   "outputs": [
    {
     "name": "stdout",
     "output_type": "stream",
     "text": [
      "<class 'pandas.core.frame.DataFrame'>\n",
      "Int64Index: 682487 entries, 24 to 1766557\n",
      "Data columns (total 14 columns):\n",
      " #   Column                   Non-Null Count   Dtype  \n",
      "---  ------                   --------------   -----  \n",
      " 0   jumlah_transaksi         263390 non-null  float64\n",
      " 1   total_amount             263390 non-null  float64\n",
      " 2   segmentasi_encoded       682487 non-null  int64  \n",
      " 3   agama_encoded            682487 non-null  int64  \n",
      " 4   profesi_encoded          682487 non-null  int64  \n",
      " 5   pendidikan_encoded       682487 non-null  int64  \n",
      " 6   range_gaji_encoded       682487 non-null  int64  \n",
      " 7   jk_encoded               682487 non-null  int64  \n",
      " 8   range_usia_encoded       682487 non-null  int64  \n",
      " 9   source_kyc_encoded       682487 non-null  int64  \n",
      " 10  flag_encoded             682487 non-null  int64  \n",
      " 11  jenis_transaksi_encoded  682487 non-null  int64  \n",
      " 12  client_encoded           682487 non-null  int64  \n",
      " 13  region_nm_encoded        682487 non-null  int64  \n",
      "dtypes: float64(2), int64(12)\n",
      "memory usage: 78.1 MB\n"
     ]
    }
   ],
   "source": [
    "x.info()"
   ]
  },
  {
   "cell_type": "code",
   "execution_count": 58,
   "metadata": {
    "ExecuteTime": {
     "end_time": "2021-11-10T07:55:27.205366Z",
     "start_time": "2021-11-10T07:55:27.195090Z"
    }
   },
   "outputs": [
    {
     "data": {
      "text/html": [
       "<div>\n",
       "<style scoped>\n",
       "    .dataframe tbody tr th:only-of-type {\n",
       "        vertical-align: middle;\n",
       "    }\n",
       "\n",
       "    .dataframe tbody tr th {\n",
       "        vertical-align: top;\n",
       "    }\n",
       "\n",
       "    .dataframe thead th {\n",
       "        text-align: right;\n",
       "    }\n",
       "</style>\n",
       "<table border=\"1\" class=\"dataframe\">\n",
       "  <thead>\n",
       "    <tr style=\"text-align: right;\">\n",
       "      <th></th>\n",
       "      <th>jumlah_transaksi</th>\n",
       "      <th>total_amount</th>\n",
       "      <th>segmentasi_encoded</th>\n",
       "      <th>agama_encoded</th>\n",
       "      <th>profesi_encoded</th>\n",
       "      <th>pendidikan_encoded</th>\n",
       "      <th>range_gaji_encoded</th>\n",
       "      <th>jk_encoded</th>\n",
       "      <th>range_usia_encoded</th>\n",
       "      <th>source_kyc_encoded</th>\n",
       "      <th>flag_encoded</th>\n",
       "      <th>jenis_transaksi_encoded</th>\n",
       "      <th>client_encoded</th>\n",
       "      <th>region_nm_encoded</th>\n",
       "    </tr>\n",
       "  </thead>\n",
       "  <tbody>\n",
       "    <tr>\n",
       "      <th>24</th>\n",
       "      <td>0.000407</td>\n",
       "      <td>0.000042</td>\n",
       "      <td>4</td>\n",
       "      <td>2</td>\n",
       "      <td>0</td>\n",
       "      <td>4</td>\n",
       "      <td>3</td>\n",
       "      <td>1</td>\n",
       "      <td>2</td>\n",
       "      <td>1</td>\n",
       "      <td>0</td>\n",
       "      <td>3</td>\n",
       "      <td>3</td>\n",
       "      <td>0</td>\n",
       "    </tr>\n",
       "    <tr>\n",
       "      <th>40</th>\n",
       "      <td>0.000610</td>\n",
       "      <td>0.000571</td>\n",
       "      <td>4</td>\n",
       "      <td>2</td>\n",
       "      <td>9</td>\n",
       "      <td>8</td>\n",
       "      <td>3</td>\n",
       "      <td>0</td>\n",
       "      <td>2</td>\n",
       "      <td>0</td>\n",
       "      <td>0</td>\n",
       "      <td>3</td>\n",
       "      <td>3</td>\n",
       "      <td>0</td>\n",
       "    </tr>\n",
       "    <tr>\n",
       "      <th>54</th>\n",
       "      <td>0.000000</td>\n",
       "      <td>0.000006</td>\n",
       "      <td>1</td>\n",
       "      <td>2</td>\n",
       "      <td>2</td>\n",
       "      <td>4</td>\n",
       "      <td>3</td>\n",
       "      <td>1</td>\n",
       "      <td>1</td>\n",
       "      <td>1</td>\n",
       "      <td>0</td>\n",
       "      <td>3</td>\n",
       "      <td>2</td>\n",
       "      <td>2</td>\n",
       "    </tr>\n",
       "    <tr>\n",
       "      <th>55</th>\n",
       "      <td>0.000000</td>\n",
       "      <td>0.000026</td>\n",
       "      <td>1</td>\n",
       "      <td>2</td>\n",
       "      <td>2</td>\n",
       "      <td>4</td>\n",
       "      <td>3</td>\n",
       "      <td>1</td>\n",
       "      <td>1</td>\n",
       "      <td>1</td>\n",
       "      <td>0</td>\n",
       "      <td>3</td>\n",
       "      <td>2</td>\n",
       "      <td>2</td>\n",
       "    </tr>\n",
       "    <tr>\n",
       "      <th>58</th>\n",
       "      <td>0.000407</td>\n",
       "      <td>0.000008</td>\n",
       "      <td>4</td>\n",
       "      <td>3</td>\n",
       "      <td>9</td>\n",
       "      <td>8</td>\n",
       "      <td>0</td>\n",
       "      <td>0</td>\n",
       "      <td>1</td>\n",
       "      <td>1</td>\n",
       "      <td>0</td>\n",
       "      <td>3</td>\n",
       "      <td>2</td>\n",
       "      <td>2</td>\n",
       "    </tr>\n",
       "  </tbody>\n",
       "</table>\n",
       "</div>"
      ],
      "text/plain": [
       "    jumlah_transaksi  total_amount  segmentasi_encoded  agama_encoded  \\\n",
       "24          0.000407      0.000042                   4              2   \n",
       "40          0.000610      0.000571                   4              2   \n",
       "54          0.000000      0.000006                   1              2   \n",
       "55          0.000000      0.000026                   1              2   \n",
       "58          0.000407      0.000008                   4              3   \n",
       "\n",
       "    profesi_encoded  pendidikan_encoded  range_gaji_encoded  jk_encoded  \\\n",
       "24                0                   4                   3           1   \n",
       "40                9                   8                   3           0   \n",
       "54                2                   4                   3           1   \n",
       "55                2                   4                   3           1   \n",
       "58                9                   8                   0           0   \n",
       "\n",
       "    range_usia_encoded  source_kyc_encoded  flag_encoded  \\\n",
       "24                   2                   1             0   \n",
       "40                   2                   0             0   \n",
       "54                   1                   1             0   \n",
       "55                   1                   1             0   \n",
       "58                   1                   1             0   \n",
       "\n",
       "    jenis_transaksi_encoded  client_encoded  region_nm_encoded  \n",
       "24                        3               3                  0  \n",
       "40                        3               3                  0  \n",
       "54                        3               2                  2  \n",
       "55                        3               2                  2  \n",
       "58                        3               2                  2  "
      ]
     },
     "execution_count": 58,
     "metadata": {},
     "output_type": "execute_result"
    }
   ],
   "source": [
    "x.head()"
   ]
  },
  {
   "cell_type": "code",
   "execution_count": null,
   "metadata": {},
   "outputs": [],
   "source": []
  },
  {
   "cell_type": "code",
   "execution_count": null,
   "metadata": {},
   "outputs": [],
   "source": []
  },
  {
   "cell_type": "code",
   "execution_count": null,
   "metadata": {},
   "outputs": [],
   "source": []
  },
  {
   "cell_type": "code",
   "execution_count": null,
   "metadata": {},
   "outputs": [],
   "source": []
  },
  {
   "cell_type": "code",
   "execution_count": null,
   "metadata": {},
   "outputs": [],
   "source": []
  },
  {
   "cell_type": "markdown",
   "metadata": {},
   "source": [
    "# CORRELATION"
   ]
  },
  {
   "cell_type": "code",
   "execution_count": null,
   "metadata": {},
   "outputs": [],
   "source": [
    "# Import required libraries\n",
    "from scipy.stats import kendalltau\n",
    "from scipy.stats import spearmanr"
   ]
  },
  {
   "cell_type": "code",
   "execution_count": null,
   "metadata": {},
   "outputs": [],
   "source": [
    "corr = pdf.corr()\n",
    "corr.style.background_gradient(cmap='coolwarm')"
   ]
  },
  {
   "cell_type": "markdown",
   "metadata": {},
   "source": [
    "### Spearman correlation"
   ]
  },
  {
   "cell_type": "code",
   "execution_count": null,
   "metadata": {
    "ExecuteTime": {
     "end_time": "2021-11-03T04:45:52.452147Z",
     "start_time": "2021-11-03T04:45:52.294224Z"
    }
   },
   "outputs": [],
   "source": [
    "# Calculating Spearman correlation\n",
    "corrs,_ = spearmanr(X, Y)\n",
    "print('spearman Rank correlation: %.3f' % corrs)"
   ]
  },
  {
   "cell_type": "markdown",
   "metadata": {},
   "source": [
    "### Kendall Rank correlation"
   ]
  },
  {
   "cell_type": "code",
   "execution_count": null,
   "metadata": {
    "ExecuteTime": {
     "end_time": "2021-11-03T04:45:55.697024Z",
     "start_time": "2021-11-03T04:45:55.589568Z"
    }
   },
   "outputs": [],
   "source": [
    "# Calculating Kendall Rank correlation\n",
    "corrk,_ = kendalltau(X, Y)\n",
    "print('Kendall Rank correlation: %.3f' % corrk)"
   ]
  },
  {
   "cell_type": "markdown",
   "metadata": {},
   "source": [
    "### Cramer's V"
   ]
  },
  {
   "cell_type": "code",
   "execution_count": null,
   "metadata": {
    "ExecuteTime": {
     "end_time": "2021-11-03T06:45:34.194214Z",
     "start_time": "2021-11-03T06:45:34.183341Z"
    }
   },
   "outputs": [],
   "source": [
    "def cramers_v(x, y):\n",
    "    confusion_matrix = pd.crosstab(x,y)\n",
    "    chi2 = scipy.stats.chi2_contingency(confusion_matrix)[0]\n",
    "    n = confusion_matrix.sum().sum()\n",
    "    phi2 = chi2/n\n",
    "    r,k = confusion_matrix.shape\n",
    "    phi2corr = max(0, phi2-((k-1)*(r-1))/(n-1))\n",
    "    rcorr = r-((r-1)**2)/(n-1)\n",
    "    kcorr = k-((k-1)**2)/(n-1)\n",
    "    return np.sqrt(phi2corr/min((kcorr-1),(rcorr-1)))"
   ]
  },
  {
   "cell_type": "code",
   "execution_count": null,
   "metadata": {
    "ExecuteTime": {
     "end_time": "2021-11-03T06:47:09.981604Z",
     "start_time": "2021-11-03T06:45:52.739175Z"
    },
    "scrolled": true
   },
   "outputs": [],
   "source": [
    "a=[]\n",
    "index=[]\n",
    "for i in range(0,len(cat2_pdf.columns)):\n",
    "  b=[]\n",
    "  for j in range(0,len(cat2_pdf.columns)):\n",
    "    c = cramers_v (cat2_pdf[cat2_pdf.columns[i]],cat2_pdf[cat2_pdf.columns[j]])\n",
    "    b.append(c)\n",
    "  a.append(b)\n",
    "  index.append(cat2_pdf.columns[i])"
   ]
  },
  {
   "cell_type": "code",
   "execution_count": null,
   "metadata": {
    "ExecuteTime": {
     "end_time": "2021-11-03T06:47:28.222284Z",
     "start_time": "2021-11-03T06:47:27.165914Z"
    }
   },
   "outputs": [],
   "source": [
    "df2 = DataFrame(np.array(a), index=index, columns=index)\n",
    "\n",
    "plt.figure(figsize = (10,6))\n",
    "sns.heatmap(df2, annot=True)\n",
    "plt.show()"
   ]
  },
  {
   "cell_type": "code",
   "execution_count": null,
   "metadata": {
    "ExecuteTime": {
     "end_time": "2021-11-03T08:57:14.519677Z",
     "start_time": "2021-11-03T08:57:14.416495Z"
    }
   },
   "outputs": [],
   "source": [
    "x1=pdf_label[['segmentasi_encoded',\n",
    "'status_kyc',\n",
    "'source_kyc_encoded',\n",
    "'flag_encoded',\n",
    "'client_encoded']]\n",
    "y1=pdf_label['jumlah_transaksi']"
   ]
  },
  {
   "cell_type": "code",
   "execution_count": null,
   "metadata": {
    "ExecuteTime": {
     "end_time": "2021-11-03T08:44:15.880018Z",
     "start_time": "2021-11-03T08:44:15.670275Z"
    }
   },
   "outputs": [],
   "source": [
    "y1"
   ]
  },
  {
   "cell_type": "code",
   "execution_count": null,
   "metadata": {
    "ExecuteTime": {
     "end_time": "2021-11-03T08:57:24.135793Z",
     "start_time": "2021-11-03T08:57:23.129473Z"
    }
   },
   "outputs": [],
   "source": [
    "x1_train, x1_test, y1_train, y1_test=train_test_split(x1, y1, random_state=0)"
   ]
  },
  {
   "cell_type": "code",
   "execution_count": null,
   "metadata": {
    "ExecuteTime": {
     "start_time": "2021-11-03T08:56:47.925Z"
    }
   },
   "outputs": [],
   "source": [
    "logreg = LogisticRegression().fit(x1_train,y1_train)\n",
    "logreg"
   ]
  },
  {
   "cell_type": "code",
   "execution_count": 136,
   "metadata": {
    "ExecuteTime": {
     "end_time": "2021-11-08T06:47:19.090868Z",
     "start_time": "2021-11-08T06:47:19.066540Z"
    }
   },
   "outputs": [
    {
     "ename": "NameError",
     "evalue": "name 'compare_models' is not defined",
     "output_type": "error",
     "traceback": [
      "\u001b[0;31m---------------------------------------------------------------------------\u001b[0m",
      "\u001b[0;31mNameError\u001b[0m                                 Traceback (most recent call last)",
      "\u001b[0;32m<ipython-input-136-9ff5ccfe3077>\u001b[0m in \u001b[0;36m<module>\u001b[0;34m\u001b[0m\n\u001b[0;32m----> 1\u001b[0;31m \u001b[0mcompare_models\u001b[0m\u001b[0;34m(\u001b[0m\u001b[0;34m)\u001b[0m\u001b[0;34m\u001b[0m\u001b[0;34m\u001b[0m\u001b[0m\n\u001b[0m",
      "\u001b[0;31mNameError\u001b[0m: name 'compare_models' is not defined"
     ]
    }
   ],
   "source": [
    "compare_models()"
   ]
  },
  {
   "cell_type": "markdown",
   "metadata": {},
   "source": [
    "### ANOVA"
   ]
  },
  {
   "cell_type": "code",
   "execution_count": 20,
   "metadata": {
    "ExecuteTime": {
     "end_time": "2021-11-11T06:48:23.390962Z",
     "start_time": "2021-11-11T06:48:12.723257Z"
    }
   },
   "outputs": [
    {
     "ename": "KeyboardInterrupt",
     "evalue": "",
     "output_type": "error",
     "traceback": [
      "\u001b[0;31m---------------------------------------------------------------------------\u001b[0m",
      "\u001b[0;31mKeyboardInterrupt\u001b[0m                         Traceback (most recent call last)",
      "\u001b[0;32m<ipython-input-20-853bb522cf39>\u001b[0m in \u001b[0;36m<module>\u001b[0;34m\u001b[0m\n\u001b[1;32m      1\u001b[0m \u001b[0;31m#https://github.com/saivishwanathgoud/ANOVA-Test-in-Python/blob/master/ANOVA%20prerequisties%20F-Test.ipynb\u001b[0m\u001b[0;34m\u001b[0m\u001b[0;34m\u001b[0m\u001b[0;34m\u001b[0m\u001b[0m\n\u001b[1;32m      2\u001b[0m \u001b[0;34m\u001b[0m\u001b[0m\n\u001b[0;32m----> 3\u001b[0;31m \u001b[0mpdf\u001b[0m\u001b[0;34m=\u001b[0m\u001b[0mkdf\u001b[0m\u001b[0;34m.\u001b[0m\u001b[0mto_pandas\u001b[0m\u001b[0;34m(\u001b[0m\u001b[0;34m)\u001b[0m\u001b[0;34m\u001b[0m\u001b[0;34m\u001b[0m\u001b[0m\n\u001b[0m",
      "\u001b[0;32m~/.local/lib/python3.6/site-packages/databricks/koalas/frame.py\u001b[0m in \u001b[0;36mto_pandas\u001b[0;34m(self)\u001b[0m\n\u001b[1;32m   4574\u001b[0m         \u001b[0;36m3\u001b[0m   \u001b[0;36m0.2\u001b[0m   \u001b[0;36m0.1\u001b[0m\u001b[0;34m\u001b[0m\u001b[0;34m\u001b[0m\u001b[0m\n\u001b[1;32m   4575\u001b[0m         \"\"\"\n\u001b[0;32m-> 4576\u001b[0;31m         \u001b[0;32mreturn\u001b[0m \u001b[0mself\u001b[0m\u001b[0;34m.\u001b[0m\u001b[0m_internal\u001b[0m\u001b[0;34m.\u001b[0m\u001b[0mto_pandas_frame\u001b[0m\u001b[0;34m.\u001b[0m\u001b[0mcopy\u001b[0m\u001b[0;34m(\u001b[0m\u001b[0;34m)\u001b[0m\u001b[0;34m\u001b[0m\u001b[0;34m\u001b[0m\u001b[0m\n\u001b[0m\u001b[1;32m   4577\u001b[0m \u001b[0;34m\u001b[0m\u001b[0m\n\u001b[1;32m   4578\u001b[0m     \u001b[0;31m# Alias to maintain backward compatibility with Spark\u001b[0m\u001b[0;34m\u001b[0m\u001b[0;34m\u001b[0m\u001b[0;34m\u001b[0m\u001b[0m\n",
      "\u001b[0;32m~/.local/lib/python3.6/site-packages/databricks/koalas/utils.py\u001b[0m in \u001b[0;36mwrapped_lazy_property\u001b[0;34m(self)\u001b[0m\n\u001b[1;32m    509\u001b[0m     \u001b[0;32mdef\u001b[0m \u001b[0mwrapped_lazy_property\u001b[0m\u001b[0;34m(\u001b[0m\u001b[0mself\u001b[0m\u001b[0;34m)\u001b[0m\u001b[0;34m:\u001b[0m\u001b[0;34m\u001b[0m\u001b[0;34m\u001b[0m\u001b[0m\n\u001b[1;32m    510\u001b[0m         \u001b[0;32mif\u001b[0m \u001b[0;32mnot\u001b[0m \u001b[0mhasattr\u001b[0m\u001b[0;34m(\u001b[0m\u001b[0mself\u001b[0m\u001b[0;34m,\u001b[0m \u001b[0mattr_name\u001b[0m\u001b[0;34m)\u001b[0m\u001b[0;34m:\u001b[0m\u001b[0;34m\u001b[0m\u001b[0;34m\u001b[0m\u001b[0m\n\u001b[0;32m--> 511\u001b[0;31m             \u001b[0msetattr\u001b[0m\u001b[0;34m(\u001b[0m\u001b[0mself\u001b[0m\u001b[0;34m,\u001b[0m \u001b[0mattr_name\u001b[0m\u001b[0;34m,\u001b[0m \u001b[0mfn\u001b[0m\u001b[0;34m(\u001b[0m\u001b[0mself\u001b[0m\u001b[0;34m)\u001b[0m\u001b[0;34m)\u001b[0m\u001b[0;34m\u001b[0m\u001b[0;34m\u001b[0m\u001b[0m\n\u001b[0m\u001b[1;32m    512\u001b[0m         \u001b[0;32mreturn\u001b[0m \u001b[0mgetattr\u001b[0m\u001b[0;34m(\u001b[0m\u001b[0mself\u001b[0m\u001b[0;34m,\u001b[0m \u001b[0mattr_name\u001b[0m\u001b[0;34m)\u001b[0m\u001b[0;34m\u001b[0m\u001b[0;34m\u001b[0m\u001b[0m\n\u001b[1;32m    513\u001b[0m \u001b[0;34m\u001b[0m\u001b[0m\n",
      "\u001b[0;32m~/.local/lib/python3.6/site-packages/databricks/koalas/internal.py\u001b[0m in \u001b[0;36mto_pandas_frame\u001b[0;34m(self)\u001b[0m\n\u001b[1;32m    816\u001b[0m         \u001b[0;34m\"\"\" Return as pandas DataFrame. \"\"\"\u001b[0m\u001b[0;34m\u001b[0m\u001b[0;34m\u001b[0m\u001b[0m\n\u001b[1;32m    817\u001b[0m         \u001b[0msdf\u001b[0m \u001b[0;34m=\u001b[0m \u001b[0mself\u001b[0m\u001b[0;34m.\u001b[0m\u001b[0mto_internal_spark_frame\u001b[0m\u001b[0;34m\u001b[0m\u001b[0;34m\u001b[0m\u001b[0m\n\u001b[0;32m--> 818\u001b[0;31m         \u001b[0mpdf\u001b[0m \u001b[0;34m=\u001b[0m \u001b[0msdf\u001b[0m\u001b[0;34m.\u001b[0m\u001b[0mtoPandas\u001b[0m\u001b[0;34m(\u001b[0m\u001b[0;34m)\u001b[0m\u001b[0;34m\u001b[0m\u001b[0;34m\u001b[0m\u001b[0m\n\u001b[0m\u001b[1;32m    819\u001b[0m         \u001b[0;32mif\u001b[0m \u001b[0mlen\u001b[0m\u001b[0;34m(\u001b[0m\u001b[0mpdf\u001b[0m\u001b[0;34m)\u001b[0m \u001b[0;34m==\u001b[0m \u001b[0;36m0\u001b[0m \u001b[0;32mand\u001b[0m \u001b[0mlen\u001b[0m\u001b[0;34m(\u001b[0m\u001b[0msdf\u001b[0m\u001b[0;34m.\u001b[0m\u001b[0mschema\u001b[0m\u001b[0;34m)\u001b[0m \u001b[0;34m>\u001b[0m \u001b[0;36m0\u001b[0m\u001b[0;34m:\u001b[0m\u001b[0;34m\u001b[0m\u001b[0;34m\u001b[0m\u001b[0m\n\u001b[1;32m    820\u001b[0m             pdf = pdf.astype(\n",
      "\u001b[0;32m/opt/cloudera/parcels/CDH/lib/spark/python/pyspark/sql/dataframe.py\u001b[0m in \u001b[0;36mtoPandas\u001b[0;34m(self)\u001b[0m\n\u001b[1;32m   2140\u001b[0m \u001b[0;34m\u001b[0m\u001b[0m\n\u001b[1;32m   2141\u001b[0m         \u001b[0;31m# Below is toPandas without Arrow optimization.\u001b[0m\u001b[0;34m\u001b[0m\u001b[0;34m\u001b[0m\u001b[0;34m\u001b[0m\u001b[0m\n\u001b[0;32m-> 2142\u001b[0;31m         \u001b[0mpdf\u001b[0m \u001b[0;34m=\u001b[0m \u001b[0mpd\u001b[0m\u001b[0;34m.\u001b[0m\u001b[0mDataFrame\u001b[0m\u001b[0;34m.\u001b[0m\u001b[0mfrom_records\u001b[0m\u001b[0;34m(\u001b[0m\u001b[0mself\u001b[0m\u001b[0;34m.\u001b[0m\u001b[0mcollect\u001b[0m\u001b[0;34m(\u001b[0m\u001b[0;34m)\u001b[0m\u001b[0;34m,\u001b[0m \u001b[0mcolumns\u001b[0m\u001b[0;34m=\u001b[0m\u001b[0mself\u001b[0m\u001b[0;34m.\u001b[0m\u001b[0mcolumns\u001b[0m\u001b[0;34m)\u001b[0m\u001b[0;34m\u001b[0m\u001b[0;34m\u001b[0m\u001b[0m\n\u001b[0m\u001b[1;32m   2143\u001b[0m \u001b[0;34m\u001b[0m\u001b[0m\n\u001b[1;32m   2144\u001b[0m         \u001b[0mdtype\u001b[0m \u001b[0;34m=\u001b[0m \u001b[0;34m{\u001b[0m\u001b[0;34m}\u001b[0m\u001b[0;34m\u001b[0m\u001b[0;34m\u001b[0m\u001b[0m\n",
      "\u001b[0;32m/opt/cloudera/parcels/CDH/lib/spark/python/pyspark/sql/dataframe.py\u001b[0m in \u001b[0;36mcollect\u001b[0;34m(self)\u001b[0m\n\u001b[1;32m    532\u001b[0m         \u001b[0;32mwith\u001b[0m \u001b[0mSCCallSiteSync\u001b[0m\u001b[0;34m(\u001b[0m\u001b[0mself\u001b[0m\u001b[0;34m.\u001b[0m\u001b[0m_sc\u001b[0m\u001b[0;34m)\u001b[0m \u001b[0;32mas\u001b[0m \u001b[0mcss\u001b[0m\u001b[0;34m:\u001b[0m\u001b[0;34m\u001b[0m\u001b[0;34m\u001b[0m\u001b[0m\n\u001b[1;32m    533\u001b[0m             \u001b[0msock_info\u001b[0m \u001b[0;34m=\u001b[0m \u001b[0mself\u001b[0m\u001b[0;34m.\u001b[0m\u001b[0m_jdf\u001b[0m\u001b[0;34m.\u001b[0m\u001b[0mcollectToPython\u001b[0m\u001b[0;34m(\u001b[0m\u001b[0;34m)\u001b[0m\u001b[0;34m\u001b[0m\u001b[0;34m\u001b[0m\u001b[0m\n\u001b[0;32m--> 534\u001b[0;31m         \u001b[0;32mreturn\u001b[0m \u001b[0mlist\u001b[0m\u001b[0;34m(\u001b[0m\u001b[0m_load_from_socket\u001b[0m\u001b[0;34m(\u001b[0m\u001b[0msock_info\u001b[0m\u001b[0;34m,\u001b[0m \u001b[0mBatchedSerializer\u001b[0m\u001b[0;34m(\u001b[0m\u001b[0mPickleSerializer\u001b[0m\u001b[0;34m(\u001b[0m\u001b[0;34m)\u001b[0m\u001b[0;34m)\u001b[0m\u001b[0;34m)\u001b[0m\u001b[0;34m)\u001b[0m\u001b[0;34m\u001b[0m\u001b[0;34m\u001b[0m\u001b[0m\n\u001b[0m\u001b[1;32m    535\u001b[0m \u001b[0;34m\u001b[0m\u001b[0m\n\u001b[1;32m    536\u001b[0m     \u001b[0;34m@\u001b[0m\u001b[0mignore_unicode_prefix\u001b[0m\u001b[0;34m\u001b[0m\u001b[0;34m\u001b[0m\u001b[0m\n",
      "\u001b[0;32m/opt/cloudera/parcels/CDH/lib/spark/python/pyspark/serializers.py\u001b[0m in \u001b[0;36mload_stream\u001b[0;34m(self, stream)\u001b[0m\n\u001b[1;32m    145\u001b[0m         \u001b[0;32mwhile\u001b[0m \u001b[0;32mTrue\u001b[0m\u001b[0;34m:\u001b[0m\u001b[0;34m\u001b[0m\u001b[0;34m\u001b[0m\u001b[0m\n\u001b[1;32m    146\u001b[0m             \u001b[0;32mtry\u001b[0m\u001b[0;34m:\u001b[0m\u001b[0;34m\u001b[0m\u001b[0;34m\u001b[0m\u001b[0m\n\u001b[0;32m--> 147\u001b[0;31m                 \u001b[0;32myield\u001b[0m \u001b[0mself\u001b[0m\u001b[0;34m.\u001b[0m\u001b[0m_read_with_length\u001b[0m\u001b[0;34m(\u001b[0m\u001b[0mstream\u001b[0m\u001b[0;34m)\u001b[0m\u001b[0;34m\u001b[0m\u001b[0;34m\u001b[0m\u001b[0m\n\u001b[0m\u001b[1;32m    148\u001b[0m             \u001b[0;32mexcept\u001b[0m \u001b[0mEOFError\u001b[0m\u001b[0;34m:\u001b[0m\u001b[0;34m\u001b[0m\u001b[0;34m\u001b[0m\u001b[0m\n\u001b[1;32m    149\u001b[0m                 \u001b[0;32mreturn\u001b[0m\u001b[0;34m\u001b[0m\u001b[0;34m\u001b[0m\u001b[0m\n",
      "\u001b[0;32m/opt/cloudera/parcels/CDH/lib/spark/python/pyspark/serializers.py\u001b[0m in \u001b[0;36m_read_with_length\u001b[0;34m(self, stream)\u001b[0m\n\u001b[1;32m    170\u001b[0m         \u001b[0;32mif\u001b[0m \u001b[0mlen\u001b[0m\u001b[0;34m(\u001b[0m\u001b[0mobj\u001b[0m\u001b[0;34m)\u001b[0m \u001b[0;34m<\u001b[0m \u001b[0mlength\u001b[0m\u001b[0;34m:\u001b[0m\u001b[0;34m\u001b[0m\u001b[0;34m\u001b[0m\u001b[0m\n\u001b[1;32m    171\u001b[0m             \u001b[0;32mraise\u001b[0m \u001b[0mEOFError\u001b[0m\u001b[0;34m\u001b[0m\u001b[0;34m\u001b[0m\u001b[0m\n\u001b[0;32m--> 172\u001b[0;31m         \u001b[0;32mreturn\u001b[0m \u001b[0mself\u001b[0m\u001b[0;34m.\u001b[0m\u001b[0mloads\u001b[0m\u001b[0;34m(\u001b[0m\u001b[0mobj\u001b[0m\u001b[0;34m)\u001b[0m\u001b[0;34m\u001b[0m\u001b[0;34m\u001b[0m\u001b[0m\n\u001b[0m\u001b[1;32m    173\u001b[0m \u001b[0;34m\u001b[0m\u001b[0m\n\u001b[1;32m    174\u001b[0m     \u001b[0;32mdef\u001b[0m \u001b[0mdumps\u001b[0m\u001b[0;34m(\u001b[0m\u001b[0mself\u001b[0m\u001b[0;34m,\u001b[0m \u001b[0mobj\u001b[0m\u001b[0;34m)\u001b[0m\u001b[0;34m:\u001b[0m\u001b[0;34m\u001b[0m\u001b[0;34m\u001b[0m\u001b[0m\n",
      "\u001b[0;32m/opt/cloudera/parcels/CDH/lib/spark/python/pyspark/serializers.py\u001b[0m in \u001b[0;36mloads\u001b[0;34m(self, obj, encoding)\u001b[0m\n\u001b[1;32m    575\u001b[0m     \u001b[0;32mif\u001b[0m \u001b[0msys\u001b[0m\u001b[0;34m.\u001b[0m\u001b[0mversion\u001b[0m \u001b[0;34m>=\u001b[0m \u001b[0;34m'3'\u001b[0m\u001b[0;34m:\u001b[0m\u001b[0;34m\u001b[0m\u001b[0;34m\u001b[0m\u001b[0m\n\u001b[1;32m    576\u001b[0m         \u001b[0;32mdef\u001b[0m \u001b[0mloads\u001b[0m\u001b[0;34m(\u001b[0m\u001b[0mself\u001b[0m\u001b[0;34m,\u001b[0m \u001b[0mobj\u001b[0m\u001b[0;34m,\u001b[0m \u001b[0mencoding\u001b[0m\u001b[0;34m=\u001b[0m\u001b[0;34m\"bytes\"\u001b[0m\u001b[0;34m)\u001b[0m\u001b[0;34m:\u001b[0m\u001b[0;34m\u001b[0m\u001b[0;34m\u001b[0m\u001b[0m\n\u001b[0;32m--> 577\u001b[0;31m             \u001b[0;32mreturn\u001b[0m \u001b[0mpickle\u001b[0m\u001b[0;34m.\u001b[0m\u001b[0mloads\u001b[0m\u001b[0;34m(\u001b[0m\u001b[0mobj\u001b[0m\u001b[0;34m,\u001b[0m \u001b[0mencoding\u001b[0m\u001b[0;34m=\u001b[0m\u001b[0mencoding\u001b[0m\u001b[0;34m)\u001b[0m\u001b[0;34m\u001b[0m\u001b[0;34m\u001b[0m\u001b[0m\n\u001b[0m\u001b[1;32m    578\u001b[0m     \u001b[0;32melse\u001b[0m\u001b[0;34m:\u001b[0m\u001b[0;34m\u001b[0m\u001b[0;34m\u001b[0m\u001b[0m\n\u001b[1;32m    579\u001b[0m         \u001b[0;32mdef\u001b[0m \u001b[0mloads\u001b[0m\u001b[0;34m(\u001b[0m\u001b[0mself\u001b[0m\u001b[0;34m,\u001b[0m \u001b[0mobj\u001b[0m\u001b[0;34m,\u001b[0m \u001b[0mencoding\u001b[0m\u001b[0;34m=\u001b[0m\u001b[0;32mNone\u001b[0m\u001b[0;34m)\u001b[0m\u001b[0;34m:\u001b[0m\u001b[0;34m\u001b[0m\u001b[0;34m\u001b[0m\u001b[0m\n",
      "\u001b[0;32m/opt/cloudera/parcels/CDH/lib/spark/python/pyspark/sql/types.py\u001b[0m in \u001b[0;36m<lambda>\u001b[0;34m(*a)\u001b[0m\n\u001b[1;32m   1394\u001b[0m \u001b[0;31m# This is used to unpickle a Row from JVM\u001b[0m\u001b[0;34m\u001b[0m\u001b[0;34m\u001b[0m\u001b[0;34m\u001b[0m\u001b[0m\n\u001b[1;32m   1395\u001b[0m \u001b[0;32mdef\u001b[0m \u001b[0m_create_row_inbound_converter\u001b[0m\u001b[0;34m(\u001b[0m\u001b[0mdataType\u001b[0m\u001b[0;34m)\u001b[0m\u001b[0;34m:\u001b[0m\u001b[0;34m\u001b[0m\u001b[0;34m\u001b[0m\u001b[0m\n\u001b[0;32m-> 1396\u001b[0;31m     \u001b[0;32mreturn\u001b[0m \u001b[0;32mlambda\u001b[0m \u001b[0;34m*\u001b[0m\u001b[0ma\u001b[0m\u001b[0;34m:\u001b[0m \u001b[0mdataType\u001b[0m\u001b[0;34m.\u001b[0m\u001b[0mfromInternal\u001b[0m\u001b[0;34m(\u001b[0m\u001b[0ma\u001b[0m\u001b[0;34m)\u001b[0m\u001b[0;34m\u001b[0m\u001b[0;34m\u001b[0m\u001b[0m\n\u001b[0m\u001b[1;32m   1397\u001b[0m \u001b[0;34m\u001b[0m\u001b[0m\n\u001b[1;32m   1398\u001b[0m \u001b[0;34m\u001b[0m\u001b[0m\n",
      "\u001b[0;32m/opt/cloudera/parcels/CDH/lib/spark/python/pyspark/sql/types.py\u001b[0m in \u001b[0;36mfromInternal\u001b[0;34m(self, obj)\u001b[0m\n\u001b[1;32m    631\u001b[0m             \u001b[0;31m# Only calling fromInternal function for fields that need conversion\u001b[0m\u001b[0;34m\u001b[0m\u001b[0;34m\u001b[0m\u001b[0;34m\u001b[0m\u001b[0m\n\u001b[1;32m    632\u001b[0m             values = [f.fromInternal(v) if c else v\n\u001b[0;32m--> 633\u001b[0;31m                       for f, v, c in zip(self.fields, obj, self._needConversion)]\n\u001b[0m\u001b[1;32m    634\u001b[0m         \u001b[0;32melse\u001b[0m\u001b[0;34m:\u001b[0m\u001b[0;34m\u001b[0m\u001b[0;34m\u001b[0m\u001b[0m\n\u001b[1;32m    635\u001b[0m             \u001b[0mvalues\u001b[0m \u001b[0;34m=\u001b[0m \u001b[0mobj\u001b[0m\u001b[0;34m\u001b[0m\u001b[0;34m\u001b[0m\u001b[0m\n",
      "\u001b[0;32m/opt/cloudera/parcels/CDH/lib/spark/python/pyspark/sql/types.py\u001b[0m in \u001b[0;36m<listcomp>\u001b[0;34m(.0)\u001b[0m\n\u001b[1;32m    631\u001b[0m             \u001b[0;31m# Only calling fromInternal function for fields that need conversion\u001b[0m\u001b[0;34m\u001b[0m\u001b[0;34m\u001b[0m\u001b[0;34m\u001b[0m\u001b[0m\n\u001b[1;32m    632\u001b[0m             values = [f.fromInternal(v) if c else v\n\u001b[0;32m--> 633\u001b[0;31m                       for f, v, c in zip(self.fields, obj, self._needConversion)]\n\u001b[0m\u001b[1;32m    634\u001b[0m         \u001b[0;32melse\u001b[0m\u001b[0;34m:\u001b[0m\u001b[0;34m\u001b[0m\u001b[0;34m\u001b[0m\u001b[0m\n\u001b[1;32m    635\u001b[0m             \u001b[0mvalues\u001b[0m \u001b[0;34m=\u001b[0m \u001b[0mobj\u001b[0m\u001b[0;34m\u001b[0m\u001b[0;34m\u001b[0m\u001b[0m\n",
      "\u001b[0;32m/opt/cloudera/parcels/CDH/lib/spark/python/pyspark/sql/types.py\u001b[0m in \u001b[0;36mfromInternal\u001b[0;34m(self, obj)\u001b[0m\n\u001b[1;32m    443\u001b[0m \u001b[0;34m\u001b[0m\u001b[0m\n\u001b[1;32m    444\u001b[0m     \u001b[0;32mdef\u001b[0m \u001b[0mfromInternal\u001b[0m\u001b[0;34m(\u001b[0m\u001b[0mself\u001b[0m\u001b[0;34m,\u001b[0m \u001b[0mobj\u001b[0m\u001b[0;34m)\u001b[0m\u001b[0;34m:\u001b[0m\u001b[0;34m\u001b[0m\u001b[0;34m\u001b[0m\u001b[0m\n\u001b[0;32m--> 445\u001b[0;31m         \u001b[0;32mreturn\u001b[0m \u001b[0mself\u001b[0m\u001b[0;34m.\u001b[0m\u001b[0mdataType\u001b[0m\u001b[0;34m.\u001b[0m\u001b[0mfromInternal\u001b[0m\u001b[0;34m(\u001b[0m\u001b[0mobj\u001b[0m\u001b[0;34m)\u001b[0m\u001b[0;34m\u001b[0m\u001b[0;34m\u001b[0m\u001b[0m\n\u001b[0m\u001b[1;32m    446\u001b[0m \u001b[0;34m\u001b[0m\u001b[0m\n\u001b[1;32m    447\u001b[0m     \u001b[0;32mdef\u001b[0m \u001b[0mtypeName\u001b[0m\u001b[0;34m(\u001b[0m\u001b[0mself\u001b[0m\u001b[0;34m)\u001b[0m\u001b[0;34m:\u001b[0m\u001b[0;34m\u001b[0m\u001b[0;34m\u001b[0m\u001b[0m\n",
      "\u001b[0;32m/opt/cloudera/parcels/CDH/lib/spark/python/pyspark/sql/types.py\u001b[0m in \u001b[0;36mfromInternal\u001b[0;34m(self, ts)\u001b[0m\n\u001b[1;32m    197\u001b[0m         \u001b[0;32mif\u001b[0m \u001b[0mts\u001b[0m \u001b[0;32mis\u001b[0m \u001b[0;32mnot\u001b[0m \u001b[0;32mNone\u001b[0m\u001b[0;34m:\u001b[0m\u001b[0;34m\u001b[0m\u001b[0;34m\u001b[0m\u001b[0m\n\u001b[1;32m    198\u001b[0m             \u001b[0;31m# using int to avoid precision loss in float\u001b[0m\u001b[0;34m\u001b[0m\u001b[0;34m\u001b[0m\u001b[0;34m\u001b[0m\u001b[0m\n\u001b[0;32m--> 199\u001b[0;31m             \u001b[0;32mreturn\u001b[0m \u001b[0mdatetime\u001b[0m\u001b[0;34m.\u001b[0m\u001b[0mdatetime\u001b[0m\u001b[0;34m.\u001b[0m\u001b[0mfromtimestamp\u001b[0m\u001b[0;34m(\u001b[0m\u001b[0mts\u001b[0m \u001b[0;34m//\u001b[0m \u001b[0;36m1000000\u001b[0m\u001b[0;34m)\u001b[0m\u001b[0;34m.\u001b[0m\u001b[0mreplace\u001b[0m\u001b[0;34m(\u001b[0m\u001b[0mmicrosecond\u001b[0m\u001b[0;34m=\u001b[0m\u001b[0mts\u001b[0m \u001b[0;34m%\u001b[0m \u001b[0;36m1000000\u001b[0m\u001b[0;34m)\u001b[0m\u001b[0;34m\u001b[0m\u001b[0;34m\u001b[0m\u001b[0m\n\u001b[0m\u001b[1;32m    200\u001b[0m \u001b[0;34m\u001b[0m\u001b[0m\n\u001b[1;32m    201\u001b[0m \u001b[0;34m\u001b[0m\u001b[0m\n",
      "\u001b[0;31mKeyboardInterrupt\u001b[0m: "
     ]
    }
   ],
   "source": [
    "#https://github.com/saivishwanathgoud/ANOVA-Test-in-Python/blob/master/ANOVA%20prerequisties%20F-Test.ipynb\n",
    "\n",
    "pdf=kdf.to_pandas()"
   ]
  },
  {
   "cell_type": "code",
   "execution_count": null,
   "metadata": {
    "ExecuteTime": {
     "end_time": "2021-11-11T06:48:23.392558Z",
     "start_time": "2021-11-11T06:47:27.887Z"
    }
   },
   "outputs": [],
   "source": [
    "pdf.describe()"
   ]
  },
  {
   "cell_type": "code",
   "execution_count": 26,
   "metadata": {
    "ExecuteTime": {
     "end_time": "2021-11-11T01:55:17.731576Z",
     "start_time": "2021-11-11T01:55:17.727087Z"
    }
   },
   "outputs": [
    {
     "data": {
      "text/plain": [
       "jumlah_transaksi             int64\n",
       "total_berat                float64\n",
       "total_amount               float64\n",
       "segmentasi                  object\n",
       "agama                       object\n",
       "profesi                     object\n",
       "pendidikan                  object\n",
       "range_gaji                  object\n",
       "jenis_kelamin               object\n",
       "range_usia                  object\n",
       "status_kyc                  object\n",
       "source_kyc                  object\n",
       "flag                        object\n",
       "tgl_transaksi       datetime64[ns]\n",
       "jenis_transaksi             object\n",
       "client                      object\n",
       "region_nm                   object\n",
       "dtype: object"
      ]
     },
     "execution_count": 26,
     "metadata": {},
     "output_type": "execute_result"
    }
   ],
   "source": [
    "pdf.dtypes"
   ]
  },
  {
   "cell_type": "code",
   "execution_count": 28,
   "metadata": {
    "ExecuteTime": {
     "end_time": "2021-11-11T01:55:58.406330Z",
     "start_time": "2021-11-11T01:55:58.219304Z"
    }
   },
   "outputs": [
    {
     "data": {
      "text/plain": [
       "array(['Shopper', 'Best', 'Frequent', 'FirstTime', 'Uncertain',\n",
       "       'AboutToSleep', 'Valuable', 'Spenders'], dtype=object)"
      ]
     },
     "execution_count": 28,
     "metadata": {},
     "output_type": "execute_result"
    }
   ],
   "source": [
    "pdf[\"segmentasi\"].f()"
   ]
  },
  {
   "cell_type": "code",
   "execution_count": 58,
   "metadata": {
    "ExecuteTime": {
     "end_time": "2021-11-11T02:37:59.915316Z",
     "start_time": "2021-11-11T02:37:59.913298Z"
    }
   },
   "outputs": [],
   "source": [
    "import matplotlib.pyplot as plt "
   ]
  },
  {
   "cell_type": "code",
   "execution_count": 61,
   "metadata": {
    "ExecuteTime": {
     "end_time": "2021-11-11T03:31:50.634355Z",
     "start_time": "2021-11-11T03:31:47.547409Z"
    }
   },
   "outputs": [
    {
     "name": "stderr",
     "output_type": "stream",
     "text": [
      "/home/cdsw/.local/lib/python3.6/site-packages/seaborn/distributions.py:2557: FutureWarning: `distplot` is a deprecated function and will be removed in a future version. Please adapt your code to use either `displot` (a figure-level function with similar flexibility) or `histplot` (an axes-level function for histograms).\n",
      "  warnings.warn(msg, FutureWarning)\n",
      "/home/cdsw/.local/lib/python3.6/site-packages/seaborn/distributions.py:2557: FutureWarning: `distplot` is a deprecated function and will be removed in a future version. Please adapt your code to use either `displot` (a figure-level function with similar flexibility) or `histplot` (an axes-level function for histograms).\n",
      "  warnings.warn(msg, FutureWarning)\n",
      "/home/cdsw/.local/lib/python3.6/site-packages/seaborn/distributions.py:2557: FutureWarning: `distplot` is a deprecated function and will be removed in a future version. Please adapt your code to use either `displot` (a figure-level function with similar flexibility) or `histplot` (an axes-level function for histograms).\n",
      "  warnings.warn(msg, FutureWarning)\n",
      "/home/cdsw/.local/lib/python3.6/site-packages/seaborn/distributions.py:2557: FutureWarning: `distplot` is a deprecated function and will be removed in a future version. Please adapt your code to use either `displot` (a figure-level function with similar flexibility) or `histplot` (an axes-level function for histograms).\n",
      "  warnings.warn(msg, FutureWarning)\n",
      "/home/cdsw/.local/lib/python3.6/site-packages/seaborn/distributions.py:2595: RuntimeWarning: Mean of empty slice.\n",
      "  line, = ax.plot(a.mean(), 0)\n",
      "/home/cdsw/.local/lib/python3.6/site-packages/numpy/core/_methods.py:170: RuntimeWarning: invalid value encountered in double_scalars\n",
      "  ret = ret.dtype.type(ret / rcount)\n",
      "/home/cdsw/.local/lib/python3.6/site-packages/numpy/lib/histograms.py:905: RuntimeWarning: invalid value encountered in true_divide\n",
      "  return n/db/n.sum(), bin_edges\n",
      "/home/cdsw/.local/lib/python3.6/site-packages/seaborn/distributions.py:2557: FutureWarning: `distplot` is a deprecated function and will be removed in a future version. Please adapt your code to use either `displot` (a figure-level function with similar flexibility) or `histplot` (an axes-level function for histograms).\n",
      "  warnings.warn(msg, FutureWarning)\n"
     ]
    },
    {
     "data": {
      "text/plain": [
       "<matplotlib.axes._subplots.AxesSubplot at 0x7f186d7fed68>"
      ]
     },
     "execution_count": 61,
     "metadata": {},
     "output_type": "execute_result"
    },
    {
     "data": {
      "image/png": "[encoded data removed]",
      "text/plain": [
       "<Figure size 576x288 with 1 Axes>"
      ]
     },
     "metadata": {
      "needs_background": "light"
     },
     "output_type": "display_data"
    }
   ],
   "source": [
    "plt.figure(figsize = (8,4))\n",
    "plt.xlim([-0.5, 0.5])\n",
    "plt.grid(False)\n",
    "\n",
    "plt.rcParams.update({'font.size': 14})\n",
    "sns.distplot(pdf.loc[pdf[\"segmentasi\"] == \"Shopper\"][\"total_berat\"])\n",
    "sns.distplot(pdf.loc[pdf[\"segmentasi\"] == \"Best\"][\"total_berat\"])\n",
    "sns.distplot(pdf.loc[pdf[\"segmentasi\"] == \"Frequent\"][\"total_berat\"])\n",
    "sns.distplot(pdf.loc[pdf[\"segmentasi\"] == \"FirtTime\"][\"total_berat\"])\n",
    "sns.distplot(pdf.loc[pdf[\"segmentasi\"] == \"Uncertain\"][\"total_berat\"])\n",
    "sns.distplot(pdf.loc[pdf[\"segmentasi\"] == \"AboutToSleep\"][\"total_berat\"])"
   ]
  },
  {
   "cell_type": "code",
   "execution_count": 63,
   "metadata": {
    "ExecuteTime": {
     "end_time": "2021-11-11T03:36:28.212125Z",
     "start_time": "2021-11-11T03:36:28.109977Z"
    }
   },
   "outputs": [
    {
     "data": {
      "text/plain": [
       "array(['Outlet', 'Channel'], dtype=object)"
      ]
     },
     "execution_count": 63,
     "metadata": {},
     "output_type": "execute_result"
    }
   ],
   "source": [
    "pdf[\"source_kyc\"].unique()"
   ]
  },
  {
   "cell_type": "code",
   "execution_count": 69,
   "metadata": {
    "ExecuteTime": {
     "end_time": "2021-11-11T03:38:55.479437Z",
     "start_time": "2021-11-11T03:38:52.940158Z"
    }
   },
   "outputs": [
    {
     "name": "stderr",
     "output_type": "stream",
     "text": [
      "/home/cdsw/.local/lib/python3.6/site-packages/seaborn/distributions.py:2557: FutureWarning: `distplot` is a deprecated function and will be removed in a future version. Please adapt your code to use either `displot` (a figure-level function with similar flexibility) or `histplot` (an axes-level function for histograms).\n",
      "  warnings.warn(msg, FutureWarning)\n",
      "/home/cdsw/.local/lib/python3.6/site-packages/seaborn/distributions.py:2557: FutureWarning: `distplot` is a deprecated function and will be removed in a future version. Please adapt your code to use either `displot` (a figure-level function with similar flexibility) or `histplot` (an axes-level function for histograms).\n",
      "  warnings.warn(msg, FutureWarning)\n"
     ]
    },
    {
     "data": {
      "text/plain": [
       "<matplotlib.axes._subplots.AxesSubplot at 0x7f1869c66cc0>"
      ]
     },
     "execution_count": 69,
     "metadata": {},
     "output_type": "execute_result"
    },
    {
     "data": {
      "image/png": "[encoded data removed]",
      "text/plain": [
       "<Figure size 576x288 with 1 Axes>"
      ]
     },
     "metadata": {
      "needs_background": "light"
     },
     "output_type": "display_data"
    }
   ],
   "source": [
    "plt.figure(figsize = (8,4))\n",
    "plt.xlim([-1, 8])\n",
    "plt.grid(False)\n",
    "\n",
    "plt.rcParams.update({'font.size': 14})\n",
    "sns.distplot(pdf.loc[pdf[\"source_kyc\"] == \"Outlet\"][\"total_berat\"])\n",
    "sns.distplot(pdf.loc[pdf[\"source_kyc\"] == \"Channel\"][\"total_berat\"])"
   ]
  },
  {
   "cell_type": "code",
   "execution_count": 71,
   "metadata": {
    "ExecuteTime": {
     "end_time": "2021-11-11T03:39:24.966892Z",
     "start_time": "2021-11-11T03:39:22.449237Z"
    }
   },
   "outputs": [
    {
     "name": "stderr",
     "output_type": "stream",
     "text": [
      "/home/cdsw/.local/lib/python3.6/site-packages/seaborn/distributions.py:2557: FutureWarning: `distplot` is a deprecated function and will be removed in a future version. Please adapt your code to use either `displot` (a figure-level function with similar flexibility) or `histplot` (an axes-level function for histograms).\n",
      "  warnings.warn(msg, FutureWarning)\n",
      "/home/cdsw/.local/lib/python3.6/site-packages/seaborn/distributions.py:2557: FutureWarning: `distplot` is a deprecated function and will be removed in a future version. Please adapt your code to use either `displot` (a figure-level function with similar flexibility) or `histplot` (an axes-level function for histograms).\n",
      "  warnings.warn(msg, FutureWarning)\n"
     ]
    },
    {
     "data": {
      "text/plain": [
       "<matplotlib.axes._subplots.AxesSubplot at 0x7f1868843ef0>"
      ]
     },
     "execution_count": 71,
     "metadata": {},
     "output_type": "execute_result"
    },
    {
     "data": {
      "image/png": "[encoded data removed]",
      "text/plain": [
       "<Figure size 576x288 with 1 Axes>"
      ]
     },
     "metadata": {
      "needs_background": "light"
     },
     "output_type": "display_data"
    }
   ],
   "source": [
    "plt.figure(figsize = (8,4))\n",
    "plt.xlim([0, 5])\n",
    "plt.grid(False)\n",
    "\n",
    "plt.rcParams.update({'font.size': 14})\n",
    "sns.distplot(pdf.loc[pdf[\"source_kyc\"] == \"Outlet\"][\"jumlah_transaksi\"])\n",
    "sns.distplot(pdf.loc[pdf[\"source_kyc\"] == \"Channel\"][\"jumlah_transaksi\"])"
   ]
  },
  {
   "cell_type": "code",
   "execution_count": 72,
   "metadata": {
    "ExecuteTime": {
     "end_time": "2021-11-11T03:45:28.181203Z",
     "start_time": "2021-11-11T03:45:28.106852Z"
    }
   },
   "outputs": [
    {
     "data": {
      "text/plain": [
       "array(['Perempuan', 'Laki-laki'], dtype=object)"
      ]
     },
     "execution_count": 72,
     "metadata": {},
     "output_type": "execute_result"
    }
   ],
   "source": [
    "pdf[\"jenis_kelamin\"].unique()"
   ]
  },
  {
   "cell_type": "code",
   "execution_count": 78,
   "metadata": {
    "ExecuteTime": {
     "end_time": "2021-11-11T03:49:13.759594Z",
     "start_time": "2021-11-11T03:49:11.210459Z"
    }
   },
   "outputs": [
    {
     "name": "stderr",
     "output_type": "stream",
     "text": [
      "/home/cdsw/.local/lib/python3.6/site-packages/seaborn/distributions.py:2557: FutureWarning: `distplot` is a deprecated function and will be removed in a future version. Please adapt your code to use either `displot` (a figure-level function with similar flexibility) or `histplot` (an axes-level function for histograms).\n",
      "  warnings.warn(msg, FutureWarning)\n",
      "/home/cdsw/.local/lib/python3.6/site-packages/seaborn/distributions.py:2557: FutureWarning: `distplot` is a deprecated function and will be removed in a future version. Please adapt your code to use either `displot` (a figure-level function with similar flexibility) or `histplot` (an axes-level function for histograms).\n",
      "  warnings.warn(msg, FutureWarning)\n"
     ]
    },
    {
     "data": {
      "text/plain": [
       "<matplotlib.axes._subplots.AxesSubplot at 0x7f18647ae2e8>"
      ]
     },
     "execution_count": 78,
     "metadata": {},
     "output_type": "execute_result"
    },
    {
     "data": {
      "image/png": "[encoded data removed]",
      "text/plain": [
       "<Figure size 576x288 with 1 Axes>"
      ]
     },
     "metadata": {
      "needs_background": "light"
     },
     "output_type": "display_data"
    }
   ],
   "source": [
    " plt.figure(figsize = (8,4))\n",
    "plt.xlim([-20, 50])\n",
    "plt.grid(False)\n",
    "\n",
    "plt.rcParams.update({'font.size': 14})\n",
    "sns.distplot(pdf.loc[pdf[\"jenis_kelamin\"] == \"Perempuan\"][\"jumlah_transaksi\"])\n",
    "sns.distplot(pdf.loc[pdf[\"jenis_kelamin\"] == \"Laki-laki\"][\"jumlah_transaksi\"])"
   ]
  },
  {
   "cell_type": "code",
   "execution_count": 79,
   "metadata": {
    "ExecuteTime": {
     "end_time": "2021-11-11T03:49:54.962872Z",
     "start_time": "2021-11-11T03:49:52.476499Z"
    }
   },
   "outputs": [
    {
     "name": "stderr",
     "output_type": "stream",
     "text": [
      "/home/cdsw/.local/lib/python3.6/site-packages/seaborn/distributions.py:2557: FutureWarning: `distplot` is a deprecated function and will be removed in a future version. Please adapt your code to use either `displot` (a figure-level function with similar flexibility) or `histplot` (an axes-level function for histograms).\n",
      "  warnings.warn(msg, FutureWarning)\n",
      "/home/cdsw/.local/lib/python3.6/site-packages/seaborn/distributions.py:2557: FutureWarning: `distplot` is a deprecated function and will be removed in a future version. Please adapt your code to use either `displot` (a figure-level function with similar flexibility) or `histplot` (an axes-level function for histograms).\n",
      "  warnings.warn(msg, FutureWarning)\n"
     ]
    },
    {
     "data": {
      "text/plain": [
       "<matplotlib.axes._subplots.AxesSubplot at 0x7f1863fa3b70>"
      ]
     },
     "execution_count": 79,
     "metadata": {},
     "output_type": "execute_result"
    },
    {
     "data": {
      "image/png": "[encoded data removed]",
      "text/plain": [
       "<Figure size 576x288 with 1 Axes>"
      ]
     },
     "metadata": {
      "needs_background": "light"
     },
     "output_type": "display_data"
    }
   ],
   "source": [
    "plt.figure(figsize = (8,4))\n",
    "plt.xlim([-1, 5])\n",
    "plt.grid(False)\n",
    "\n",
    "plt.rcParams.update({'font.size': 14})\n",
    "sns.distplot(pdf.loc[pdf[\"jenis_kelamin\"] == \"Perempuan\"][\"total_berat\"])\n",
    "sns.distplot(pdf.loc[pdf[\"jenis_kelamin\"] == \"Laki-laki\"][\"total_berat\"])"
   ]
  },
  {
   "cell_type": "code",
   "execution_count": 80,
   "metadata": {
    "ExecuteTime": {
     "end_time": "2021-11-11T04:28:25.270949Z",
     "start_time": "2021-11-11T04:05:20.252021Z"
    }
   },
   "outputs": [
    {
     "ename": "KeyboardInterrupt",
     "evalue": "",
     "output_type": "error",
     "traceback": [
      "\u001b[0;31m---------------------------------------------------------------------------\u001b[0m",
      "\u001b[0;31mKeyboardInterrupt\u001b[0m                         Traceback (most recent call last)",
      "\u001b[0;32m<ipython-input-80-473c6d4f3226>\u001b[0m in \u001b[0;36m<module>\u001b[0;34m\u001b[0m\n\u001b[1;32m      1\u001b[0m \u001b[0max\u001b[0m \u001b[0;34m=\u001b[0m \u001b[0msns\u001b[0m\u001b[0;34m.\u001b[0m\u001b[0mboxplot\u001b[0m\u001b[0;34m(\u001b[0m\u001b[0mx\u001b[0m\u001b[0;34m=\u001b[0m\u001b[0;34m'jenis_kelamin'\u001b[0m\u001b[0;34m,\u001b[0m \u001b[0my\u001b[0m\u001b[0;34m=\u001b[0m\u001b[0;34m'jumlah_transaksi'\u001b[0m\u001b[0;34m,\u001b[0m \u001b[0mdata\u001b[0m\u001b[0;34m=\u001b[0m\u001b[0mpdf\u001b[0m\u001b[0;34m,\u001b[0m \u001b[0mcolor\u001b[0m\u001b[0;34m=\u001b[0m\u001b[0;34m'#99c2a2'\u001b[0m\u001b[0;34m)\u001b[0m\u001b[0;34m\u001b[0m\u001b[0;34m\u001b[0m\u001b[0m\n\u001b[0;32m----> 2\u001b[0;31m \u001b[0max\u001b[0m \u001b[0;34m=\u001b[0m \u001b[0msns\u001b[0m\u001b[0;34m.\u001b[0m\u001b[0mswarmplot\u001b[0m\u001b[0;34m(\u001b[0m\u001b[0mx\u001b[0m\u001b[0;34m=\u001b[0m\u001b[0;34m\"jenis_kelamin\"\u001b[0m\u001b[0;34m,\u001b[0m \u001b[0my\u001b[0m\u001b[0;34m=\u001b[0m\u001b[0;34m\"jumlah_transaksi\"\u001b[0m\u001b[0;34m,\u001b[0m \u001b[0mdata\u001b[0m\u001b[0;34m=\u001b[0m\u001b[0mpdf\u001b[0m\u001b[0;34m,\u001b[0m \u001b[0mcolor\u001b[0m\u001b[0;34m=\u001b[0m\u001b[0;34m'#7d0013'\u001b[0m\u001b[0;34m)\u001b[0m\u001b[0;34m\u001b[0m\u001b[0;34m\u001b[0m\u001b[0m\n\u001b[0m\u001b[1;32m      3\u001b[0m \u001b[0mplt\u001b[0m\u001b[0;34m.\u001b[0m\u001b[0mshow\u001b[0m\u001b[0;34m(\u001b[0m\u001b[0;34m)\u001b[0m\u001b[0;34m\u001b[0m\u001b[0;34m\u001b[0m\u001b[0m\n",
      "\u001b[0;32m~/.local/lib/python3.6/site-packages/seaborn/_decorators.py\u001b[0m in \u001b[0;36minner_f\u001b[0;34m(*args, **kwargs)\u001b[0m\n\u001b[1;32m     44\u001b[0m             )\n\u001b[1;32m     45\u001b[0m         \u001b[0mkwargs\u001b[0m\u001b[0;34m.\u001b[0m\u001b[0mupdate\u001b[0m\u001b[0;34m(\u001b[0m\u001b[0;34m{\u001b[0m\u001b[0mk\u001b[0m\u001b[0;34m:\u001b[0m \u001b[0marg\u001b[0m \u001b[0;32mfor\u001b[0m \u001b[0mk\u001b[0m\u001b[0;34m,\u001b[0m \u001b[0marg\u001b[0m \u001b[0;32min\u001b[0m \u001b[0mzip\u001b[0m\u001b[0;34m(\u001b[0m\u001b[0msig\u001b[0m\u001b[0;34m.\u001b[0m\u001b[0mparameters\u001b[0m\u001b[0;34m,\u001b[0m \u001b[0margs\u001b[0m\u001b[0;34m)\u001b[0m\u001b[0;34m}\u001b[0m\u001b[0;34m)\u001b[0m\u001b[0;34m\u001b[0m\u001b[0;34m\u001b[0m\u001b[0m\n\u001b[0;32m---> 46\u001b[0;31m         \u001b[0;32mreturn\u001b[0m \u001b[0mf\u001b[0m\u001b[0;34m(\u001b[0m\u001b[0;34m**\u001b[0m\u001b[0mkwargs\u001b[0m\u001b[0;34m)\u001b[0m\u001b[0;34m\u001b[0m\u001b[0;34m\u001b[0m\u001b[0m\n\u001b[0m\u001b[1;32m     47\u001b[0m     \u001b[0;32mreturn\u001b[0m \u001b[0minner_f\u001b[0m\u001b[0;34m\u001b[0m\u001b[0;34m\u001b[0m\u001b[0m\n\u001b[1;32m     48\u001b[0m \u001b[0;34m\u001b[0m\u001b[0m\n",
      "\u001b[0;32m~/.local/lib/python3.6/site-packages/seaborn/categorical.py\u001b[0m in \u001b[0;36mswarmplot\u001b[0;34m(x, y, hue, data, order, hue_order, dodge, orient, color, palette, size, edgecolor, linewidth, ax, **kwargs)\u001b[0m\n\u001b[1;32m   3014\u001b[0m                        linewidth=linewidth))\n\u001b[1;32m   3015\u001b[0m \u001b[0;34m\u001b[0m\u001b[0m\n\u001b[0;32m-> 3016\u001b[0;31m     \u001b[0mplotter\u001b[0m\u001b[0;34m.\u001b[0m\u001b[0mplot\u001b[0m\u001b[0;34m(\u001b[0m\u001b[0max\u001b[0m\u001b[0;34m,\u001b[0m \u001b[0mkwargs\u001b[0m\u001b[0;34m)\u001b[0m\u001b[0;34m\u001b[0m\u001b[0;34m\u001b[0m\u001b[0m\n\u001b[0m\u001b[1;32m   3017\u001b[0m     \u001b[0;32mreturn\u001b[0m \u001b[0max\u001b[0m\u001b[0;34m\u001b[0m\u001b[0;34m\u001b[0m\u001b[0m\n\u001b[1;32m   3018\u001b[0m \u001b[0;34m\u001b[0m\u001b[0m\n",
      "\u001b[0;32m~/.local/lib/python3.6/site-packages/seaborn/categorical.py\u001b[0m in \u001b[0;36mplot\u001b[0;34m(self, ax, kws)\u001b[0m\n\u001b[1;32m   1418\u001b[0m     \u001b[0;32mdef\u001b[0m \u001b[0mplot\u001b[0m\u001b[0;34m(\u001b[0m\u001b[0mself\u001b[0m\u001b[0;34m,\u001b[0m \u001b[0max\u001b[0m\u001b[0;34m,\u001b[0m \u001b[0mkws\u001b[0m\u001b[0;34m)\u001b[0m\u001b[0;34m:\u001b[0m\u001b[0;34m\u001b[0m\u001b[0;34m\u001b[0m\u001b[0m\n\u001b[1;32m   1419\u001b[0m         \u001b[0;34m\"\"\"Make the full plot.\"\"\"\u001b[0m\u001b[0;34m\u001b[0m\u001b[0;34m\u001b[0m\u001b[0m\n\u001b[0;32m-> 1420\u001b[0;31m         \u001b[0mself\u001b[0m\u001b[0;34m.\u001b[0m\u001b[0mdraw_swarmplot\u001b[0m\u001b[0;34m(\u001b[0m\u001b[0max\u001b[0m\u001b[0;34m,\u001b[0m \u001b[0mkws\u001b[0m\u001b[0;34m)\u001b[0m\u001b[0;34m\u001b[0m\u001b[0;34m\u001b[0m\u001b[0m\n\u001b[0m\u001b[1;32m   1421\u001b[0m         \u001b[0mself\u001b[0m\u001b[0;34m.\u001b[0m\u001b[0madd_legend_data\u001b[0m\u001b[0;34m(\u001b[0m\u001b[0max\u001b[0m\u001b[0;34m)\u001b[0m\u001b[0;34m\u001b[0m\u001b[0;34m\u001b[0m\u001b[0m\n\u001b[1;32m   1422\u001b[0m         \u001b[0mself\u001b[0m\u001b[0;34m.\u001b[0m\u001b[0mannotate_axes\u001b[0m\u001b[0;34m(\u001b[0m\u001b[0max\u001b[0m\u001b[0;34m)\u001b[0m\u001b[0;34m\u001b[0m\u001b[0;34m\u001b[0m\u001b[0m\n",
      "\u001b[0;32m~/.local/lib/python3.6/site-packages/seaborn/categorical.py\u001b[0m in \u001b[0;36mdraw_swarmplot\u001b[0;34m(self, ax, kws)\u001b[0m\n\u001b[1;32m   1414\u001b[0m         \u001b[0;32mfor\u001b[0m \u001b[0mcenter\u001b[0m\u001b[0;34m,\u001b[0m \u001b[0mswarm\u001b[0m \u001b[0;32min\u001b[0m \u001b[0mzip\u001b[0m\u001b[0;34m(\u001b[0m\u001b[0mcenters\u001b[0m\u001b[0;34m,\u001b[0m \u001b[0mswarms\u001b[0m\u001b[0;34m)\u001b[0m\u001b[0;34m:\u001b[0m\u001b[0;34m\u001b[0m\u001b[0;34m\u001b[0m\u001b[0m\n\u001b[1;32m   1415\u001b[0m             \u001b[0;32mif\u001b[0m \u001b[0mswarm\u001b[0m\u001b[0;34m.\u001b[0m\u001b[0mget_offsets\u001b[0m\u001b[0;34m(\u001b[0m\u001b[0;34m)\u001b[0m\u001b[0;34m.\u001b[0m\u001b[0msize\u001b[0m\u001b[0;34m:\u001b[0m\u001b[0;34m\u001b[0m\u001b[0;34m\u001b[0m\u001b[0m\n\u001b[0;32m-> 1416\u001b[0;31m                 \u001b[0mself\u001b[0m\u001b[0;34m.\u001b[0m\u001b[0mswarm_points\u001b[0m\u001b[0;34m(\u001b[0m\u001b[0max\u001b[0m\u001b[0;34m,\u001b[0m \u001b[0mswarm\u001b[0m\u001b[0;34m,\u001b[0m \u001b[0mcenter\u001b[0m\u001b[0;34m,\u001b[0m \u001b[0mwidth\u001b[0m\u001b[0;34m,\u001b[0m \u001b[0ms\u001b[0m\u001b[0;34m,\u001b[0m \u001b[0;34m**\u001b[0m\u001b[0mkws\u001b[0m\u001b[0;34m)\u001b[0m\u001b[0;34m\u001b[0m\u001b[0;34m\u001b[0m\u001b[0m\n\u001b[0m\u001b[1;32m   1417\u001b[0m \u001b[0;34m\u001b[0m\u001b[0m\n\u001b[1;32m   1418\u001b[0m     \u001b[0;32mdef\u001b[0m \u001b[0mplot\u001b[0m\u001b[0;34m(\u001b[0m\u001b[0mself\u001b[0m\u001b[0;34m,\u001b[0m \u001b[0max\u001b[0m\u001b[0;34m,\u001b[0m \u001b[0mkws\u001b[0m\u001b[0;34m)\u001b[0m\u001b[0;34m:\u001b[0m\u001b[0;34m\u001b[0m\u001b[0;34m\u001b[0m\u001b[0m\n",
      "\u001b[0;32m~/.local/lib/python3.6/site-packages/seaborn/categorical.py\u001b[0m in \u001b[0;36mswarm_points\u001b[0;34m(self, ax, points, center, width, s, **kws)\u001b[0m\n\u001b[1;32m   1316\u001b[0m \u001b[0;34m\u001b[0m\u001b[0m\n\u001b[1;32m   1317\u001b[0m         \u001b[0;31m# Do the beeswarm in point coordinates\u001b[0m\u001b[0;34m\u001b[0m\u001b[0;34m\u001b[0m\u001b[0;34m\u001b[0m\u001b[0m\n\u001b[0;32m-> 1318\u001b[0;31m         \u001b[0mnew_xy\u001b[0m \u001b[0;34m=\u001b[0m \u001b[0mself\u001b[0m\u001b[0;34m.\u001b[0m\u001b[0mbeeswarm\u001b[0m\u001b[0;34m(\u001b[0m\u001b[0morig_xy\u001b[0m\u001b[0;34m,\u001b[0m \u001b[0md\u001b[0m\u001b[0;34m)\u001b[0m\u001b[0;34m\u001b[0m\u001b[0;34m\u001b[0m\u001b[0m\n\u001b[0m\u001b[1;32m   1319\u001b[0m \u001b[0;34m\u001b[0m\u001b[0m\n\u001b[1;32m   1320\u001b[0m         \u001b[0;31m# Transform the point coordinates back to data coordinates\u001b[0m\u001b[0;34m\u001b[0m\u001b[0;34m\u001b[0m\u001b[0;34m\u001b[0m\u001b[0m\n",
      "\u001b[0;32m~/.local/lib/python3.6/site-packages/seaborn/categorical.py\u001b[0m in \u001b[0;36mbeeswarm\u001b[0;34m(self, orig_xy, d)\u001b[0m\n\u001b[1;32m   1269\u001b[0m             \u001b[0;31m# Find the first candidate that does not overlap any neighbours\u001b[0m\u001b[0;34m\u001b[0m\u001b[0;34m\u001b[0m\u001b[0;34m\u001b[0m\u001b[0m\n\u001b[1;32m   1270\u001b[0m             new_xy_i = self.first_non_overlapping_candidate(candidates,\n\u001b[0;32m-> 1271\u001b[0;31m                                                             neighbors, d)\n\u001b[0m\u001b[1;32m   1272\u001b[0m \u001b[0;34m\u001b[0m\u001b[0m\n\u001b[1;32m   1273\u001b[0m             \u001b[0;31m# Place it into the swarm\u001b[0m\u001b[0;34m\u001b[0m\u001b[0;34m\u001b[0m\u001b[0;34m\u001b[0m\u001b[0m\n",
      "\u001b[0;32m~/.local/lib/python3.6/site-packages/seaborn/categorical.py\u001b[0m in \u001b[0;36mfirst_non_overlapping_candidate\u001b[0;34m(self, candidates, neighbors, d)\u001b[0m\n\u001b[1;32m   1227\u001b[0m             \u001b[0mdy\u001b[0m \u001b[0;34m=\u001b[0m \u001b[0mneighbors_y\u001b[0m \u001b[0;34m-\u001b[0m \u001b[0my_i\u001b[0m\u001b[0;34m\u001b[0m\u001b[0;34m\u001b[0m\u001b[0m\n\u001b[1;32m   1228\u001b[0m \u001b[0;34m\u001b[0m\u001b[0m\n\u001b[0;32m-> 1229\u001b[0;31m             \u001b[0msq_distances\u001b[0m \u001b[0;34m=\u001b[0m \u001b[0mnp\u001b[0m\u001b[0;34m.\u001b[0m\u001b[0mpower\u001b[0m\u001b[0;34m(\u001b[0m\u001b[0mdx\u001b[0m\u001b[0;34m,\u001b[0m \u001b[0;36m2.0\u001b[0m\u001b[0;34m)\u001b[0m \u001b[0;34m+\u001b[0m \u001b[0mnp\u001b[0m\u001b[0;34m.\u001b[0m\u001b[0mpower\u001b[0m\u001b[0;34m(\u001b[0m\u001b[0mdy\u001b[0m\u001b[0;34m,\u001b[0m \u001b[0;36m2.0\u001b[0m\u001b[0;34m)\u001b[0m\u001b[0;34m\u001b[0m\u001b[0;34m\u001b[0m\u001b[0m\n\u001b[0m\u001b[1;32m   1230\u001b[0m \u001b[0;34m\u001b[0m\u001b[0m\n\u001b[1;32m   1231\u001b[0m             \u001b[0;31m# good candidate does not overlap any of neighbors\u001b[0m\u001b[0;34m\u001b[0m\u001b[0;34m\u001b[0m\u001b[0;34m\u001b[0m\u001b[0m\n",
      "\u001b[0;31mKeyboardInterrupt\u001b[0m: "
     ]
    },
    {
     "data": {
      "image/png": "[encoded data removed]",
      "text/plain": [
       "<Figure size 432x288 with 1 Axes>"
      ]
     },
     "metadata": {
      "needs_background": "light"
     },
     "output_type": "display_data"
    }
   ],
   "source": [
    "ax = sns.boxplot(x='jenis_kelamin', y='jumlah_transaksi', data=pdf, color='#99c2a2')\n",
    "ax = sns.swarmplot(x=\"jenis_kelamin\", y=\"jumlah_transaksi\", data=pdf, color='#7d0013')\n",
    "plt.show()"
   ]
  },
  {
   "cell_type": "code",
   "execution_count": 57,
   "metadata": {
    "ExecuteTime": {
     "end_time": "2021-11-11T06:57:02.457357Z",
     "start_time": "2021-11-11T06:57:02.453250Z"
    }
   },
   "outputs": [
    {
     "data": {
      "text/plain": [
       "jumlah_transaksi           float64\n",
       "total_berat                float64\n",
       "total_amount               float64\n",
       "segmentasi_encoded           int64\n",
       "agama_encoded                int64\n",
       "profesi_encoded              int64\n",
       "pendidikan_encoded           int64\n",
       "range_gaji_encoded           int64\n",
       "jk_encoded                   int64\n",
       "range_usia_encoded           int64\n",
       "status_kyc_encoded           int64\n",
       "source_kyc_encoded           int64\n",
       "flag_encoded                 int64\n",
       "jenis_transaksi_encoded      int64\n",
       "client_encoded               int64\n",
       "region_nm_encoded            int64\n",
       "dtype: object"
      ]
     },
     "execution_count": 57,
     "metadata": {},
     "output_type": "execute_result"
    }
   ],
   "source": [
    "scaled_df.dtypes"
   ]
  },
  {
   "cell_type": "code",
   "execution_count": 58,
   "metadata": {
    "ExecuteTime": {
     "end_time": "2021-11-11T07:15:45.420538Z",
     "start_time": "2021-11-11T07:15:45.194734Z"
    }
   },
   "outputs": [
    {
     "name": "stderr",
     "output_type": "stream",
     "text": [
      "/home/cdsw/.local/lib/python3.6/site-packages/seaborn/distributions.py:2557: FutureWarning: `distplot` is a deprecated function and will be removed in a future version. Please adapt your code to use either `displot` (a figure-level function with similar flexibility) or `histplot` (an axes-level function for histograms).\n",
      "  warnings.warn(msg, FutureWarning)\n",
      "/home/cdsw/.local/lib/python3.6/site-packages/seaborn/distributions.py:2595: RuntimeWarning: Mean of empty slice.\n",
      "  line, = ax.plot(a.mean(), 0)\n",
      "/home/cdsw/.local/lib/python3.6/site-packages/numpy/core/_methods.py:170: RuntimeWarning: invalid value encountered in double_scalars\n",
      "  ret = ret.dtype.type(ret / rcount)\n",
      "/home/cdsw/.local/lib/python3.6/site-packages/numpy/lib/histograms.py:905: RuntimeWarning: invalid value encountered in true_divide\n",
      "  return n/db/n.sum(), bin_edges\n"
     ]
    },
    {
     "data": {
      "text/plain": [
       "<matplotlib.axes._subplots.AxesSubplot at 0x7fe541569240>"
      ]
     },
     "execution_count": 58,
     "metadata": {},
     "output_type": "execute_result"
    },
    {
     "data": {
      "image/png": "[encoded data removed]",
      "text/plain": [
       "<Figure size 576x288 with 1 Axes>"
      ]
     },
     "metadata": {
      "needs_background": "light"
     },
     "output_type": "display_data"
    }
   ],
   "source": [
    "plt.figure(figsize = (8,4))\n",
    "plt.xlim([0, 5])\n",
    "plt.grid(False)\n",
    "\n",
    "plt.rcParams.update({'font.size': 14})\n",
    "sns.distplot(scaled_df.loc[scaled_df[\"source_kyc_encoded\"] == \"Outlet\"][\"jumlah_transaksi\"])\n",
    "sns.distplot(scaled_df.loc[scaled_df[\"source_kyc_encoded\"] == \"Channel\"][\"jumlah_transaksi\"])"
   ]
  },
  {
   "cell_type": "code",
   "execution_count": null,
   "metadata": {},
   "outputs": [],
   "source": [
    "plt.figure(figsize = (8,4))\n",
    "plt.xlim([0, 5])\n",
    "plt.grid(False)\n",
    "\n",
    "plt.rcParams.update({'font.size': 14})\n",
    "sns.distplot(pdf.loc[pdf[\"segmentasi\"] == \"Shopper\"][\"total_berat\"])\n",
    "sns.distplot(pdf.loc[pdf[\"segmentasi\"] == \"Best\"][\"total_berat\"])\n",
    "sns.distplot(pdf.loc[pdf[\"segmentasi\"] == \"Frequent\"][\"total_berat\"])\n",
    "sns.distplot(pdf.loc[pdf[\"segmentasi\"] == \"FirtTime\"][\"total_berat\"])\n",
    "sns.distplot(pdf.loc[pdf[\"segmentasi\"] == \"Uncertain\"][\"total_berat\"])\n",
    "sns.distplot(pdf.loc[pdf[\"segmentasi\"] == \"AboutToSleep\"][\"total_berat\"])"
   ]
  },
  {
   "cell_type": "code",
   "execution_count": null,
   "metadata": {},
   "outputs": [],
   "source": []
  }
 ],
 "metadata": {
  "hide_input": false,
  "kernelspec": {
   "display_name": "Python 3",
   "language": "python",
   "name": "python3"
  },
  "language_info": {
   "codemirror_mode": {
    "name": "ipython",
    "version": 3
   },
   "file_extension": ".py",
   "mimetype": "text/x-python",
   "name": "python",
   "nbconvert_exporter": "python",
   "pygments_lexer": "ipython3",
   "version": "3.6.8"
  },
  "toc": {
   "base_numbering": 1,
   "nav_menu": {},
   "number_sections": true,
   "sideBar": true,
   "skip_h1_title": false,
   "title_cell": "Table of Contents",
   "title_sidebar": "Contents",
   "toc_cell": false,
   "toc_position": {
    "height": "calc(100% - 180px)",
    "left": "10px",
    "top": "150px",
    "width": "165px"
   },
   "toc_section_display": true,
   "toc_window_display": true
  }
 },
 "nbformat": 4,
 "nbformat_minor": 2
}
